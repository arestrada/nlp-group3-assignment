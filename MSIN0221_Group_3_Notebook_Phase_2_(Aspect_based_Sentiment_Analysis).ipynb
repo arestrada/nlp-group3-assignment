{
  "cells": [
    {
      "cell_type": "markdown",
      "metadata": {
        "id": "view-in-github",
        "colab_type": "text"
      },
      "source": [
        "<a href=\"https://colab.research.google.com/github/arestrada/nlp-group3-assignment/blob/main/MSIN0221_Group_3_Notebook_Phase_2_(Aspect_based_Sentiment_Analysis).ipynb\" target=\"_parent\"><img src=\"https://colab.research.google.com/assets/colab-badge.svg\" alt=\"Open In Colab\"/></a>"
      ]
    },
    {
      "cell_type": "markdown",
      "metadata": {
        "id": "04IgM_euWWC7"
      },
      "source": [
        "# Dataset and package loading"
      ]
    },
    {
      "cell_type": "code",
      "execution_count": 3,
      "metadata": {
        "colab": {
          "base_uri": "https://localhost:8080/"
        },
        "id": "7w0IVV1ZM88P",
        "outputId": "54e034ec-bb45-4c33-dee0-e8de1380f3d4"
      },
      "outputs": [
        {
          "output_type": "stream",
          "name": "stdout",
          "text": [
            "Mounted at /content/drive\n"
          ]
        }
      ],
      "source": [
        "# Mount Google Drive to save datasets permanently\n",
        "from google.colab import drive\n",
        "drive.mount('/content/drive')"
      ]
    },
    {
      "cell_type": "code",
      "execution_count": 4,
      "metadata": {
        "colab": {
          "base_uri": "https://localhost:8080/"
        },
        "id": "lqNpr4xBM-jO",
        "outputId": "a207a0c9-eb3b-45a2-ad14-6b4a5d2604bb"
      },
      "outputs": [
        {
          "output_type": "stream",
          "name": "stdout",
          "text": [
            "Collecting datasets\n",
            "  Downloading datasets-3.5.0-py3-none-any.whl.metadata (19 kB)\n",
            "Requirement already satisfied: filelock in /usr/local/lib/python3.11/dist-packages (from datasets) (3.18.0)\n",
            "Requirement already satisfied: numpy>=1.17 in /usr/local/lib/python3.11/dist-packages (from datasets) (2.0.2)\n",
            "Requirement already satisfied: pyarrow>=15.0.0 in /usr/local/lib/python3.11/dist-packages (from datasets) (18.1.0)\n",
            "Collecting dill<0.3.9,>=0.3.0 (from datasets)\n",
            "  Downloading dill-0.3.8-py3-none-any.whl.metadata (10 kB)\n",
            "Requirement already satisfied: pandas in /usr/local/lib/python3.11/dist-packages (from datasets) (2.2.2)\n",
            "Requirement already satisfied: requests>=2.32.2 in /usr/local/lib/python3.11/dist-packages (from datasets) (2.32.3)\n",
            "Requirement already satisfied: tqdm>=4.66.3 in /usr/local/lib/python3.11/dist-packages (from datasets) (4.67.1)\n",
            "Collecting xxhash (from datasets)\n",
            "  Downloading xxhash-3.5.0-cp311-cp311-manylinux_2_17_x86_64.manylinux2014_x86_64.whl.metadata (12 kB)\n",
            "Collecting multiprocess<0.70.17 (from datasets)\n",
            "  Downloading multiprocess-0.70.16-py311-none-any.whl.metadata (7.2 kB)\n",
            "Collecting fsspec<=2024.12.0,>=2023.1.0 (from fsspec[http]<=2024.12.0,>=2023.1.0->datasets)\n",
            "  Downloading fsspec-2024.12.0-py3-none-any.whl.metadata (11 kB)\n",
            "Requirement already satisfied: aiohttp in /usr/local/lib/python3.11/dist-packages (from datasets) (3.11.14)\n",
            "Requirement already satisfied: huggingface-hub>=0.24.0 in /usr/local/lib/python3.11/dist-packages (from datasets) (0.29.3)\n",
            "Requirement already satisfied: packaging in /usr/local/lib/python3.11/dist-packages (from datasets) (24.2)\n",
            "Requirement already satisfied: pyyaml>=5.1 in /usr/local/lib/python3.11/dist-packages (from datasets) (6.0.2)\n",
            "Requirement already satisfied: aiohappyeyeballs>=2.3.0 in /usr/local/lib/python3.11/dist-packages (from aiohttp->datasets) (2.6.1)\n",
            "Requirement already satisfied: aiosignal>=1.1.2 in /usr/local/lib/python3.11/dist-packages (from aiohttp->datasets) (1.3.2)\n",
            "Requirement already satisfied: attrs>=17.3.0 in /usr/local/lib/python3.11/dist-packages (from aiohttp->datasets) (25.3.0)\n",
            "Requirement already satisfied: frozenlist>=1.1.1 in /usr/local/lib/python3.11/dist-packages (from aiohttp->datasets) (1.5.0)\n",
            "Requirement already satisfied: multidict<7.0,>=4.5 in /usr/local/lib/python3.11/dist-packages (from aiohttp->datasets) (6.2.0)\n",
            "Requirement already satisfied: propcache>=0.2.0 in /usr/local/lib/python3.11/dist-packages (from aiohttp->datasets) (0.3.0)\n",
            "Requirement already satisfied: yarl<2.0,>=1.17.0 in /usr/local/lib/python3.11/dist-packages (from aiohttp->datasets) (1.18.3)\n",
            "Requirement already satisfied: typing-extensions>=3.7.4.3 in /usr/local/lib/python3.11/dist-packages (from huggingface-hub>=0.24.0->datasets) (4.12.2)\n",
            "Requirement already satisfied: charset-normalizer<4,>=2 in /usr/local/lib/python3.11/dist-packages (from requests>=2.32.2->datasets) (3.4.1)\n",
            "Requirement already satisfied: idna<4,>=2.5 in /usr/local/lib/python3.11/dist-packages (from requests>=2.32.2->datasets) (3.10)\n",
            "Requirement already satisfied: urllib3<3,>=1.21.1 in /usr/local/lib/python3.11/dist-packages (from requests>=2.32.2->datasets) (2.3.0)\n",
            "Requirement already satisfied: certifi>=2017.4.17 in /usr/local/lib/python3.11/dist-packages (from requests>=2.32.2->datasets) (2025.1.31)\n",
            "Requirement already satisfied: python-dateutil>=2.8.2 in /usr/local/lib/python3.11/dist-packages (from pandas->datasets) (2.8.2)\n",
            "Requirement already satisfied: pytz>=2020.1 in /usr/local/lib/python3.11/dist-packages (from pandas->datasets) (2025.1)\n",
            "Requirement already satisfied: tzdata>=2022.7 in /usr/local/lib/python3.11/dist-packages (from pandas->datasets) (2025.1)\n",
            "Requirement already satisfied: six>=1.5 in /usr/local/lib/python3.11/dist-packages (from python-dateutil>=2.8.2->pandas->datasets) (1.17.0)\n",
            "Downloading datasets-3.5.0-py3-none-any.whl (491 kB)\n",
            "\u001b[2K   \u001b[90m━━━━━━━━━━━━━━━━━━━━━━━━━━━━━━━━━━━━━━━━\u001b[0m \u001b[32m491.2/491.2 kB\u001b[0m \u001b[31m31.9 MB/s\u001b[0m eta \u001b[36m0:00:00\u001b[0m\n",
            "\u001b[?25hDownloading dill-0.3.8-py3-none-any.whl (116 kB)\n",
            "\u001b[2K   \u001b[90m━━━━━━━━━━━━━━━━━━━━━━━━━━━━━━━━━━━━━━━━\u001b[0m \u001b[32m116.3/116.3 kB\u001b[0m \u001b[31m10.2 MB/s\u001b[0m eta \u001b[36m0:00:00\u001b[0m\n",
            "\u001b[?25hDownloading fsspec-2024.12.0-py3-none-any.whl (183 kB)\n",
            "\u001b[2K   \u001b[90m━━━━━━━━━━━━━━━━━━━━━━━━━━━━━━━━━━━━━━━━\u001b[0m \u001b[32m183.9/183.9 kB\u001b[0m \u001b[31m16.8 MB/s\u001b[0m eta \u001b[36m0:00:00\u001b[0m\n",
            "\u001b[?25hDownloading multiprocess-0.70.16-py311-none-any.whl (143 kB)\n",
            "\u001b[2K   \u001b[90m━━━━━━━━━━━━━━━━━━━━━━━━━━━━━━━━━━━━━━━━\u001b[0m \u001b[32m143.5/143.5 kB\u001b[0m \u001b[31m12.7 MB/s\u001b[0m eta \u001b[36m0:00:00\u001b[0m\n",
            "\u001b[?25hDownloading xxhash-3.5.0-cp311-cp311-manylinux_2_17_x86_64.manylinux2014_x86_64.whl (194 kB)\n",
            "\u001b[2K   \u001b[90m━━━━━━━━━━━━━━━━━━━━━━━━━━━━━━━━━━━━━━━━\u001b[0m \u001b[32m194.8/194.8 kB\u001b[0m \u001b[31m18.1 MB/s\u001b[0m eta \u001b[36m0:00:00\u001b[0m\n",
            "\u001b[?25hInstalling collected packages: xxhash, fsspec, dill, multiprocess, datasets\n",
            "  Attempting uninstall: fsspec\n",
            "    Found existing installation: fsspec 2025.3.0\n",
            "    Uninstalling fsspec-2025.3.0:\n",
            "      Successfully uninstalled fsspec-2025.3.0\n",
            "\u001b[31mERROR: pip's dependency resolver does not currently take into account all the packages that are installed. This behaviour is the source of the following dependency conflicts.\n",
            "torch 2.6.0+cu124 requires nvidia-cublas-cu12==12.4.5.8; platform_system == \"Linux\" and platform_machine == \"x86_64\", but you have nvidia-cublas-cu12 12.5.3.2 which is incompatible.\n",
            "torch 2.6.0+cu124 requires nvidia-cuda-cupti-cu12==12.4.127; platform_system == \"Linux\" and platform_machine == \"x86_64\", but you have nvidia-cuda-cupti-cu12 12.5.82 which is incompatible.\n",
            "torch 2.6.0+cu124 requires nvidia-cuda-nvrtc-cu12==12.4.127; platform_system == \"Linux\" and platform_machine == \"x86_64\", but you have nvidia-cuda-nvrtc-cu12 12.5.82 which is incompatible.\n",
            "torch 2.6.0+cu124 requires nvidia-cuda-runtime-cu12==12.4.127; platform_system == \"Linux\" and platform_machine == \"x86_64\", but you have nvidia-cuda-runtime-cu12 12.5.82 which is incompatible.\n",
            "torch 2.6.0+cu124 requires nvidia-cudnn-cu12==9.1.0.70; platform_system == \"Linux\" and platform_machine == \"x86_64\", but you have nvidia-cudnn-cu12 9.3.0.75 which is incompatible.\n",
            "torch 2.6.0+cu124 requires nvidia-cufft-cu12==11.2.1.3; platform_system == \"Linux\" and platform_machine == \"x86_64\", but you have nvidia-cufft-cu12 11.2.3.61 which is incompatible.\n",
            "torch 2.6.0+cu124 requires nvidia-curand-cu12==10.3.5.147; platform_system == \"Linux\" and platform_machine == \"x86_64\", but you have nvidia-curand-cu12 10.3.6.82 which is incompatible.\n",
            "torch 2.6.0+cu124 requires nvidia-cusolver-cu12==11.6.1.9; platform_system == \"Linux\" and platform_machine == \"x86_64\", but you have nvidia-cusolver-cu12 11.6.3.83 which is incompatible.\n",
            "torch 2.6.0+cu124 requires nvidia-cusparse-cu12==12.3.1.170; platform_system == \"Linux\" and platform_machine == \"x86_64\", but you have nvidia-cusparse-cu12 12.5.1.3 which is incompatible.\n",
            "torch 2.6.0+cu124 requires nvidia-nvjitlink-cu12==12.4.127; platform_system == \"Linux\" and platform_machine == \"x86_64\", but you have nvidia-nvjitlink-cu12 12.5.82 which is incompatible.\n",
            "gcsfs 2025.3.0 requires fsspec==2025.3.0, but you have fsspec 2024.12.0 which is incompatible.\u001b[0m\u001b[31m\n",
            "\u001b[0mSuccessfully installed datasets-3.5.0 dill-0.3.8 fsspec-2024.12.0 multiprocess-0.70.16 xxhash-3.5.0\n",
            "Requirement already satisfied: pandas in /usr/local/lib/python3.11/dist-packages (2.2.2)\n",
            "Requirement already satisfied: numpy in /usr/local/lib/python3.11/dist-packages (2.0.2)\n",
            "Requirement already satisfied: beautifulsoup4 in /usr/local/lib/python3.11/dist-packages (4.13.3)\n",
            "Requirement already satisfied: spacy in /usr/local/lib/python3.11/dist-packages (3.8.4)\n",
            "Collecting emoji\n",
            "  Downloading emoji-2.14.1-py3-none-any.whl.metadata (5.7 kB)\n",
            "Collecting contractions\n",
            "  Downloading contractions-0.1.73-py2.py3-none-any.whl.metadata (1.2 kB)\n",
            "Collecting ekphrasis\n",
            "  Downloading ekphrasis-0.5.4-py3-none-any.whl.metadata (610 bytes)\n",
            "Requirement already satisfied: textblob in /usr/local/lib/python3.11/dist-packages (0.19.0)\n",
            "Requirement already satisfied: python-dateutil>=2.8.2 in /usr/local/lib/python3.11/dist-packages (from pandas) (2.8.2)\n",
            "Requirement already satisfied: pytz>=2020.1 in /usr/local/lib/python3.11/dist-packages (from pandas) (2025.1)\n",
            "Requirement already satisfied: tzdata>=2022.7 in /usr/local/lib/python3.11/dist-packages (from pandas) (2025.1)\n",
            "Requirement already satisfied: soupsieve>1.2 in /usr/local/lib/python3.11/dist-packages (from beautifulsoup4) (2.6)\n",
            "Requirement already satisfied: typing-extensions>=4.0.0 in /usr/local/lib/python3.11/dist-packages (from beautifulsoup4) (4.12.2)\n",
            "Requirement already satisfied: spacy-legacy<3.1.0,>=3.0.11 in /usr/local/lib/python3.11/dist-packages (from spacy) (3.0.12)\n",
            "Requirement already satisfied: spacy-loggers<2.0.0,>=1.0.0 in /usr/local/lib/python3.11/dist-packages (from spacy) (1.0.5)\n",
            "Requirement already satisfied: murmurhash<1.1.0,>=0.28.0 in /usr/local/lib/python3.11/dist-packages (from spacy) (1.0.12)\n",
            "Requirement already satisfied: cymem<2.1.0,>=2.0.2 in /usr/local/lib/python3.11/dist-packages (from spacy) (2.0.11)\n",
            "Requirement already satisfied: preshed<3.1.0,>=3.0.2 in /usr/local/lib/python3.11/dist-packages (from spacy) (3.0.9)\n",
            "Requirement already satisfied: thinc<8.4.0,>=8.3.4 in /usr/local/lib/python3.11/dist-packages (from spacy) (8.3.4)\n",
            "Requirement already satisfied: wasabi<1.2.0,>=0.9.1 in /usr/local/lib/python3.11/dist-packages (from spacy) (1.1.3)\n",
            "Requirement already satisfied: srsly<3.0.0,>=2.4.3 in /usr/local/lib/python3.11/dist-packages (from spacy) (2.5.1)\n",
            "Requirement already satisfied: catalogue<2.1.0,>=2.0.6 in /usr/local/lib/python3.11/dist-packages (from spacy) (2.0.10)\n",
            "Requirement already satisfied: weasel<0.5.0,>=0.1.0 in /usr/local/lib/python3.11/dist-packages (from spacy) (0.4.1)\n",
            "Requirement already satisfied: typer<1.0.0,>=0.3.0 in /usr/local/lib/python3.11/dist-packages (from spacy) (0.15.2)\n",
            "Requirement already satisfied: tqdm<5.0.0,>=4.38.0 in /usr/local/lib/python3.11/dist-packages (from spacy) (4.67.1)\n",
            "Requirement already satisfied: requests<3.0.0,>=2.13.0 in /usr/local/lib/python3.11/dist-packages (from spacy) (2.32.3)\n",
            "Requirement already satisfied: pydantic!=1.8,!=1.8.1,<3.0.0,>=1.7.4 in /usr/local/lib/python3.11/dist-packages (from spacy) (2.10.6)\n",
            "Requirement already satisfied: jinja2 in /usr/local/lib/python3.11/dist-packages (from spacy) (3.1.6)\n",
            "Requirement already satisfied: setuptools in /usr/local/lib/python3.11/dist-packages (from spacy) (75.1.0)\n",
            "Requirement already satisfied: packaging>=20.0 in /usr/local/lib/python3.11/dist-packages (from spacy) (24.2)\n",
            "Requirement already satisfied: langcodes<4.0.0,>=3.2.0 in /usr/local/lib/python3.11/dist-packages (from spacy) (3.5.0)\n",
            "Collecting textsearch>=0.0.21 (from contractions)\n",
            "  Downloading textsearch-0.0.24-py2.py3-none-any.whl.metadata (1.2 kB)\n",
            "Requirement already satisfied: termcolor in /usr/local/lib/python3.11/dist-packages (from ekphrasis) (2.5.0)\n",
            "Collecting colorama (from ekphrasis)\n",
            "  Downloading colorama-0.4.6-py2.py3-none-any.whl.metadata (17 kB)\n",
            "Collecting ujson (from ekphrasis)\n",
            "  Downloading ujson-5.10.0-cp311-cp311-manylinux_2_17_x86_64.manylinux2014_x86_64.whl.metadata (9.3 kB)\n",
            "Requirement already satisfied: matplotlib in /usr/local/lib/python3.11/dist-packages (from ekphrasis) (3.10.0)\n",
            "Requirement already satisfied: nltk in /usr/local/lib/python3.11/dist-packages (from ekphrasis) (3.9.1)\n",
            "Collecting ftfy (from ekphrasis)\n",
            "  Downloading ftfy-6.3.1-py3-none-any.whl.metadata (7.3 kB)\n",
            "Requirement already satisfied: language-data>=1.2 in /usr/local/lib/python3.11/dist-packages (from langcodes<4.0.0,>=3.2.0->spacy) (1.3.0)\n",
            "Requirement already satisfied: click in /usr/local/lib/python3.11/dist-packages (from nltk->ekphrasis) (8.1.8)\n",
            "Requirement already satisfied: joblib in /usr/local/lib/python3.11/dist-packages (from nltk->ekphrasis) (1.4.2)\n",
            "Requirement already satisfied: regex>=2021.8.3 in /usr/local/lib/python3.11/dist-packages (from nltk->ekphrasis) (2024.11.6)\n",
            "Requirement already satisfied: annotated-types>=0.6.0 in /usr/local/lib/python3.11/dist-packages (from pydantic!=1.8,!=1.8.1,<3.0.0,>=1.7.4->spacy) (0.7.0)\n",
            "Requirement already satisfied: pydantic-core==2.27.2 in /usr/local/lib/python3.11/dist-packages (from pydantic!=1.8,!=1.8.1,<3.0.0,>=1.7.4->spacy) (2.27.2)\n",
            "Requirement already satisfied: six>=1.5 in /usr/local/lib/python3.11/dist-packages (from python-dateutil>=2.8.2->pandas) (1.17.0)\n",
            "Requirement already satisfied: charset-normalizer<4,>=2 in /usr/local/lib/python3.11/dist-packages (from requests<3.0.0,>=2.13.0->spacy) (3.4.1)\n",
            "Requirement already satisfied: idna<4,>=2.5 in /usr/local/lib/python3.11/dist-packages (from requests<3.0.0,>=2.13.0->spacy) (3.10)\n",
            "Requirement already satisfied: urllib3<3,>=1.21.1 in /usr/local/lib/python3.11/dist-packages (from requests<3.0.0,>=2.13.0->spacy) (2.3.0)\n",
            "Requirement already satisfied: certifi>=2017.4.17 in /usr/local/lib/python3.11/dist-packages (from requests<3.0.0,>=2.13.0->spacy) (2025.1.31)\n",
            "Collecting anyascii (from textsearch>=0.0.21->contractions)\n",
            "  Downloading anyascii-0.3.2-py3-none-any.whl.metadata (1.5 kB)\n",
            "Collecting pyahocorasick (from textsearch>=0.0.21->contractions)\n",
            "  Downloading pyahocorasick-2.1.0-cp311-cp311-manylinux_2_17_x86_64.manylinux2014_x86_64.whl.metadata (13 kB)\n",
            "Requirement already satisfied: blis<1.3.0,>=1.2.0 in /usr/local/lib/python3.11/dist-packages (from thinc<8.4.0,>=8.3.4->spacy) (1.2.0)\n",
            "Requirement already satisfied: confection<1.0.0,>=0.0.1 in /usr/local/lib/python3.11/dist-packages (from thinc<8.4.0,>=8.3.4->spacy) (0.1.5)\n",
            "Requirement already satisfied: shellingham>=1.3.0 in /usr/local/lib/python3.11/dist-packages (from typer<1.0.0,>=0.3.0->spacy) (1.5.4)\n",
            "Requirement already satisfied: rich>=10.11.0 in /usr/local/lib/python3.11/dist-packages (from typer<1.0.0,>=0.3.0->spacy) (13.9.4)\n",
            "Requirement already satisfied: cloudpathlib<1.0.0,>=0.7.0 in /usr/local/lib/python3.11/dist-packages (from weasel<0.5.0,>=0.1.0->spacy) (0.21.0)\n",
            "Requirement already satisfied: smart-open<8.0.0,>=5.2.1 in /usr/local/lib/python3.11/dist-packages (from weasel<0.5.0,>=0.1.0->spacy) (7.1.0)\n",
            "Requirement already satisfied: wcwidth in /usr/local/lib/python3.11/dist-packages (from ftfy->ekphrasis) (0.2.13)\n",
            "Requirement already satisfied: MarkupSafe>=2.0 in /usr/local/lib/python3.11/dist-packages (from jinja2->spacy) (3.0.2)\n",
            "Requirement already satisfied: contourpy>=1.0.1 in /usr/local/lib/python3.11/dist-packages (from matplotlib->ekphrasis) (1.3.1)\n",
            "Requirement already satisfied: cycler>=0.10 in /usr/local/lib/python3.11/dist-packages (from matplotlib->ekphrasis) (0.12.1)\n",
            "Requirement already satisfied: fonttools>=4.22.0 in /usr/local/lib/python3.11/dist-packages (from matplotlib->ekphrasis) (4.56.0)\n",
            "Requirement already satisfied: kiwisolver>=1.3.1 in /usr/local/lib/python3.11/dist-packages (from matplotlib->ekphrasis) (1.4.8)\n",
            "Requirement already satisfied: pillow>=8 in /usr/local/lib/python3.11/dist-packages (from matplotlib->ekphrasis) (11.1.0)\n",
            "Requirement already satisfied: pyparsing>=2.3.1 in /usr/local/lib/python3.11/dist-packages (from matplotlib->ekphrasis) (3.2.1)\n",
            "Requirement already satisfied: marisa-trie>=1.1.0 in /usr/local/lib/python3.11/dist-packages (from language-data>=1.2->langcodes<4.0.0,>=3.2.0->spacy) (1.2.1)\n",
            "Requirement already satisfied: markdown-it-py>=2.2.0 in /usr/local/lib/python3.11/dist-packages (from rich>=10.11.0->typer<1.0.0,>=0.3.0->spacy) (3.0.0)\n",
            "Requirement already satisfied: pygments<3.0.0,>=2.13.0 in /usr/local/lib/python3.11/dist-packages (from rich>=10.11.0->typer<1.0.0,>=0.3.0->spacy) (2.18.0)\n",
            "Requirement already satisfied: wrapt in /usr/local/lib/python3.11/dist-packages (from smart-open<8.0.0,>=5.2.1->weasel<0.5.0,>=0.1.0->spacy) (1.17.2)\n",
            "Requirement already satisfied: mdurl~=0.1 in /usr/local/lib/python3.11/dist-packages (from markdown-it-py>=2.2.0->rich>=10.11.0->typer<1.0.0,>=0.3.0->spacy) (0.1.2)\n",
            "Downloading emoji-2.14.1-py3-none-any.whl (590 kB)\n",
            "\u001b[2K   \u001b[90m━━━━━━━━━━━━━━━━━━━━━━━━━━━━━━━━━━━━━━━━\u001b[0m \u001b[32m590.6/590.6 kB\u001b[0m \u001b[31m33.8 MB/s\u001b[0m eta \u001b[36m0:00:00\u001b[0m\n",
            "\u001b[?25hDownloading contractions-0.1.73-py2.py3-none-any.whl (8.7 kB)\n",
            "Downloading ekphrasis-0.5.4-py3-none-any.whl (83 kB)\n",
            "\u001b[2K   \u001b[90m━━━━━━━━━━━━━━━━━━━━━━━━━━━━━━━━━━━━━━━━\u001b[0m \u001b[32m83.8/83.8 kB\u001b[0m \u001b[31m8.4 MB/s\u001b[0m eta \u001b[36m0:00:00\u001b[0m\n",
            "\u001b[?25hDownloading textsearch-0.0.24-py2.py3-none-any.whl (7.6 kB)\n",
            "Downloading colorama-0.4.6-py2.py3-none-any.whl (25 kB)\n",
            "Downloading ftfy-6.3.1-py3-none-any.whl (44 kB)\n",
            "\u001b[2K   \u001b[90m━━━━━━━━━━━━━━━━━━━━━━━━━━━━━━━━━━━━━━━━\u001b[0m \u001b[32m44.8/44.8 kB\u001b[0m \u001b[31m4.6 MB/s\u001b[0m eta \u001b[36m0:00:00\u001b[0m\n",
            "\u001b[?25hDownloading ujson-5.10.0-cp311-cp311-manylinux_2_17_x86_64.manylinux2014_x86_64.whl (53 kB)\n",
            "\u001b[2K   \u001b[90m━━━━━━━━━━━━━━━━━━━━━━━━━━━━━━━━━━━━━━━━\u001b[0m \u001b[32m53.6/53.6 kB\u001b[0m \u001b[31m4.5 MB/s\u001b[0m eta \u001b[36m0:00:00\u001b[0m\n",
            "\u001b[?25hDownloading anyascii-0.3.2-py3-none-any.whl (289 kB)\n",
            "\u001b[2K   \u001b[90m━━━━━━━━━━━━━━━━━━━━━━━━━━━━━━━━━━━━━━━━\u001b[0m \u001b[32m289.9/289.9 kB\u001b[0m \u001b[31m24.8 MB/s\u001b[0m eta \u001b[36m0:00:00\u001b[0m\n",
            "\u001b[?25hDownloading pyahocorasick-2.1.0-cp311-cp311-manylinux_2_17_x86_64.manylinux2014_x86_64.whl (118 kB)\n",
            "\u001b[2K   \u001b[90m━━━━━━━━━━━━━━━━━━━━━━━━━━━━━━━━━━━━━━━━\u001b[0m \u001b[32m118.3/118.3 kB\u001b[0m \u001b[31m10.7 MB/s\u001b[0m eta \u001b[36m0:00:00\u001b[0m\n",
            "\u001b[?25hInstalling collected packages: ujson, pyahocorasick, ftfy, emoji, colorama, anyascii, textsearch, ekphrasis, contractions\n",
            "Successfully installed anyascii-0.3.2 colorama-0.4.6 contractions-0.1.73 ekphrasis-0.5.4 emoji-2.14.1 ftfy-6.3.1 pyahocorasick-2.1.0 textsearch-0.0.24 ujson-5.10.0\n",
            "Requirement already satisfied: wordcloud in /usr/local/lib/python3.11/dist-packages (1.9.4)\n",
            "Requirement already satisfied: numpy>=1.6.1 in /usr/local/lib/python3.11/dist-packages (from wordcloud) (2.0.2)\n",
            "Requirement already satisfied: pillow in /usr/local/lib/python3.11/dist-packages (from wordcloud) (11.1.0)\n",
            "Requirement already satisfied: matplotlib in /usr/local/lib/python3.11/dist-packages (from wordcloud) (3.10.0)\n",
            "Requirement already satisfied: contourpy>=1.0.1 in /usr/local/lib/python3.11/dist-packages (from matplotlib->wordcloud) (1.3.1)\n",
            "Requirement already satisfied: cycler>=0.10 in /usr/local/lib/python3.11/dist-packages (from matplotlib->wordcloud) (0.12.1)\n",
            "Requirement already satisfied: fonttools>=4.22.0 in /usr/local/lib/python3.11/dist-packages (from matplotlib->wordcloud) (4.56.0)\n",
            "Requirement already satisfied: kiwisolver>=1.3.1 in /usr/local/lib/python3.11/dist-packages (from matplotlib->wordcloud) (1.4.8)\n",
            "Requirement already satisfied: packaging>=20.0 in /usr/local/lib/python3.11/dist-packages (from matplotlib->wordcloud) (24.2)\n",
            "Requirement already satisfied: pyparsing>=2.3.1 in /usr/local/lib/python3.11/dist-packages (from matplotlib->wordcloud) (3.2.1)\n",
            "Requirement already satisfied: python-dateutil>=2.7 in /usr/local/lib/python3.11/dist-packages (from matplotlib->wordcloud) (2.8.2)\n",
            "Requirement already satisfied: six>=1.5 in /usr/local/lib/python3.11/dist-packages (from python-dateutil>=2.7->matplotlib->wordcloud) (1.17.0)\n"
          ]
        }
      ],
      "source": [
        "# Install dependencies\n",
        "!pip install datasets\n",
        "!pip install pandas numpy beautifulsoup4 spacy emoji contractions ekphrasis textblob\n",
        "!pip install wordcloud"
      ]
    },
    {
      "cell_type": "code",
      "execution_count": 5,
      "metadata": {
        "colab": {
          "base_uri": "https://localhost:8080/"
        },
        "id": "Y93l2n3OVLzP",
        "outputId": "a1719c1b-c2c7-41db-f381-f5c40864aed7"
      },
      "outputs": [
        {
          "output_type": "stream",
          "name": "stdout",
          "text": [
            "Collecting en-core-web-sm==3.8.0\n",
            "  Downloading https://github.com/explosion/spacy-models/releases/download/en_core_web_sm-3.8.0/en_core_web_sm-3.8.0-py3-none-any.whl (12.8 MB)\n",
            "\u001b[2K     \u001b[90m━━━━━━━━━━━━━━━━━━━━━━━━━━━━━━━━━━━━━━━━\u001b[0m \u001b[32m12.8/12.8 MB\u001b[0m \u001b[31m102.2 MB/s\u001b[0m eta \u001b[36m0:00:00\u001b[0m\n",
            "\u001b[?25h\u001b[38;5;2m✔ Download and installation successful\u001b[0m\n",
            "You can now load the package via spacy.load('en_core_web_sm')\n",
            "\u001b[38;5;3m⚠ Restart to reload dependencies\u001b[0m\n",
            "If you are in a Jupyter or Colab notebook, you may need to restart Python in\n",
            "order to load all the package's dependencies. You can do this by selecting the\n",
            "'Restart kernel' or 'Restart runtime' option.\n"
          ]
        }
      ],
      "source": [
        "!python -m spacy download en_core_web_sm"
      ]
    },
    {
      "cell_type": "code",
      "execution_count": 6,
      "metadata": {
        "id": "y0qs1NNyR8XE"
      },
      "outputs": [],
      "source": [
        "# Import libraries\n",
        "import pandas as pd\n",
        "import numpy as np\n",
        "import re\n",
        "import unicodedata\n",
        "import contractions\n",
        "import os\n",
        "from bs4 import BeautifulSoup\n",
        "import spacy\n",
        "import emoji\n",
        "from ekphrasis.classes.preprocessor import TextPreProcessor\n",
        "from ekphrasis.classes.tokenizer import SocialTokenizer\n",
        "from textblob import TextBlob\n",
        "from datasets import load_dataset\n",
        "from datasets import Dataset as Ds\n",
        "from datetime import datetime\n",
        "from collections import defaultdict\n",
        "from collections import Counter\n",
        "import pyarrow as pa # To replace Pandas for handling large dataframes\n",
        "import pyarrow.compute as pc # To replace Pandas for performing Pandas-like operations within the large-sized dataframe\n",
        "import matplotlib.pyplot as plt\n",
        "import seaborn as sns\n",
        "from wordcloud import WordCloud\n",
        "import nltk\n",
        "from nltk.sentiment.vader import SentimentIntensityAnalyzer\n",
        "from nltk.util import ngrams\n",
        "from nltk.corpus import stopwords\n",
        "from nltk.tokenize import word_tokenize\n",
        "import random\n",
        "from IPython.display import display\n",
        "from transformers import pipeline, AutoModelForCausalLM, AutoTokenizer\n",
        "import ast\n",
        "import warnings\n",
        "from tqdm import tqdm\n",
        "import torch\n",
        "import torch.nn as nn\n",
        "import torch.optim as optim\n",
        "import torch.nn.functional as F\n",
        "from torch.cuda.amp import autocast, GradScaler # Add mixed precision training imports\n",
        "from torch.utils.data import Dataset, DataLoader\n",
        "from sklearn.model_selection import train_test_split\n",
        "from sklearn.metrics import (\n",
        "    classification_report, accuracy_score, f1_score,\n",
        "    precision_recall_fscore_support, confusion_matrix\n",
        "    )\n",
        "import time\n",
        "import requests\n",
        "import zipfile\n",
        "import io"
      ]
    },
    {
      "cell_type": "code",
      "execution_count": 7,
      "metadata": {
        "colab": {
          "base_uri": "https://localhost:8080/"
        },
        "id": "X7AN57IRcbqk",
        "outputId": "6141ce3e-5a3b-46c1-a557-e6578d47cb40"
      },
      "outputs": [
        {
          "output_type": "stream",
          "name": "stdout",
          "text": [
            "Using PyTorch's AdamW implementation instead of transformers'\n"
          ]
        },
        {
          "output_type": "stream",
          "name": "stderr",
          "text": [
            "[nltk_data] Downloading package vader_lexicon to /root/nltk_data...\n",
            "[nltk_data] Downloading package punkt to /root/nltk_data...\n",
            "[nltk_data]   Unzipping tokenizers/punkt.zip.\n"
          ]
        },
        {
          "output_type": "execute_result",
          "data": {
            "text/plain": [
              "True"
            ]
          },
          "metadata": {},
          "execution_count": 7
        }
      ],
      "source": [
        "try:\n",
        "    from transformers import (\n",
        "        DistilBertTokenizer, DistilBertModel,\n",
        "        BertTokenizer, BertModel,  # Replace RobertaTokenizer, RobertaModel\n",
        "        AdamW, get_linear_schedule_with_warmup\n",
        "    )\n",
        "except ImportError:\n",
        "    # If AdamW can't be imported from transformers directly, try alternative imports\n",
        "    from transformers import (\n",
        "        DistilBertTokenizer, DistilBertModel,\n",
        "        BertTokenizer, BertModel,  # Replace RobertaTokenizer, RobertaModel\n",
        "        get_linear_schedule_with_warmup\n",
        "    )\n",
        "    try:\n",
        "        # Try importing from transformers.optimization (newer versions)\n",
        "        from transformers.optimization import AdamW\n",
        "    except ImportError:\n",
        "        # Fall back to PyTorch's implementation\n",
        "        from torch.optim import AdamW\n",
        "        print(\"Using PyTorch's AdamW implementation instead of transformers'\")\n",
        "\n",
        "# Download necessary NLTK resources\n",
        "nltk.download('vader_lexicon')\n",
        "nltk.download('punkt')"
      ]
    },
    {
      "cell_type": "code",
      "execution_count": 8,
      "metadata": {
        "colab": {
          "base_uri": "https://localhost:8080/"
        },
        "id": "pZ9so-Gxmc7N",
        "outputId": "49346096-5db7-4bd5-b82d-d042924a6030"
      },
      "outputs": [
        {
          "output_type": "stream",
          "name": "stdout",
          "text": [
            "Warning: Could not import gensim.models.KeyedVectors: No module named 'gensim'\n",
            "Using random embeddings instead of pre-trained word vectors.\n",
            "Using device: cuda\n"
          ]
        }
      ],
      "source": [
        "# Handle gensim import - attempt import but provide fallback if it fails\n",
        "try:\n",
        "    from gensim.models import KeyedVectors\n",
        "    GENSIM_AVAILABLE = True\n",
        "except (ImportError, ValueError) as e:\n",
        "    print(f\"Warning: Could not import gensim.models.KeyedVectors: {e}\")\n",
        "    print(\"Using random embeddings instead of pre-trained word vectors.\")\n",
        "    GENSIM_AVAILABLE = False\n",
        "\n",
        "# Set seeds for reproducibility\n",
        "RANDOM_SEED = 42\n",
        "np.random.seed(RANDOM_SEED)\n",
        "torch.manual_seed(RANDOM_SEED)\n",
        "if torch.cuda.is_available():\n",
        "    torch.cuda.manual_seed_all(RANDOM_SEED)\n",
        "\n",
        "# Set device\n",
        "device = torch.device('cuda' if torch.cuda.is_available() else 'cpu')\n",
        "print(f\"Using device: {device}\")\n",
        "\n",
        "# Set parameters for model\n",
        "EMBEDDING_DIM = 200  # GloVe dimensions: choose from 50, 100, 200, 300\n",
        "MAX_SEQ_LENGTH = 100\n",
        "HIDDEN_DIM = 256\n",
        "BATCH_SIZE = 64\n",
        "N_EPOCHS = 5\n",
        "LEARNING_RATE = 1e-3\n",
        "N_LAYERS = 2\n",
        "DROPOUT = 0.5"
      ]
    },
    {
      "cell_type": "code",
      "execution_count": 9,
      "metadata": {
        "id": "FhCSPWqrcCFR"
      },
      "outputs": [],
      "source": [
        "# Suppress specific warnings/\n",
        "warnings.filterwarnings(\"ignore\", message=\".*overflowing tokens.*\")"
      ]
    },
    {
      "cell_type": "code",
      "source": [
        "# Dataset loading\n",
        "df = pd.read_csv('/content/drive/MyDrive/nlp-group3-assignment/ms0221_dataset_phase2.csv')"
      ],
      "metadata": {
        "id": "e8QVQPWy8F5J"
      },
      "execution_count": 10,
      "outputs": []
    },
    {
      "cell_type": "markdown",
      "metadata": {
        "id": "_gFjNe0IiVWh"
      },
      "source": [
        "# Aspect-based sentiment analysis"
      ]
    },
    {
      "cell_type": "markdown",
      "metadata": {
        "id": "fTgjYmRShk_Y"
      },
      "source": [
        "## Initialisation of aspect-based sentiment analysis model"
      ]
    },
    {
      "cell_type": "code",
      "execution_count": 11,
      "metadata": {
        "id": "Rjd8-pEgv-iy",
        "colab": {
          "base_uri": "https://localhost:8080/"
        },
        "outputId": "f4356bf4-aed8-4907-d66d-cdb6cba6df5a"
      },
      "outputs": [
        {
          "output_type": "stream",
          "name": "stdout",
          "text": [
            "Using device: cuda\n"
          ]
        }
      ],
      "source": [
        "# Set all random seeds for complete reproducibility\n",
        "RANDOM_SEED = 42\n",
        "random.seed(RANDOM_SEED)\n",
        "np.random.seed(RANDOM_SEED)\n",
        "torch.manual_seed(RANDOM_SEED)\n",
        "torch.cuda.manual_seed_all(RANDOM_SEED)\n",
        "\n",
        "# For deterministic behavior in PyTorch\n",
        "torch.backends.cudnn.deterministic = True\n",
        "torch.backends.cudnn.benchmark = False\n",
        "os.environ['PYTHONHASHSEED'] = str(RANDOM_SEED)\n",
        "\n",
        "# Set environment variable for CUDA determinism (if available)\n",
        "if torch.cuda.is_available():\n",
        "    os.environ['CUBLAS_WORKSPACE_CONFIG'] = ':4096:8'\n",
        "    # Enable deterministic operations for PyTorch 1.8+ (can impact performance)\n",
        "    torch.use_deterministic_algorithms(True)\n",
        "\n",
        "# Set device\n",
        "device = torch.device(\"cuda\" if torch.cuda.is_available() else \"cpu\")\n",
        "print(f\"Using device: {device}\")"
      ]
    },
    {
      "cell_type": "code",
      "execution_count": 12,
      "metadata": {
        "id": "4lmbNL8KwBwE",
        "colab": {
          "base_uri": "https://localhost:8080/"
        },
        "outputId": "ea4147fc-6015-4898-b7ae-d84d68ce10aa"
      },
      "outputs": [
        {
          "output_type": "stream",
          "name": "stderr",
          "text": [
            "<ipython-input-12-844c51117722>:10: FutureWarning: `torch.cuda.amp.GradScaler(args...)` is deprecated. Please use `torch.amp.GradScaler('cuda', args...)` instead.\n",
            "  scaler = GradScaler()\n"
          ]
        }
      ],
      "source": [
        "# Performance optimization parameters (can be adjusted)\n",
        "BATCH_SIZE = 64         # Increased from 16\n",
        "MAX_SEQ_LENGTH = 64     # Reduced from 128\n",
        "ACCUMULATION_STEPS = 4  # Update weights every 4 batches\n",
        "NUM_WORKERS = 2         # Number of data loading workers\n",
        "FREEZE_LAYERS = 2       # Number of layers to freeze\n",
        "SAMPLE_FRACTION = 1.0   # 1.0 = use all data, 0.5 = use half the data\n",
        "\n",
        "# Create gradient scaler for mixed precision training\n",
        "scaler = GradScaler()"
      ]
    },
    {
      "cell_type": "markdown",
      "metadata": {
        "id": "PLkbddInc-y6"
      },
      "source": [
        "## Load and preprocess the dataset"
      ]
    },
    {
      "cell_type": "code",
      "execution_count": 13,
      "metadata": {
        "id": "BKRm6djMc-O6",
        "colab": {
          "base_uri": "https://localhost:8080/"
        },
        "outputId": "0d4a4fa4-967e-4b60-a805-55e23528fd78"
      },
      "outputs": [
        {
          "output_type": "stream",
          "name": "stdout",
          "text": [
            "Loaded dataset with 104184 rows and 11 columns\n"
          ]
        }
      ],
      "source": [
        "print(f\"Loaded dataset with {df.shape[0]} rows and {df.shape[1]} columns\")\n",
        "\n",
        "# Optional: Sample the dataset to reduce training time\n",
        "if SAMPLE_FRACTION < 1.0:\n",
        "    sample_size = int(len(df) * SAMPLE_FRACTION)\n",
        "    df = df.sample(n=sample_size, random_state=RANDOM_SEED).reset_index(drop=True)\n",
        "    print(f\"Sampled dataset to {len(df)} rows ({SAMPLE_FRACTION*100:.1f}% of original)\")"
      ]
    },
    {
      "cell_type": "code",
      "execution_count": 14,
      "metadata": {
        "id": "_duDtxT8cmed"
      },
      "outputs": [],
      "source": [
        "# Convert string representations of lists to actual lists\n",
        "df['tokens'] = df['tokens'].apply(lambda x: ast.literal_eval(x) if isinstance(x, str) else x)\n",
        "df['lemmas'] = df['lemmas'].apply(lambda x: ast.literal_eval(x) if isinstance(x, str) else x)\n",
        "\n",
        "# Map ratings to sentiment classes (1-2: negative, 3: neutral, 4-5: positive)\n",
        "df['sentiment'] = df['rating'].apply(lambda x: 0 if x <= 2 else (1 if x == 3 else 2))"
      ]
    },
    {
      "cell_type": "markdown",
      "metadata": {
        "id": "emaB0E7odN4C"
      },
      "source": [
        "## Extract aspects from reviews"
      ]
    },
    {
      "cell_type": "code",
      "execution_count": 15,
      "metadata": {
        "id": "Bkh6WrccdL1j",
        "colab": {
          "base_uri": "https://localhost:8080/"
        },
        "outputId": "c99eaf87-19a6-4df1-e7fa-e64b2bd11cd0"
      },
      "outputs": [
        {
          "output_type": "stream",
          "name": "stdout",
          "text": [
            "Extracting aspects from reviews...\n"
          ]
        }
      ],
      "source": [
        "print(\"Extracting aspects from reviews...\")\n",
        "# Load spaCy model for aspect extraction\n",
        "nlp = spacy.load('en_core_web_sm')"
      ]
    },
    {
      "cell_type": "code",
      "execution_count": 16,
      "metadata": {
        "id": "x-pkJgaadQRi",
        "colab": {
          "base_uri": "https://localhost:8080/"
        },
        "outputId": "7cd76ba3-01be-4061-b17b-cd1bade3b23b"
      },
      "outputs": [
        {
          "output_type": "stream",
          "name": "stderr",
          "text": [
            "100%|██████████| 104184/104184 [18:00<00:00, 96.40it/s]\n"
          ]
        }
      ],
      "source": [
        "# Batch process reviews for faster aspect extraction\n",
        "all_aspects = []\n",
        "texts = df['text'].tolist()\n",
        "\n",
        "for text in tqdm(texts):\n",
        "    # Skip if text is NaN\n",
        "    if pd.isna(text):\n",
        "        all_aspects.append([])  # Append empty list for NaN texts\n",
        "        continue\n",
        "\n",
        "    aspects = []\n",
        "    doc = nlp(text)\n",
        "\n",
        "    # Rule 1: Noun phrases\n",
        "    for chunk in doc.noun_chunks:\n",
        "        aspects.append(chunk.text)\n",
        "\n",
        "    # Rule 2: Direct objects of verbs\n",
        "    for token in doc:\n",
        "        if token.dep_ == \"dobj\" and token.pos_ == \"NOUN\":\n",
        "            aspects.append(token.text)\n",
        "\n",
        "    # Rule 3: Noun + Adjective pairs\n",
        "    for token in doc:\n",
        "        if token.pos_ == \"ADJ\" and token.head.pos_ == \"NOUN\":\n",
        "            aspects.append(f\"{token.text} {token.head.text}\")\n",
        "\n",
        "    all_aspects.append(list(set(aspects)))"
      ]
    },
    {
      "cell_type": "code",
      "execution_count": 17,
      "metadata": {
        "id": "RiE-j2nbdS3Q",
        "colab": {
          "base_uri": "https://localhost:8080/"
        },
        "outputId": "72a1c76f-c104-4580-dc45-735c2547e001"
      },
      "outputs": [
        {
          "output_type": "stream",
          "name": "stdout",
          "text": [
            "Found 100480 reviews with at least one aspect\n"
          ]
        }
      ],
      "source": [
        "# Add aspects to the dataframe\n",
        "df['aspects'] = all_aspects\n",
        "\n",
        "# Filter reviews with at least one aspect\n",
        "df_with_aspects = df[df['aspects'].apply(len) > 0].reset_index(drop=True)\n",
        "print(f\"Found {df_with_aspects.shape[0]} reviews with at least one aspect\")"
      ]
    },
    {
      "cell_type": "markdown",
      "metadata": {
        "id": "1Rk2zf7sex67"
      },
      "source": [
        "## VADER (baseline)"
      ]
    },
    {
      "cell_type": "code",
      "execution_count": 18,
      "metadata": {
        "id": "0a-u86v1eyk1"
      },
      "outputs": [],
      "source": [
        "# Initialize VADER sentiment analyzer\n",
        "sid = SentimentIntensityAnalyzer()"
      ]
    },
    {
      "cell_type": "code",
      "execution_count": 19,
      "metadata": {
        "id": "xP3HGPC5e3o2"
      },
      "outputs": [],
      "source": [
        "# Lists for storing VADER sentiment results\n",
        "vader_sentiments = []\n",
        "vader_scores_list = []\n",
        "aspect_sentiments_list = []\n",
        "\n",
        "# Analyze sentiment for each review\n",
        "for text in df_with_aspects['text']:\n",
        "    # Overall sentiment for review\n",
        "    sentiment_scores = sid.polarity_scores(text)\n",
        "\n",
        "    # Map compound score to sentiment class\n",
        "    if sentiment_scores['compound'] >= 0.05:\n",
        "        sentiment = 2  # positive\n",
        "    elif sentiment_scores['compound'] <= -0.05:\n",
        "        sentiment = 0  # negative\n",
        "    else:\n",
        "        sentiment = 1  # neutral\n",
        "\n",
        "    vader_sentiments.append(sentiment)\n",
        "    vader_scores_list.append(sentiment_scores)\n",
        "\n",
        "# Add VADER results to dataframe\n",
        "df_with_aspects['vader_sentiment'] = vader_sentiments\n",
        "df_with_aspects['vader_scores'] = vader_scores_list"
      ]
    },
    {
      "cell_type": "code",
      "execution_count": 20,
      "metadata": {
        "id": "W-qRw4vZe6ZN",
        "colab": {
          "base_uri": "https://localhost:8080/"
        },
        "outputId": "303df193-0189-475f-e908-c8ece0da9ab0"
      },
      "outputs": [
        {
          "output_type": "stream",
          "name": "stderr",
          "text": [
            "Analyzing aspect sentiment: 100480it [04:59, 335.28it/s]\n"
          ]
        }
      ],
      "source": [
        "# Analyze aspect-specific sentiment\n",
        "for idx, row in tqdm(df_with_aspects.iterrows(), desc=\"Analyzing aspect sentiment\"):\n",
        "    text = row['text']\n",
        "    aspects = row['aspects']\n",
        "    aspect_sentiments = {}\n",
        "\n",
        "    for aspect in aspects:\n",
        "        # Find sentences containing the aspect\n",
        "        sentences = re.split(r'[.!?]', text)\n",
        "        relevant_sentences = [s for s in sentences if aspect.lower() in s.lower()]\n",
        "\n",
        "        if relevant_sentences:\n",
        "            # Analyze sentiment for each relevant sentence\n",
        "            sentence_scores = []\n",
        "            sentence_sentiments = []\n",
        "\n",
        "            for sentence in relevant_sentences:\n",
        "                sentiment_scores = sid.polarity_scores(sentence)\n",
        "                compound_score = sentiment_scores['compound']\n",
        "\n",
        "                # Map to sentiment class\n",
        "                if compound_score >= 0.05:\n",
        "                    sentiment_class = 2  # positive\n",
        "                elif compound_score <= -0.05:\n",
        "                    sentiment_class = 0  # negative\n",
        "                else:\n",
        "                    sentiment_class = 1  # neutral\n",
        "\n",
        "                sentence_scores.append(compound_score)\n",
        "                sentence_sentiments.append(sentiment_class)\n",
        "\n",
        "            # Average the sentiment scores\n",
        "            avg_score = sum(sentence_scores) / len(sentence_scores)\n",
        "\n",
        "            # Map final sentiment\n",
        "            if avg_score >= 0.05:\n",
        "                final_sentiment = 2  # positive\n",
        "            elif avg_score <= -0.05:\n",
        "                final_sentiment = 0  # negative\n",
        "            else:\n",
        "                final_sentiment = 1  # neutral\n",
        "\n",
        "            aspect_sentiments[aspect] = {\n",
        "                'sentiment_class': final_sentiment,\n",
        "                'sentiment_score': avg_score\n",
        "            }\n",
        "\n",
        "    aspect_sentiments_list.append(aspect_sentiments)\n",
        "\n",
        "# Add aspect sentiments to dataframe\n",
        "df_with_aspects['aspect_sentiments'] = aspect_sentiments_list"
      ]
    },
    {
      "cell_type": "markdown",
      "metadata": {
        "id": "cZhJliM-e_zB"
      },
      "source": [
        "### Prepare data for neural network approaches with train/val/test split"
      ]
    },
    {
      "cell_type": "code",
      "execution_count": 21,
      "metadata": {
        "id": "2lYqwD4hfB7z"
      },
      "outputs": [],
      "source": [
        "# Expand dataframe to have one row per aspect\n",
        "aspect_rows = []\n",
        "for idx, row in df_with_aspects.iterrows():\n",
        "    for aspect in row['aspects']:\n",
        "        # Extract VADER's aspect-level prediction if available\n",
        "        vader_aspect_sentiment = None\n",
        "        if aspect in row['aspect_sentiments']:\n",
        "            vader_aspect_sentiment = row['aspect_sentiments'][aspect]['sentiment_class']\n",
        "\n",
        "        aspect_rows.append({\n",
        "            'text': row['text'],\n",
        "            'aspect': aspect,\n",
        "            'sentiment': row['sentiment'],  # Overall review sentiment (ground truth)\n",
        "            'review_id': idx,  # Keep track of which review this came from\n",
        "            'vader_aspect_sentiment': vader_aspect_sentiment  # VADER's prediction for this aspect\n",
        "        })\n",
        "\n",
        "aspect_df = pd.DataFrame(aspect_rows)"
      ]
    },
    {
      "cell_type": "code",
      "execution_count": 22,
      "metadata": {
        "id": "C_zmw7-zfEji"
      },
      "outputs": [],
      "source": [
        "# Remove aspects where VADER couldn't determine sentiment\n",
        "aspect_df_with_vader = aspect_df.dropna(subset=['vader_aspect_sentiment']).copy()"
      ]
    },
    {
      "cell_type": "code",
      "execution_count": 23,
      "metadata": {
        "id": "twvULN2LfIHK"
      },
      "outputs": [],
      "source": [
        "# Create a three-way split: train (70%), validation (15%), test (15%)\n",
        "# Step 1: First split into train and temp (temp will become val+test)\n",
        "train_df, temp_df = train_test_split(aspect_df, test_size=0.3, random_state=RANDOM_SEED)\n",
        "# Step 2: Split temp into validation and test\n",
        "val_df, test_df = train_test_split(temp_df, test_size=0.5, random_state=RANDOM_SEED)"
      ]
    },
    {
      "cell_type": "code",
      "execution_count": 24,
      "metadata": {
        "id": "R9YEk7cxfOj3"
      },
      "outputs": [],
      "source": [
        "# Also create the same split on the dataset with VADER predictions for fair comparison\n",
        "# Step 1: First split into train and temp\n",
        "train_df_with_vader, temp_df_with_vader = train_test_split(\n",
        "    aspect_df_with_vader, test_size=0.3, random_state=RANDOM_SEED\n",
        ")\n",
        "# Step 2: Split temp into validation and test\n",
        "val_df_with_vader, test_df_with_vader = train_test_split(\n",
        "    temp_df_with_vader, test_size=0.5, random_state=RANDOM_SEED\n",
        ")"
      ]
    },
    {
      "cell_type": "markdown",
      "metadata": {
        "id": "YYtjNllCN5Jo"
      },
      "source": [
        "### Evaluate model on test set and calculate detailed metrics"
      ]
    },
    {
      "cell_type": "code",
      "execution_count": 25,
      "metadata": {
        "id": "ZeZHwcsKM1UQ"
      },
      "outputs": [],
      "source": [
        "# Define function to evaluate aspect-level performance\n",
        "def evaluate_aspect_level_performance(df, pred_column, label_column='sentiment', model_name='VADER'):\n",
        "    \"\"\"\n",
        "    Evaluate aspect-level performance with detailed metrics\n",
        "\n",
        "    Args:\n",
        "        df: DataFrame with aspect-level data\n",
        "        pred_column: Column name with predictions\n",
        "        label_column: Column name with true labels\n",
        "        model_name: Name of the model for display purposes\n",
        "\n",
        "    Returns:\n",
        "        metrics: Dictionary with accuracy metrics\n",
        "    \"\"\"\n",
        "    # Get predictions and true labels\n",
        "    all_preds = df[pred_column].values\n",
        "    all_labels = df[label_column].values\n",
        "\n",
        "    # Convert predictions to integers for bincount\n",
        "    all_preds = all_preds.astype(int)\n",
        "\n",
        "    # Calculate metrics\n",
        "    accuracy = accuracy_score(all_labels, all_preds)\n",
        "    precision, recall, f1, _ = precision_recall_fscore_support(\n",
        "        all_labels, all_preds, average='weighted'\n",
        "    )\n",
        "\n",
        "    # Calculate metrics per class\n",
        "    class_precision, class_recall, class_f1, class_support = precision_recall_fscore_support(\n",
        "        all_labels, all_preds, labels=[0, 1, 2]\n",
        "    )\n",
        "\n",
        "    # Calculate confusion matrix\n",
        "    cm = confusion_matrix(all_labels, all_preds)\n",
        "\n",
        "    # Print overall metrics\n",
        "    print(f\"\\n======= {model_name} Aspect-Level Accuracy Metrics =======\")\n",
        "    print(f\"Overall Accuracy: {accuracy:.4f}\")\n",
        "    print(f\"Weighted Precision: {precision:.4f}\")\n",
        "    print(f\"Weighted Recall: {recall:.4f}\")\n",
        "    print(f\"Weighted F1-Score: {f1:.4f}\")\n",
        "\n",
        "    # Print per-class metrics\n",
        "    print(\"\\nPer-Class Metrics:\")\n",
        "    for i, sentiment in enumerate(['Negative', 'Neutral', 'Positive']):\n",
        "        print(f\"{sentiment}:\")\n",
        "        print(f\"  Precision: {class_precision[i]:.4f}\")\n",
        "        print(f\"  Recall: {class_recall[i]:.4f}\")\n",
        "        print(f\"  F1-Score: {class_f1[i]:.4f}\")\n",
        "        print(f\"  Support: {class_support[i]}\")\n",
        "\n",
        "    # Plot confusion matrix\n",
        "    try:\n",
        "        plt.figure(figsize=(8, 6))\n",
        "        sns.heatmap(cm, annot=True, fmt='d', cmap='Blues',\n",
        "                    xticklabels=['Negative', 'Neutral', 'Positive'],\n",
        "                    yticklabels=['Negative', 'Neutral', 'Positive'])\n",
        "        plt.xlabel('Predicted')\n",
        "        plt.ylabel('True')\n",
        "        plt.title(f'{model_name} Aspect-Level Confusion Matrix')\n",
        "        plt.tight_layout()\n",
        "\n",
        "        # Save or display\n",
        "        plt.savefig(f'{model_name.lower()}_aspect_confusion_matrix.png')\n",
        "        print(f\"\\n{model_name} aspect-level confusion matrix saved as '{model_name.lower()}_aspect_confusion_matrix.png'\")\n",
        "        plt.show()\n",
        "    except Exception as e:\n",
        "        print(f\"\\nCould not generate confusion matrix plot: {e}\")\n",
        "\n",
        "    # Calculate accuracy by aspect length (if applicable)\n",
        "    if 'aspect' in df.columns:\n",
        "        df_copy = df.copy()\n",
        "        df_copy['aspect_length'] = df_copy['aspect'].apply(lambda x: len(x.split()))\n",
        "\n",
        "        # Group by aspect length\n",
        "        length_groups = df_copy.groupby('aspect_length').apply(\n",
        "            lambda x: accuracy_score(x[label_column], x[pred_column])\n",
        "        )\n",
        "\n",
        "        print(\"\\nAccuracy by Aspect Length:\")\n",
        "        for length, acc in length_groups.items():\n",
        "            count = len(df_copy[df_copy['aspect_length'] == length])\n",
        "            print(f\"  Length {length}: {acc:.4f} (count: {count})\")\n",
        "\n",
        "    # Check for bias in predictions\n",
        "    predicted_distribution = np.bincount(all_preds, minlength=3) / len(all_preds)\n",
        "    true_distribution = np.bincount(all_labels, minlength=3) / len(all_labels)\n",
        "\n",
        "    print(\"\\nClass Distribution - True vs Predicted:\")\n",
        "    for i, sentiment in enumerate(['Negative', 'Neutral', 'Positive']):\n",
        "        print(f\"  {sentiment}: True={true_distribution[i]:.2%}, Predicted={predicted_distribution[i]:.2%}\")\n",
        "\n",
        "    # Return metrics\n",
        "    metrics = {\n",
        "        'accuracy': accuracy,\n",
        "        'precision': precision,\n",
        "        'recall': recall,\n",
        "        'f1': f1,\n",
        "        'per_class_metrics': {\n",
        "            'precision': class_precision,\n",
        "            'recall': class_recall,\n",
        "            'f1': class_f1,\n",
        "            'support': class_support\n",
        "        }\n",
        "    }\n",
        "\n",
        "    return metrics"
      ]
    },
    {
      "cell_type": "code",
      "execution_count": 26,
      "metadata": {
        "id": "6JywF52fM7UV",
        "colab": {
          "base_uri": "https://localhost:8080/",
          "height": 1000
        },
        "outputId": "816c26aa-3f17-4a96-848b-925571f4b21f"
      },
      "outputs": [
        {
          "output_type": "stream",
          "name": "stdout",
          "text": [
            "\n",
            "======= VADER Aspect-Level Accuracy Metrics =======\n",
            "Overall Accuracy: 0.5328\n",
            "Weighted Precision: 0.5623\n",
            "Weighted Recall: 0.5328\n",
            "Weighted F1-Score: 0.5444\n",
            "\n",
            "Per-Class Metrics:\n",
            "Negative:\n",
            "  Precision: 0.4826\n",
            "  Recall: 0.3832\n",
            "  F1-Score: 0.4272\n",
            "  Support: 50281\n",
            "Neutral:\n",
            "  Precision: 0.1609\n",
            "  Recall: 0.2483\n",
            "  F1-Score: 0.1953\n",
            "  Support: 25405\n",
            "Positive:\n",
            "  Precision: 0.7041\n",
            "  Recall: 0.6800\n",
            "  F1-Score: 0.6918\n",
            "  Support: 100188\n",
            "\n",
            "VADER aspect-level confusion matrix saved as 'vader_aspect_confusion_matrix.png'\n"
          ]
        },
        {
          "output_type": "display_data",
          "data": {
            "text/plain": [
              "<Figure size 800x600 with 2 Axes>"
            ],
            "image/png": "[encoded data removed]"
          },
          "metadata": {}
        },
        {
          "output_type": "stream",
          "name": "stdout",
          "text": [
            "\n",
            "Accuracy by Aspect Length:\n",
            "  Length 1: 0.5414 (count: 81671)\n",
            "  Length 2: 0.5249 (count: 64970)\n",
            "  Length 3: 0.5234 (count: 22081)\n",
            "  Length 4: 0.5257 (count: 5246)\n",
            "  Length 5: 0.5579 (count: 1321)\n",
            "  Length 6: 0.5759 (count: 382)\n",
            "  Length 7: 0.5648 (count: 108)\n",
            "  Length 8: 0.4340 (count: 53)\n",
            "  Length 9: 0.5294 (count: 17)\n",
            "  Length 10: 0.2857 (count: 14)\n",
            "  Length 11: 0.6000 (count: 5)\n",
            "  Length 12: 0.5000 (count: 2)\n",
            "  Length 13: 0.0000 (count: 1)\n",
            "  Length 14: 0.0000 (count: 1)\n",
            "  Length 15: 1.0000 (count: 1)\n",
            "  Length 20: 0.0000 (count: 1)\n",
            "\n",
            "Class Distribution - True vs Predicted:\n",
            "  Negative: True=28.59%, Predicted=22.70%\n",
            "  Neutral: True=14.45%, Predicted=22.29%\n",
            "  Positive: True=56.97%, Predicted=55.01%\n",
            "VADER Aspect-Level Test Accuracy: 0.5328\n"
          ]
        },
        {
          "output_type": "stream",
          "name": "stderr",
          "text": [
            "<ipython-input-25-d4110224f7f3>:76: DeprecationWarning: DataFrameGroupBy.apply operated on the grouping columns. This behavior is deprecated, and in a future version of pandas the grouping columns will be excluded from the operation. Either pass `include_groups=False` to exclude the groupings or explicitly select the grouping columns after groupby to silence this warning.\n",
            "  length_groups = df_copy.groupby('aspect_length').apply(\n"
          ]
        }
      ],
      "source": [
        "# Evaluate VADER's aspect-level accuracy on test set\n",
        "vader_aspect_metrics = evaluate_aspect_level_performance(\n",
        "    test_df_with_vader,\n",
        "    pred_column='vader_aspect_sentiment',\n",
        "    model_name='VADER'\n",
        ")\n",
        "vader_aspect_accuracy = vader_aspect_metrics['accuracy']\n",
        "print(f\"VADER Aspect-Level Test Accuracy: {vader_aspect_accuracy:.4f}\")"
      ]
    },
    {
      "cell_type": "markdown",
      "metadata": {
        "id": "rqTqUuRljWZR"
      },
      "source": [
        "## BiLSTM"
      ]
    },
    {
      "cell_type": "markdown",
      "metadata": {
        "id": "MXDEUpGFDv-P"
      },
      "source": [
        "### Download GloVe embeddings"
      ]
    },
    {
      "cell_type": "code",
      "execution_count": 27,
      "metadata": {
        "id": "cwwzgMITDxAH",
        "colab": {
          "base_uri": "https://localhost:8080/"
        },
        "outputId": "5efa16e9-bf31-4f09-eff6-1d6cc6bfa4b2"
      },
      "outputs": [
        {
          "output_type": "stream",
          "name": "stdout",
          "text": [
            "Downloading GloVe embeddings (200d)...\n",
            "Successfully downloaded and extracted GloVe embeddings to embeddings/glove.6B.200d.txt\n",
            "GloVe embeddings path: embeddings/glove.6B.200d.txt\n"
          ]
        }
      ],
      "source": [
        "def download_glove_embeddings(embed_dim):\n",
        "    \"\"\"\n",
        "    Download pre-trained GloVe word embeddings if not already present\n",
        "\n",
        "    Args:\n",
        "        embed_dim: Embedding dimension (50, 100, 200, or 300)\n",
        "\n",
        "    Returns:\n",
        "        embeddings_file: Path to the embeddings file\n",
        "    \"\"\"\n",
        "    # Ensure dimensions are valid\n",
        "    if embed_dim not in [50, 100, 200, 300]:\n",
        "        print(f\"Warning: {embed_dim} is not a standard GloVe dimension. Using 300d instead.\")\n",
        "        embed_dim = 300\n",
        "\n",
        "    # Create directory for embeddings if it doesn't exist\n",
        "    os.makedirs(\"embeddings\", exist_ok=True)\n",
        "\n",
        "    # Determine filename and path\n",
        "    filename = f\"glove.6B.{embed_dim}d.txt\"\n",
        "    embeddings_file = os.path.join(\"embeddings\", filename)\n",
        "\n",
        "    # Check if file already exists\n",
        "    if os.path.exists(embeddings_file):\n",
        "        print(f\"Found existing GloVe embeddings at {embeddings_file}\")\n",
        "        return embeddings_file\n",
        "\n",
        "    # Download and extract embeddings\n",
        "    try:\n",
        "        print(f\"Downloading GloVe embeddings ({embed_dim}d)...\")\n",
        "        url = \"https://nlp.stanford.edu/data/glove.6B.zip\"\n",
        "        response = requests.get(url, stream=True)\n",
        "\n",
        "        if response.status_code == 200:\n",
        "            z = zipfile.ZipFile(io.BytesIO(response.content))\n",
        "            z.extract(filename, \"embeddings\")\n",
        "            print(f\"Successfully downloaded and extracted GloVe embeddings to {embeddings_file}\")\n",
        "            return embeddings_file\n",
        "        else:\n",
        "            print(f\"Failed to download GloVe embeddings. Status code: {response.status_code}\")\n",
        "            return None\n",
        "    except Exception as e:\n",
        "        print(f\"Error downloading GloVe embeddings: {e}\")\n",
        "        return None\n",
        "\n",
        "# Download GloVe embeddings\n",
        "glove_path = download_glove_embeddings(EMBEDDING_DIM)\n",
        "print(f\"GloVe embeddings path: {glove_path}\")"
      ]
    },
    {
      "cell_type": "markdown",
      "metadata": {
        "id": "nXbAf9-mD1Tz"
      },
      "source": [
        "### Load spaCy for aspect extraction"
      ]
    },
    {
      "cell_type": "code",
      "execution_count": 28,
      "metadata": {
        "id": "j16K_m0eD1pi"
      },
      "outputs": [],
      "source": [
        "try:\n",
        "    nlp = spacy.load(\"en_core_web_sm\")\n",
        "except OSError:\n",
        "    print(\"Downloading spaCy model...\")\n",
        "    spacy.cli.download(\"en_core_web_sm\")\n",
        "    nlp = spacy.load(\"en_core_web_sm\")\n",
        "\n",
        "# Initialize VADER sentiment analyzer\n",
        "vader_analyzer = SentimentIntensityAnalyzer()"
      ]
    },
    {
      "cell_type": "markdown",
      "metadata": {
        "id": "Oz8TDk6gD7QJ"
      },
      "source": [
        "### Define functions for aspect extraction"
      ]
    },
    {
      "cell_type": "code",
      "execution_count": 29,
      "metadata": {
        "id": "z72u5GR0D7n6"
      },
      "outputs": [],
      "source": [
        "def extract_aspects(text, nlp=nlp):\n",
        "    \"\"\"\n",
        "    Extract potential aspect terms from text\n",
        "\n",
        "    Args:\n",
        "        text: Review text\n",
        "        nlp: spaCy model\n",
        "\n",
        "    Returns:\n",
        "        aspects: List of extracted aspects\n",
        "    \"\"\"\n",
        "    if pd.isna(text) or not isinstance(text, str):\n",
        "        return []\n",
        "\n",
        "    doc = nlp(text[:5000])  # Limit text length for processing efficiency\n",
        "    aspects = []\n",
        "\n",
        "    # Extract noun chunks as potential aspects\n",
        "    for chunk in doc.noun_chunks:\n",
        "        aspect = chunk.text.lower().strip()\n",
        "        # Remove determiners and keep only substantive aspects (2+ chars)\n",
        "        aspect = re.sub(r'^(the|a|an) ', '', aspect)\n",
        "        if len(aspect) > 2:\n",
        "            aspects.append(aspect)\n",
        "\n",
        "    # Add compound nouns\n",
        "    for token in doc:\n",
        "        if token.dep_ == \"compound\" and token.head.pos_ == \"NOUN\":\n",
        "            compound_aspect = f\"{token.text} {token.head.text}\".lower()\n",
        "            if compound_aspect not in aspects and len(compound_aspect) > 2:\n",
        "                aspects.append(compound_aspect)\n",
        "\n",
        "    # Remove duplicates and limit to top N aspects\n",
        "    return list(set(aspects))[:5]  # Limit to 5 aspects per review\n",
        "\n",
        "def assign_aspect_sentiment(text, aspect):\n",
        "    \"\"\"\n",
        "    Assign sentiment to an aspect using rule-based approach\n",
        "\n",
        "    Args:\n",
        "        text: Review text\n",
        "        aspect: Aspect term\n",
        "\n",
        "    Returns:\n",
        "        sentiment_class: Sentiment class (0, 1, or 2 for negative, neutral, positive)\n",
        "    \"\"\"\n",
        "    if pd.isna(text) or not isinstance(text, str):\n",
        "        return 1  # Default to neutral for missing text\n",
        "\n",
        "    # Try to find the aspect in the text\n",
        "    aspect_pattern = re.compile(r'\\b' + re.escape(aspect) + r'\\b', re.IGNORECASE)\n",
        "    matches = list(aspect_pattern.finditer(text))\n",
        "\n",
        "    # Search for opinion words near the aspect\n",
        "    sentiment_scores = []\n",
        "\n",
        "    for match in matches:\n",
        "        # Get a window of text around the aspect (50 chars before and after)\n",
        "        start_pos = max(0, match.start() - 50)\n",
        "        end_pos = min(len(text), match.end() + 50)\n",
        "        aspect_context = text[start_pos:end_pos]\n",
        "\n",
        "        # Get sentiment score for this context\n",
        "        vader_score = vader_analyzer.polarity_scores(aspect_context)\n",
        "        sentiment_scores.append(vader_score['compound'])\n",
        "\n",
        "    # If no matches or no sentiment detected, analyze the whole text\n",
        "    if not sentiment_scores:\n",
        "        vader_score = vader_analyzer.polarity_scores(text[:1000])  # Limit text length\n",
        "        sentiment_scores.append(vader_score['compound'])\n",
        "\n",
        "    # Average sentiment scores\n",
        "    avg_score = sum(sentiment_scores) / len(sentiment_scores)\n",
        "\n",
        "    # Convert to sentiment class\n",
        "    if avg_score <= -0.05:\n",
        "        return 0  # Negative\n",
        "    elif avg_score >= 0.05:\n",
        "        return 2  # Positive\n",
        "    else:\n",
        "        return 1  # Neutral"
      ]
    },
    {
      "cell_type": "markdown",
      "metadata": {
        "id": "_IMhIdhQEGkh"
      },
      "source": [
        "### Data preparation"
      ]
    },
    {
      "cell_type": "code",
      "execution_count": 30,
      "metadata": {
        "id": "RCF3mwTxEFa8",
        "colab": {
          "base_uri": "https://localhost:8080/"
        },
        "outputId": "c700aa9e-5dc4-4abf-e164-998e82620db8"
      },
      "outputs": [
        {
          "output_type": "stream",
          "name": "stdout",
          "text": [
            "Extracting aspects and assigning sentiments...\n"
          ]
        },
        {
          "output_type": "stream",
          "name": "stderr",
          "text": [
            "Processing reviews: 100%|██████████| 104184/104184 [20:03<00:00, 86.58it/s]\n"
          ]
        },
        {
          "output_type": "stream",
          "name": "stdout",
          "text": [
            "Found 99553 reviews with at least one aspect\n"
          ]
        }
      ],
      "source": [
        "# Extract aspects and assign sentiments\n",
        "print(\"Extracting aspects and assigning sentiments...\")\n",
        "aspects_list = []\n",
        "aspect_sentiments_list = []\n",
        "\n",
        "for idx, row in tqdm(df.iterrows(), total=len(df), desc=\"Processing reviews\"):\n",
        "    text = row['text']\n",
        "    # Extract aspects\n",
        "    aspects = extract_aspects(text)\n",
        "    aspects_list.append(aspects)\n",
        "\n",
        "    # Assign sentiment to each aspect\n",
        "    aspect_sentiments = {}\n",
        "    for aspect in aspects:\n",
        "        sentiment_class = assign_aspect_sentiment(text, aspect)\n",
        "        aspect_sentiments[aspect] = {\n",
        "            'sentiment_class': sentiment_class,\n",
        "            'model': 'vader'\n",
        "        }\n",
        "\n",
        "    aspect_sentiments_list.append(aspect_sentiments)\n",
        "\n",
        "# Add aspects and sentiments to dataframe\n",
        "df['aspects'] = aspects_list\n",
        "df['aspect_sentiments'] = aspect_sentiments_list\n",
        "\n",
        "# Filter reviews with at least one aspect\n",
        "df_with_aspects = df[df['aspects'].apply(len) > 0].reset_index(drop=True)\n",
        "print(f\"Found {df_with_aspects.shape[0]} reviews with at least one aspect\")"
      ]
    },
    {
      "cell_type": "markdown",
      "metadata": {
        "id": "M7hodTm8EKdH"
      },
      "source": [
        "### Create dataset for model training\n"
      ]
    },
    {
      "cell_type": "code",
      "execution_count": 31,
      "metadata": {
        "id": "7oMyLv2PEJg4",
        "colab": {
          "base_uri": "https://localhost:8080/"
        },
        "outputId": "48cfdd33-cd50-4a46-d5ec-d234f4999248"
      },
      "outputs": [
        {
          "output_type": "stream",
          "name": "stdout",
          "text": [
            "Created 277337 training, 59429 validation, and 59430 test samples\n"
          ]
        }
      ],
      "source": [
        "# Create a dataframe with one row per aspect\n",
        "aspect_rows = []\n",
        "for idx, row in df_with_aspects.iterrows():\n",
        "    for aspect in row['aspects']:\n",
        "        sentiment = row['aspect_sentiments'][aspect]['sentiment_class']\n",
        "        aspect_rows.append({\n",
        "            'text': row['text'],\n",
        "            'aspect': aspect,\n",
        "            'sentiment': sentiment\n",
        "        })\n",
        "\n",
        "aspect_df = pd.DataFrame(aspect_rows)\n",
        "\n",
        "# Split into train/val/test with 70/15/15 split\n",
        "train_df, temp_df = train_test_split(aspect_df, test_size=0.3, random_state=RANDOM_SEED)\n",
        "val_df, test_df = train_test_split(temp_df, test_size=0.5, random_state=RANDOM_SEED)\n",
        "\n",
        "print(f\"Created {len(train_df)} training, {len(val_df)} validation, and {len(test_df)} test samples\")"
      ]
    },
    {
      "cell_type": "markdown",
      "metadata": {
        "id": "lFjuWt0nEOMe"
      },
      "source": [
        "### Define text preprocessing for BiLSTM\n"
      ]
    },
    {
      "cell_type": "code",
      "execution_count": 32,
      "metadata": {
        "id": "4gboqigUENSS"
      },
      "outputs": [],
      "source": [
        "def preprocess_for_bilstm(texts, aspects, max_len=MAX_SEQ_LENGTH):\n",
        "    \"\"\"\n",
        "    Tokenize and preprocess text for BiLSTM model\n",
        "\n",
        "    Args:\n",
        "        texts: List of review texts\n",
        "        aspects: Lis-7483t of aspect texts\n",
        "        max_len: Maximum sequence length\n",
        "\n",
        "    Returns:\n",
        "        tokenized_texts: List of tokenized texts with aspect appended\n",
        "    \"\"\"\n",
        "    tokenized_texts = []\n",
        "\n",
        "    for text, aspect in zip(texts, aspects):\n",
        "        if pd.isna(text) or not isinstance(text, str):\n",
        "            text = \"\"\n",
        "        if pd.isna(aspect) or not isinstance(aspect, str):\n",
        "            aspect = \"\"\n",
        "\n",
        "        # Tokenize review text and aspect\n",
        "        tokens = word_tokenize(text.lower())[:max_len-10]  # Leave room for aspect\n",
        "        aspect_tokens = word_tokenize(aspect.lower())\n",
        "\n",
        "        # Combine with a separator\n",
        "        combined_tokens = tokens + ['[SEP]'] + aspect_tokens\n",
        "\n",
        "        # Truncate if too long\n",
        "        if len(combined_tokens) > max_len:\n",
        "            combined_tokens = combined_tokens[:max_len]\n",
        "\n",
        "        tokenized_texts.append(combined_tokens)\n",
        "\n",
        "    return tokenized_texts"
      ]
    },
    {
      "cell_type": "markdown",
      "metadata": {
        "id": "iE8vr1VkEUi9"
      },
      "source": [
        "### Build vocabulary and prepare word embeddings\n"
      ]
    },
    {
      "cell_type": "code",
      "execution_count": 33,
      "metadata": {
        "id": "cs9gEiuJDAv2",
        "colab": {
          "base_uri": "https://localhost:8080/"
        },
        "outputId": "76c220aa-627f-4751-e094-c251f94907f4"
      },
      "outputs": [
        {
          "output_type": "stream",
          "name": "stderr",
          "text": [
            "[nltk_data] Downloading package punkt_tab to /root/nltk_data...\n",
            "[nltk_data]   Unzipping tokenizers/punkt_tab.zip.\n"
          ]
        },
        {
          "output_type": "execute_result",
          "data": {
            "text/plain": [
              "True"
            ]
          },
          "metadata": {},
          "execution_count": 33
        }
      ],
      "source": [
        "nltk.download('punkt_tab')"
      ]
    },
    {
      "cell_type": "code",
      "execution_count": 34,
      "metadata": {
        "id": "l8IFKfZ7ESpS",
        "colab": {
          "base_uri": "https://localhost:8080/"
        },
        "outputId": "14f13e9d-23ea-44fb-b118-2707e505fe8a"
      },
      "outputs": [
        {
          "output_type": "stream",
          "name": "stdout",
          "text": [
            "Preprocessing training data...\n",
            "Building vocabulary...\n",
            "Vocabulary size: 28404\n",
            "Creating embedding matrix with pre-trained word vectors...\n",
            "Loading GloVe embeddings from embeddings/glove.6B.200d.txt\n"
          ]
        },
        {
          "output_type": "stream",
          "name": "stderr",
          "text": [
            "Loading embeddings: 400000it [00:16, 24720.01it/s]\n"
          ]
        },
        {
          "output_type": "stream",
          "name": "stdout",
          "text": [
            "Found GloVe embeddings for 17040/28404 words (60.0%)\n"
          ]
        }
      ],
      "source": [
        "# Preprocess training data\n",
        "print(\"Preprocessing training data...\")\n",
        "train_tokenized = preprocess_for_bilstm(\n",
        "    train_df['text'].values,\n",
        "    train_df['aspect'].values\n",
        ")\n",
        "\n",
        "# Build vocabulary\n",
        "def build_vocab(tokenized_texts, min_freq=2):\n",
        "    \"\"\"\n",
        "    Build vocabulary from tokenized texts\n",
        "\n",
        "    Args:\n",
        "        tokenized_texts: List of tokenized texts\n",
        "        min_freq: Minimum frequency for a word to be included\n",
        "\n",
        "    Returns:\n",
        "        word2idx: Dictionary mapping words to indices\n",
        "        idx2word: Dictionary mapping indices to words\n",
        "        word_counts: Counter of word frequencies\n",
        "    \"\"\"\n",
        "    # Count word frequencies\n",
        "    word_counts = Counter()\n",
        "    for tokens in tokenized_texts:\n",
        "        word_counts.update(tokens)\n",
        "\n",
        "    # Filter by frequency and create vocab\n",
        "    word2idx = {'<pad>': 0, '<unk>': 1}\n",
        "    idx2word = {0: '<pad>', 1: '<unk>'}\n",
        "\n",
        "    idx = 2\n",
        "    for word, count in word_counts.items():\n",
        "        if count >= min_freq:\n",
        "            word2idx[word] = idx\n",
        "            idx2word[idx] = word\n",
        "            idx += 1\n",
        "\n",
        "    return word2idx, idx2word, word_counts\n",
        "\n",
        "print(\"Building vocabulary...\")\n",
        "word2idx, idx2word, word_counts = build_vocab(train_tokenized, min_freq=2)\n",
        "print(f\"Vocabulary size: {len(word2idx)}\")\n",
        "\n",
        "# Function to convert tokens to indices\n",
        "def tokens_to_indices(tokenized_texts, word2idx, max_len=MAX_SEQ_LENGTH):\n",
        "    \"\"\"\n",
        "    Convert tokenized texts to index sequences\n",
        "\n",
        "    Args:\n",
        "        tokenized_texts: List of tokenized texts\n",
        "        word2idx: Vocabulary mapping\n",
        "        max_len: Maximum sequence length\n",
        "\n",
        "    Returns:\n",
        "        indexed_texts: List of indexed sequences\n",
        "        seq_lengths: List of original sequence lengths\n",
        "    \"\"\"\n",
        "    indexed_texts = []\n",
        "    seq_lengths = []\n",
        "\n",
        "    for tokens in tokenized_texts:\n",
        "        # Convert tokens to indices\n",
        "        indices = [word2idx.get(token, word2idx['<unk>']) for token in tokens]\n",
        "        # Save original length\n",
        "        seq_lengths.append(len(indices))\n",
        "\n",
        "        # Pad sequences\n",
        "        if len(indices) < max_len:\n",
        "            indices += [word2idx['<pad>']] * (max_len - len(indices))\n",
        "        elif len(indices) > max_len:\n",
        "            indices = indices[:max_len]\n",
        "            seq_lengths[-1] = max_len\n",
        "\n",
        "        indexed_texts.append(indices)\n",
        "\n",
        "    return indexed_texts, seq_lengths\n",
        "\n",
        "# Function to create embedding matrix from pre-trained vectors\n",
        "def create_embedding_matrix(word2idx, embed_dim=EMBEDDING_DIM, pretrained_path=None):\n",
        "    \"\"\"\n",
        "    Create embedding matrix from pretrained vectors or randomly\n",
        "\n",
        "    Args:\n",
        "        word2idx: Vocabulary mapping\n",
        "        embed_dim: Embedding dimension\n",
        "        pretrained_path: Path to pretrained embeddings (optional)\n",
        "\n",
        "    Returns:\n",
        "        embedding_matrix: Numpy array of embeddings\n",
        "    \"\"\"\n",
        "    vocab_size = len(word2idx)\n",
        "    embedding_matrix = np.random.normal(scale=0.6, size=(vocab_size, embed_dim))\n",
        "\n",
        "    # Initialize special tokens\n",
        "    embedding_matrix[0] = np.zeros(embed_dim)  # <pad> token\n",
        "\n",
        "    # Try to load GloVe embeddings first if no specific path is provided\n",
        "    if pretrained_path is None:\n",
        "        if glove_path:\n",
        "            pretrained_path = glove_path\n",
        "\n",
        "    # Load GloVe embeddings from text file\n",
        "    if pretrained_path and os.path.exists(pretrained_path) and pretrained_path.endswith('.txt'):\n",
        "        try:\n",
        "            print(f\"Loading GloVe embeddings from {pretrained_path}\")\n",
        "            word_vectors = {}\n",
        "\n",
        "            # Read GloVe file\n",
        "            with open(pretrained_path, 'r', encoding='utf-8') as f:\n",
        "                for line in tqdm(f, desc=\"Loading embeddings\"):\n",
        "                    values = line.strip().split()\n",
        "                    word = values[0]\n",
        "                    vector = np.array(values[1:], dtype='float32')\n",
        "                    word_vectors[word] = vector\n",
        "\n",
        "            # Update embedding matrix\n",
        "            found = 0\n",
        "            for word, idx in word2idx.items():\n",
        "                if word.lower() in word_vectors:\n",
        "                    embedding_matrix[idx] = word_vectors[word.lower()]\n",
        "                    found += 1\n",
        "\n",
        "            print(f\"Found GloVe embeddings for {found}/{vocab_size} words ({found/vocab_size:.1%})\")\n",
        "            return embedding_matrix\n",
        "        except Exception as e:\n",
        "            print(f\"Error loading GloVe embeddings: {e}\")\n",
        "            print(\"Falling back to other methods...\")\n",
        "\n",
        "    # Load pretrained embeddings if provided and gensim is available (Word2Vec, FastText)\n",
        "    if GENSIM_AVAILABLE and pretrained_path and os.path.exists(pretrained_path):\n",
        "        try:\n",
        "            print(f\"Loading pretrained embeddings from {pretrained_path}\")\n",
        "            word_vectors = KeyedVectors.load_word2vec_format(pretrained_path, binary=True)\n",
        "\n",
        "            found = 0\n",
        "            for word, idx in word2idx.items():\n",
        "                if word in word_vectors:\n",
        "                    embedding_matrix[idx] = word_vectors[word]\n",
        "                    found += 1\n",
        "\n",
        "            print(f\"Found embeddings for {found}/{vocab_size} words ({found/vocab_size:.1%})\")\n",
        "        except Exception as e:\n",
        "            print(f\"Error loading pretrained embeddings with gensim: {e}\")\n",
        "            print(\"Using random embeddings instead\")\n",
        "    else:\n",
        "        if not GENSIM_AVAILABLE and pretrained_path and not pretrained_path.endswith('.txt'):\n",
        "            print(\"Gensim not available and embeddings are not in text format. Using random embeddings.\")\n",
        "        elif not pretrained_path:\n",
        "            print(\"No pretrained embeddings provided. Using random embeddings.\")\n",
        "\n",
        "    return embedding_matrix\n",
        "\n",
        "# Create embedding matrix with pre-trained word vectors\n",
        "print(\"Creating embedding matrix with pre-trained word vectors...\")\n",
        "embedding_matrix = create_embedding_matrix(word2idx, EMBEDDING_DIM)"
      ]
    },
    {
      "cell_type": "markdown",
      "metadata": {
        "id": "Bhm265T-Ea-8"
      },
      "source": [
        "### Define the BiLSTM model and dataset\n"
      ]
    },
    {
      "cell_type": "code",
      "execution_count": 35,
      "metadata": {
        "id": "_kMyVYV8EX-l"
      },
      "outputs": [],
      "source": [
        "# BiLSTM with Attention Dataset\n",
        "class BiLSTMABSADataset(Dataset):\n",
        "    \"\"\"Dataset for BiLSTM Aspect-Based Sentiment Analysis\"\"\"\n",
        "\n",
        "    def __init__(self, texts, aspects, labels, word2idx, max_len=MAX_SEQ_LENGTH):\n",
        "        \"\"\"\n",
        "        Initialize dataset\n",
        "\n",
        "        Args:\n",
        "            texts: List of review texts\n",
        "            aspects: List of aspect texts\n",
        "            labels: List of sentiment labels\n",
        "            word2idx: Vocabulary mapping\n",
        "            max_len: Maximum sequence length\n",
        "        \"\"\"\n",
        "        self.texts = texts\n",
        "        self.aspects = aspects\n",
        "        self.labels = labels\n",
        "        self.word2idx = word2idx\n",
        "        self.max_len = max_len\n",
        "\n",
        "        # Preprocess texts\n",
        "        self.tokenized_texts = preprocess_for_bilstm(texts, aspects, max_len)\n",
        "        self.indexed_texts, self.seq_lengths = tokens_to_indices(\n",
        "            self.tokenized_texts, word2idx, max_len\n",
        "        )\n",
        "\n",
        "    def __len__(self):\n",
        "        return len(self.labels)\n",
        "\n",
        "    def __getitem__(self, idx):\n",
        "        return {\n",
        "            'text': torch.tensor(self.indexed_texts[idx], dtype=torch.long),\n",
        "            'length': torch.tensor(self.seq_lengths[idx], dtype=torch.long),\n",
        "            'label': torch.tensor(self.labels[idx], dtype=torch.long)\n",
        "        }\n",
        "\n",
        "# BiLSTM with Attention Model\n",
        "class BiLSTMAttention(nn.Module):\n",
        "    \"\"\"Bidirectional LSTM with Attention for ABSA\"\"\"\n",
        "\n",
        "    def __init__(self, vocab_size, embed_dim, hidden_dim, output_dim, n_layers=1,\n",
        "                 dropout=0.5, pad_idx=0, embedding_weights=None):\n",
        "        \"\"\"\n",
        "        Initialize model\n",
        "\n",
        "        Args:\n",
        "            vocab_size: Size of vocabulary\n",
        "            embed_dim: Embedding dimension\n",
        "            hidden_dim: LSTM hidden dimension\n",
        "            output_dim: Number of output classes\n",
        "            n_layers: Number of LSTM layers\n",
        "            dropout: Dropout rate\n",
        "            pad_idx: Padding token index\n",
        "            embedding_weights: Pretrained embedding weights\n",
        "        \"\"\"\n",
        "        super(BiLSTMAttention, self).__init__()\n",
        "\n",
        "        # Embedding layer\n",
        "        self.embedding = nn.Embedding(vocab_size, embed_dim, padding_idx=pad_idx)\n",
        "        if embedding_weights is not None:\n",
        "            self.embedding.weight.data.copy_(torch.from_numpy(embedding_weights))\n",
        "            print(\"Using pretrained embeddings\")\n",
        "\n",
        "        # BiLSTM layer - using simple implementation without packing\n",
        "        self.lstm = nn.LSTM(embed_dim,\n",
        "                           hidden_dim,\n",
        "                           num_layers=n_layers,\n",
        "                           bidirectional=True,\n",
        "                           batch_first=True,\n",
        "                           dropout=dropout if n_layers > 1 else 0)\n",
        "\n",
        "        # Output layer\n",
        "        self.fc = nn.Linear(hidden_dim * 2, output_dim)\n",
        "        self.dropout = nn.Dropout(dropout)\n",
        "        self.pad_idx = pad_idx\n",
        "\n",
        "    def forward(self, text, text_lengths):\n",
        "        \"\"\"\n",
        "        Forward pass using hidden states only (no attention)\n",
        "        This avoids all dimension mismatch issues\n",
        "\n",
        "        Args:\n",
        "            text: Tensor of token indices [batch_size, seq_len]\n",
        "            text_lengths: Tensor of sequence lengths [batch_size]\n",
        "\n",
        "        Returns:\n",
        "            output: Model predictions [batch_size, output_dim]\n",
        "        \"\"\"\n",
        "        # Debug: Print input shape\n",
        "        # print(f\"Input text shape: {text.shape}\")\n",
        "\n",
        "        # Embed tokens\n",
        "        embedded = self.dropout(self.embedding(text))\n",
        "\n",
        "        # Run LSTM without packing (simpler approach)\n",
        "        outputs, (hidden, _) = self.lstm(embedded)\n",
        "\n",
        "        # Debug: Print hidden shape\n",
        "        # print(f\"Hidden shape: {hidden.shape}\")\n",
        "\n",
        "        # Get final hidden states (forward and backward)\n",
        "        hidden_forward = hidden[-2, :, :]  # Final forward hidden state\n",
        "        hidden_backward = hidden[-1, :, :]  # Final backward hidden state\n",
        "\n",
        "        # Debug: Print hidden state shapes\n",
        "        # print(f\"hidden_forward shape: {hidden_forward.shape}\")\n",
        "        # print(f\"hidden_backward shape: {hidden_backward.shape}\")\n",
        "\n",
        "        # Concatenate final hidden states\n",
        "        final_hidden = torch.cat((hidden_forward, hidden_backward), dim=1)\n",
        "\n",
        "        # Debug: Print final hidden shape\n",
        "        # print(f\"final_hidden shape: {final_hidden.shape}\")\n",
        "\n",
        "        # Apply dropout and final layer\n",
        "        return self.fc(self.dropout(final_hidden))"
      ]
    },
    {
      "cell_type": "markdown",
      "metadata": {
        "id": "ickhyf_dEjjT"
      },
      "source": [
        "### Create datasets and initialize model\n"
      ]
    },
    {
      "cell_type": "code",
      "execution_count": 36,
      "metadata": {
        "id": "0gkQ4KxtEhyz",
        "colab": {
          "base_uri": "https://localhost:8080/"
        },
        "outputId": "44cdc0b5-a454-4ee3-d210-019b4a86a0ed"
      },
      "outputs": [
        {
          "output_type": "stream",
          "name": "stdout",
          "text": [
            "Creating datasets...\n",
            "Initializing BiLSTM model...\n",
            "Using pretrained embeddings\n",
            "Model architecture:\n",
            "BiLSTMAttention(\n",
            "  (embedding): Embedding(28404, 200, padding_idx=0)\n",
            "  (lstm): LSTM(200, 256, num_layers=2, batch_first=True, dropout=0.5, bidirectional=True)\n",
            "  (fc): Linear(in_features=512, out_features=3, bias=True)\n",
            "  (dropout): Dropout(p=0.5, inplace=False)\n",
            ")\n",
            "Trainable parameters: 8,197,283 (100.0% of total)\n"
          ]
        }
      ],
      "source": [
        "# Create datasets for BiLSTM\n",
        "print(\"Creating datasets...\")\n",
        "train_dataset = BiLSTMABSADataset(\n",
        "    train_df['text'].values,\n",
        "    train_df['aspect'].values,\n",
        "    train_df['sentiment'].values,\n",
        "    word2idx\n",
        ")\n",
        "\n",
        "val_dataset = BiLSTMABSADataset(\n",
        "    val_df['text'].values,\n",
        "    val_df['aspect'].values,\n",
        "    val_df['sentiment'].values,\n",
        "    word2idx\n",
        ")\n",
        "\n",
        "test_dataset = BiLSTMABSADataset(\n",
        "    test_df['text'].values,\n",
        "    test_df['aspect'].values,\n",
        "    test_df['sentiment'].values,\n",
        "    word2idx\n",
        ")\n",
        "\n",
        "# Create dataloaders\n",
        "train_dataloader = DataLoader(\n",
        "    train_dataset,\n",
        "    batch_size=BATCH_SIZE,\n",
        "    shuffle=True,\n",
        "    num_workers=0  # Set to 0 for compatibility\n",
        ")\n",
        "\n",
        "val_dataloader = DataLoader(\n",
        "    val_dataset,\n",
        "    batch_size=BATCH_SIZE,\n",
        "    shuffle=False,\n",
        "    num_workers=0\n",
        ")\n",
        "\n",
        "test_dataloader = DataLoader(\n",
        "    test_dataset,\n",
        "    batch_size=BATCH_SIZE,\n",
        "    shuffle=False,\n",
        "    num_workers=0\n",
        ")\n",
        "\n",
        "# Initialize BiLSTM model\n",
        "print(\"Initializing BiLSTM model...\")\n",
        "bilstm_model = BiLSTMAttention(\n",
        "    vocab_size=len(word2idx),\n",
        "    embed_dim=EMBEDDING_DIM,\n",
        "    hidden_dim=HIDDEN_DIM,\n",
        "    output_dim=3,  # 3 sentiment classes\n",
        "    n_layers=N_LAYERS,\n",
        "    dropout=DROPOUT,\n",
        "    pad_idx=word2idx['<pad>'],\n",
        "    embedding_weights=embedding_matrix\n",
        ").to(device)\n",
        "\n",
        "# Print model architecture and parameters\n",
        "trainable_params = sum(p.numel() for p in bilstm_model.parameters() if p.requires_grad)\n",
        "total_params = sum(p.numel() for p in bilstm_model.parameters())\n",
        "print(f\"Model architecture:\\n{bilstm_model}\")\n",
        "print(f\"Trainable parameters: {trainable_params:,} ({trainable_params/total_params:.1%} of total)\")"
      ]
    },
    {
      "cell_type": "markdown",
      "metadata": {
        "id": "ZizXLT0xEoDt"
      },
      "source": [
        "### Define training and evaluation functions\n"
      ]
    },
    {
      "cell_type": "code",
      "execution_count": 37,
      "metadata": {
        "id": "xmAFZehrEml3"
      },
      "outputs": [],
      "source": [
        "# Training function\n",
        "def train_bilstm(model, iterator, optimizer, criterion, device):\n",
        "    \"\"\"\n",
        "    Train function for BiLSTM model\n",
        "\n",
        "    Args:\n",
        "        model: BiLSTM model\n",
        "        iterator: DataLoader for training data\n",
        "        optimizer: Optimizer\n",
        "        criterion: Loss function\n",
        "        device: Device (cuda/cpu)\n",
        "\n",
        "    Returns:\n",
        "        epoch_loss: Average loss for epoch\n",
        "        epoch_acc: Accuracy for epoch\n",
        "    \"\"\"\n",
        "    epoch_loss = 0\n",
        "    epoch_acc = 0\n",
        "\n",
        "    model.train()\n",
        "\n",
        "    all_preds = []\n",
        "    all_labels = []\n",
        "\n",
        "    for batch in tqdm(iterator, desc=\"Training\"):\n",
        "        # Get batch data\n",
        "        text = batch['text'].to(device)\n",
        "        text_lengths = batch['length'].to(device)\n",
        "        labels = batch['label'].to(device)\n",
        "\n",
        "        # Zero gradients\n",
        "        optimizer.zero_grad()\n",
        "\n",
        "        # Forward pass\n",
        "        predictions = model(text, text_lengths)\n",
        "\n",
        "        # Compute loss\n",
        "        loss = criterion(predictions, labels)\n",
        "\n",
        "        # Backward pass\n",
        "        loss.backward()\n",
        "\n",
        "        # Update parameters\n",
        "        optimizer.step()\n",
        "\n",
        "        # Calculate predictions\n",
        "        _, preds = torch.max(predictions, dim=1)\n",
        "\n",
        "        # Update metrics\n",
        "        epoch_loss += loss.item()\n",
        "        all_preds.extend(preds.cpu().numpy())\n",
        "        all_labels.extend(labels.cpu().numpy())\n",
        "\n",
        "    # Calculate accuracy\n",
        "    epoch_acc = accuracy_score(all_labels, all_preds)\n",
        "\n",
        "    return epoch_loss / len(iterator), epoch_acc\n",
        "\n",
        "# Evaluation function\n",
        "def evaluate_bilstm(model, iterator, criterion, device):\n",
        "    \"\"\"\n",
        "    Evaluation function for BiLSTM model\n",
        "\n",
        "    Args:\n",
        "        model: BiLSTM model\n",
        "        iterator: DataLoader for evaluation data\n",
        "        criterion: Loss function\n",
        "        device: Device (cuda/cpu)\n",
        "\n",
        "    Returns:\n",
        "        epoch_loss: Average loss for epoch\n",
        "        epoch_acc: Accuracy for epoch\n",
        "        all_preds: All predictions\n",
        "        all_labels: All ground truth labels\n",
        "    \"\"\"\n",
        "    epoch_loss = 0\n",
        "    epoch_acc = 0\n",
        "\n",
        "    model.eval()\n",
        "\n",
        "    all_preds = []\n",
        "    all_labels = []\n",
        "\n",
        "    with torch.no_grad():\n",
        "        for batch in tqdm(iterator, desc=\"Evaluating\"):\n",
        "            # Get batch data\n",
        "            text = batch['text'].to(device)\n",
        "            text_lengths = batch['length'].to(device)\n",
        "            labels = batch['label'].to(device)\n",
        "\n",
        "            # Forward pass\n",
        "            predictions = model(text, text_lengths)\n",
        "\n",
        "            # Compute loss\n",
        "            loss = criterion(predictions, labels)\n",
        "\n",
        "            # Calculate predictions\n",
        "            _, preds = torch.max(predictions, dim=1)\n",
        "\n",
        "            # Update metrics\n",
        "            epoch_loss += loss.item()\n",
        "            all_preds.extend(preds.cpu().numpy())\n",
        "            all_labels.extend(labels.cpu().numpy())\n",
        "\n",
        "    # Calculate accuracy\n",
        "    epoch_acc = accuracy_score(all_labels, all_preds)\n",
        "\n",
        "    return epoch_loss / len(iterator), epoch_acc, all_preds, all_labels"
      ]
    },
    {
      "cell_type": "markdown",
      "metadata": {
        "id": "-SKno0ESEsJB"
      },
      "source": [
        "### Train the BiLSTM model\n"
      ]
    },
    {
      "cell_type": "code",
      "execution_count": 38,
      "metadata": {
        "id": "wRuT1JATEq0u",
        "colab": {
          "base_uri": "https://localhost:8080/"
        },
        "outputId": "f8a93dc4-49d6-4287-dfc8-b9648ae7f26d"
      },
      "outputs": [
        {
          "output_type": "stream",
          "name": "stdout",
          "text": [
            "Training BiLSTM model...\n"
          ]
        },
        {
          "output_type": "stream",
          "name": "stderr",
          "text": [
            "Training: 100%|██████████| 4334/4334 [01:04<00:00, 67.62it/s]\n",
            "Evaluating: 100%|██████████| 929/929 [00:05<00:00, 184.96it/s]\n"
          ]
        },
        {
          "output_type": "stream",
          "name": "stdout",
          "text": [
            "Epoch 1/5\n",
            "Train Loss: 0.6621, Train Acc: 0.7149\n",
            "Val Loss: 0.5768, Val Acc: 0.7524\n",
            "► Saved new best model with validation loss: 0.5768\n"
          ]
        },
        {
          "output_type": "stream",
          "name": "stderr",
          "text": [
            "Training: 100%|██████████| 4334/4334 [01:03<00:00, 68.68it/s]\n",
            "Evaluating: 100%|██████████| 929/929 [00:05<00:00, 185.20it/s]\n"
          ]
        },
        {
          "output_type": "stream",
          "name": "stdout",
          "text": [
            "Epoch 2/5\n",
            "Train Loss: 0.5661, Train Acc: 0.7534\n",
            "Val Loss: 0.5422, Val Acc: 0.7631\n",
            "► Saved new best model with validation loss: 0.5422\n"
          ]
        },
        {
          "output_type": "stream",
          "name": "stderr",
          "text": [
            "Training: 100%|██████████| 4334/4334 [01:03<00:00, 68.62it/s]\n",
            "Evaluating: 100%|██████████| 929/929 [00:05<00:00, 183.77it/s]\n"
          ]
        },
        {
          "output_type": "stream",
          "name": "stdout",
          "text": [
            "Epoch 3/5\n",
            "Train Loss: 0.5356, Train Acc: 0.7661\n",
            "Val Loss: 0.5329, Val Acc: 0.7699\n",
            "► Saved new best model with validation loss: 0.5329\n"
          ]
        },
        {
          "output_type": "stream",
          "name": "stderr",
          "text": [
            "Training: 100%|██████████| 4334/4334 [01:03<00:00, 68.71it/s]\n",
            "Evaluating: 100%|██████████| 929/929 [00:05<00:00, 184.99it/s]\n"
          ]
        },
        {
          "output_type": "stream",
          "name": "stdout",
          "text": [
            "Epoch 4/5\n",
            "Train Loss: 0.5098, Train Acc: 0.7787\n",
            "Val Loss: 0.5093, Val Acc: 0.7793\n",
            "► Saved new best model with validation loss: 0.5093\n"
          ]
        },
        {
          "output_type": "stream",
          "name": "stderr",
          "text": [
            "Training: 100%|██████████| 4334/4334 [01:03<00:00, 68.63it/s]\n",
            "Evaluating: 100%|██████████| 929/929 [00:05<00:00, 183.04it/s]"
          ]
        },
        {
          "output_type": "stream",
          "name": "stdout",
          "text": [
            "Epoch 5/5\n",
            "Train Loss: 0.4888, Train Acc: 0.7894\n",
            "Val Loss: 0.5098, Val Acc: 0.7847\n",
            "Loading best model...\n",
            "Model training complete in 342.61 seconds\n"
          ]
        },
        {
          "output_type": "stream",
          "name": "stderr",
          "text": [
            "\n"
          ]
        }
      ],
      "source": [
        "# Initialize optimizer and loss function\n",
        "optimizer = torch.optim.Adam(bilstm_model.parameters(), lr=LEARNING_RATE)\n",
        "criterion = nn.CrossEntropyLoss().to(device)\n",
        "\n",
        "# Train the model\n",
        "print(\"Training BiLSTM model...\")\n",
        "model_start_time = time.time()\n",
        "best_val_loss = float('inf')\n",
        "best_model_state = None\n",
        "\n",
        "for epoch in range(N_EPOCHS):\n",
        "    # Train\n",
        "    train_loss, train_acc = train_bilstm(\n",
        "        bilstm_model, train_dataloader, optimizer, criterion, device\n",
        "    )\n",
        "\n",
        "    # Evaluate\n",
        "    val_loss, val_acc, _, _ = evaluate_bilstm(\n",
        "        bilstm_model, val_dataloader, criterion, device\n",
        "    )\n",
        "\n",
        "    # Print progress\n",
        "    print(f\"Epoch {epoch+1}/{N_EPOCHS}\")\n",
        "    print(f\"Train Loss: {train_loss:.4f}, Train Acc: {train_acc:.4f}\")\n",
        "    print(f\"Val Loss: {val_loss:.4f}, Val Acc: {val_acc:.4f}\")\n",
        "\n",
        "    # Save best model\n",
        "    if val_loss < best_val_loss:\n",
        "        best_val_loss = val_loss\n",
        "        best_model_state = bilstm_model.state_dict().copy()\n",
        "        print(f\"► Saved new best model with validation loss: {val_loss:.4f}\")\n",
        "\n",
        "# Load best model\n",
        "if best_model_state:\n",
        "    print(\"Loading best model...\")\n",
        "    bilstm_model.load_state_dict(best_model_state)\n",
        "\n",
        "model_time = time.time() - model_start_time\n",
        "print(f\"Model training complete in {model_time:.2f} seconds\")\n"
      ]
    },
    {
      "cell_type": "markdown",
      "metadata": {
        "id": "UdcszItTExdm"
      },
      "source": [
        "### Evaluate model on test set and calculate detailed metrics\n"
      ]
    },
    {
      "cell_type": "code",
      "execution_count": 39,
      "metadata": {
        "id": "rY1S491BEv23",
        "colab": {
          "base_uri": "https://localhost:8080/",
          "height": 1000
        },
        "outputId": "82e67fa9-b988-4f8f-c3f0-c7c0f2e842a4"
      },
      "outputs": [
        {
          "output_type": "stream",
          "name": "stdout",
          "text": [
            "\n",
            "======= Evaluating Model Accuracy =======\n"
          ]
        },
        {
          "output_type": "stream",
          "name": "stderr",
          "text": [
            "Evaluating model accuracy: 100%|██████████| 929/929 [00:04<00:00, 185.94it/s]\n"
          ]
        },
        {
          "output_type": "stream",
          "name": "stdout",
          "text": [
            "\n",
            "======= Model Accuracy Metrics =======\n",
            "Overall Accuracy: 0.7827\n",
            "Weighted Precision: 0.7778\n",
            "Weighted Recall: 0.7827\n",
            "Weighted F1-Score: 0.7760\n",
            "\n",
            "Per-Class Metrics:\n",
            "Negative:\n",
            "  Precision: 0.6717\n",
            "  Recall: 0.7110\n",
            "  F1-Score: 0.6908\n",
            "  Support: 12658\n",
            "Neutral:\n",
            "  Precision: 0.7065\n",
            "  Recall: 0.4846\n",
            "  F1-Score: 0.5749\n",
            "  Support: 10305\n",
            "Positive:\n",
            "  Precision: 0.8348\n",
            "  Recall: 0.8919\n",
            "  F1-Score: 0.8624\n",
            "  Support: 36467\n",
            "\n",
            "Confusion matrix saved as 'confusion_matrix.png'\n"
          ]
        },
        {
          "output_type": "display_data",
          "data": {
            "text/plain": [
              "<Figure size 800x600 with 2 Axes>"
            ],
            "image/png": "[encoded data removed]"
          },
          "metadata": {}
        },
        {
          "output_type": "stream",
          "name": "stdout",
          "text": [
            "\n",
            "Accuracy by Aspect Length:\n",
            "  Length 1: 0.7668 (count: 29835)\n",
            "  Length 2: 0.7941 (count: 22355)\n",
            "  Length 3: 0.8088 (count: 5120)\n",
            "  Length 4: 0.8055 (count: 1424)\n",
            "  Length 5: 0.8691 (count: 443)\n",
            "  Length 6: 0.8630 (count: 146)\n",
            "  Length 7: 0.8421 (count: 57)\n",
            "  Length 8: 0.9200 (count: 25)\n",
            "  Length 9: 0.8182 (count: 11)\n",
            "  Length 10: 0.8333 (count: 6)\n",
            "  Length 11: 1.0000 (count: 5)\n",
            "  Length 12: 1.0000 (count: 1)\n",
            "  Length 14: 0.0000 (count: 2)\n",
            "\n",
            "Class Distribution - True vs Predicted:\n",
            "  Negative: True=21.30%, Predicted=22.55%\n",
            "  Neutral: True=17.34%, Predicted=11.89%\n",
            "  Positive: True=61.36%, Predicted=65.56%\n"
          ]
        },
        {
          "output_type": "stream",
          "name": "stderr",
          "text": [
            "<ipython-input-39-0a3ebe494f3d>:95: DeprecationWarning: DataFrameGroupBy.apply operated on the grouping columns. This behavior is deprecated, and in a future version of pandas the grouping columns will be excluded from the operation. Either pass `include_groups=False` to exclude the groupings or explicitly select the grouping columns after groupby to silence this warning.\n",
            "  length_groups = test_df_copy.groupby('aspect_length').apply(\n"
          ]
        }
      ],
      "source": [
        "def evaluate_model_performance(model, test_dataloader, word2idx, device, test_df):\n",
        "    \"\"\"\n",
        "    Evaluate model performance with detailed metrics\n",
        "\n",
        "    Args:\n",
        "        model: Trained BiLSTM model\n",
        "        test_dataloader: DataLoader for test data\n",
        "        word2idx: Vocabulary mapping\n",
        "        device: Device (cuda/cpu)\n",
        "        test_df: Test dataframe with ground truth labels\n",
        "\n",
        "    Returns:\n",
        "        metrics: Dictionary with accuracy metrics\n",
        "    \"\"\"\n",
        "    # Get predictions\n",
        "    model.eval()\n",
        "    all_preds = []\n",
        "    all_labels = []\n",
        "    all_confidence = []\n",
        "\n",
        "    with torch.no_grad():\n",
        "        for batch in tqdm(test_dataloader, desc=\"Evaluating model accuracy\"):\n",
        "            # Get batch data\n",
        "            text = batch['text'].to(device)\n",
        "            text_lengths = batch['length'].to(device)\n",
        "            labels = batch['label'].to(device)\n",
        "\n",
        "            # Forward pass\n",
        "            predictions = model(text, text_lengths)\n",
        "\n",
        "            # Get predicted class and confidence\n",
        "            probs = F.softmax(predictions, dim=1)\n",
        "            confidence, preds = torch.max(probs, dim=1)\n",
        "\n",
        "            # Save predictions and labels\n",
        "            all_preds.extend(preds.cpu().numpy())\n",
        "            all_labels.extend(labels.cpu().numpy())\n",
        "            all_confidence.extend(confidence.cpu().numpy())\n",
        "\n",
        "    # Calculate metrics\n",
        "    accuracy = accuracy_score(all_labels, all_preds)\n",
        "    precision, recall, f1, _ = precision_recall_fscore_support(\n",
        "        all_labels, all_preds, average='weighted'\n",
        "    )\n",
        "\n",
        "    # Calculate metrics per class\n",
        "    class_precision, class_recall, class_f1, class_support = precision_recall_fscore_support(\n",
        "        all_labels, all_preds, labels=[0, 1, 2]\n",
        "    )\n",
        "\n",
        "    # Calculate confusion matrix\n",
        "    cm = confusion_matrix(all_labels, all_preds)\n",
        "\n",
        "    # Print overall metrics\n",
        "    print(\"\\n======= Model Accuracy Metrics =======\")\n",
        "    print(f\"Overall Accuracy: {accuracy:.4f}\")\n",
        "    print(f\"Weighted Precision: {precision:.4f}\")\n",
        "    print(f\"Weighted Recall: {recall:.4f}\")\n",
        "    print(f\"Weighted F1-Score: {f1:.4f}\")\n",
        "\n",
        "    # Print per-class metrics\n",
        "    print(\"\\nPer-Class Metrics:\")\n",
        "    for i, sentiment in enumerate(['Negative', 'Neutral', 'Positive']):\n",
        "        print(f\"{sentiment}:\")\n",
        "        print(f\"  Precision: {class_precision[i]:.4f}\")\n",
        "        print(f\"  Recall: {class_recall[i]:.4f}\")\n",
        "        print(f\"  F1-Score: {class_f1[i]:.4f}\")\n",
        "        print(f\"  Support: {class_support[i]}\")\n",
        "\n",
        "    # Plot confusion matrix\n",
        "    try:\n",
        "        plt.figure(figsize=(8, 6))\n",
        "        sns.heatmap(cm, annot=True, fmt='d', cmap='Blues',\n",
        "                    xticklabels=['Negative', 'Neutral', 'Positive'],\n",
        "                    yticklabels=['Negative', 'Neutral', 'Positive'])\n",
        "        plt.xlabel('Predicted')\n",
        "        plt.ylabel('True')\n",
        "        plt.title('Confusion Matrix')\n",
        "        plt.tight_layout()\n",
        "\n",
        "        # Save or display\n",
        "        plt.savefig('confusion_matrix.png')\n",
        "        print(\"\\nConfusion matrix saved as 'confusion_matrix.png'\")\n",
        "        plt.show()\n",
        "    except Exception as e:\n",
        "        print(f\"\\nCould not generate confusion matrix plot: {e}\")\n",
        "\n",
        "    # Calculate accuracy by aspect length\n",
        "    test_df_copy = test_df.copy()\n",
        "    test_df_copy['prediction'] = all_preds\n",
        "    test_df_copy['confidence'] = all_confidence\n",
        "    test_df_copy['aspect_length'] = test_df_copy['aspect'].apply(lambda x: len(x.split()))\n",
        "\n",
        "    # Group by aspect length\n",
        "    length_groups = test_df_copy.groupby('aspect_length').apply(\n",
        "        lambda x: accuracy_score(x['sentiment'], x['prediction'])\n",
        "    )\n",
        "\n",
        "    print(\"\\nAccuracy by Aspect Length:\")\n",
        "    for length, acc in length_groups.items():\n",
        "        count = len(test_df_copy[test_df_copy['aspect_length'] == length])\n",
        "        print(f\"  Length {length}: {acc:.4f} (count: {count})\")\n",
        "\n",
        "    # Check for bias in predictions\n",
        "    predicted_distribution = np.bincount(all_preds, minlength=3) / len(all_preds)\n",
        "    true_distribution = np.bincount(all_labels, minlength=3) / len(all_labels)\n",
        "\n",
        "    print(\"\\nClass Distribution - True vs Predicted:\")\n",
        "    for i, sentiment in enumerate(['Negative', 'Neutral', 'Positive']):\n",
        "        print(f\"  {sentiment}: True={true_distribution[i]:.2%}, Predicted={predicted_distribution[i]:.2%}\")\n",
        "\n",
        "    # Return metrics\n",
        "    metrics = {\n",
        "        'accuracy': accuracy,\n",
        "        'precision': precision,\n",
        "        'recall': recall,\n",
        "        'f1': f1,\n",
        "        'per_class_metrics': {\n",
        "            'precision': class_precision,\n",
        "            'recall': class_recall,\n",
        "            'f1': class_f1,\n",
        "            'support': class_support\n",
        "        }\n",
        "    }\n",
        "\n",
        "    return metrics\n",
        "\n",
        "# Test the model with detailed metrics\n",
        "print(\"\\n======= Evaluating Model Accuracy =======\")\n",
        "test_metrics = evaluate_model_performance(\n",
        "    bilstm_model,\n",
        "    test_dataloader,\n",
        "    word2idx,\n",
        "    device,\n",
        "    test_df\n",
        ")"
      ]
    },
    {
      "cell_type": "markdown",
      "metadata": {
        "id": "nA6Nkh9ukFQc"
      },
      "source": [
        "## DistilBERT-ABSA"
      ]
    },
    {
      "cell_type": "markdown",
      "metadata": {
        "id": "35-fj0wffWlO"
      },
      "source": [
        "### Initialise model\n"
      ]
    },
    {
      "cell_type": "code",
      "execution_count": 40,
      "metadata": {
        "id": "9k852L9TfV28"
      },
      "outputs": [],
      "source": [
        "# Function for deterministic weight initialization\n",
        "def init_weights(m):\n",
        "    if isinstance(m, nn.Linear):\n",
        "        torch.nn.init.xavier_uniform_(m.weight, gain=1.0)\n",
        "        torch.nn.init.zeros_(m.bias)"
      ]
    },
    {
      "cell_type": "code",
      "execution_count": 41,
      "metadata": {
        "id": "I__ttIzGwvq1"
      },
      "outputs": [],
      "source": [
        "# Create a custom Dataset for DistilBERT-ABSA\n",
        "class ABSADataset(Dataset):\n",
        "    def __init__(self, texts, aspects, labels, tokenizer, max_len=MAX_SEQ_LENGTH):\n",
        "        self.texts = texts\n",
        "        self.aspects = aspects\n",
        "        self.labels = labels\n",
        "        self.tokenizer = tokenizer\n",
        "        self.max_len = max_len\n",
        "\n",
        "    def __len__(self):\n",
        "        return len(self.texts)\n",
        "\n",
        "    def __getitem__(self, idx):\n",
        "        text = str(self.texts[idx])\n",
        "        aspect = str(self.aspects[idx])\n",
        "        label = self.labels[idx]\n",
        "\n",
        "        # Instead of sending text and aspect separately, concatenate them with a separator\n",
        "        combined_text = text + \" \" + self.tokenizer.sep_token + \" \" + aspect\n",
        "\n",
        "        # Create input with combined text\n",
        "        encoding = self.tokenizer.encode_plus(\n",
        "            combined_text,\n",
        "            add_special_tokens=True,\n",
        "            max_length=self.max_len,\n",
        "            padding='max_length',\n",
        "            truncation=True,\n",
        "            return_attention_mask=True,\n",
        "            return_tensors='pt',\n",
        "        )\n",
        "\n",
        "        return {\n",
        "            'input_ids': encoding['input_ids'].flatten(),\n",
        "            'attention_mask': encoding['attention_mask'].flatten(),\n",
        "            'token_type_ids': encoding.get('token_type_ids', torch.zeros(self.max_len, dtype=torch.long)).flatten(),\n",
        "            'labels': torch.tensor(label, dtype=torch.long)\n",
        "        }"
      ]
    },
    {
      "cell_type": "code",
      "execution_count": 42,
      "metadata": {
        "id": "9sCuft1UwyZ5",
        "colab": {
          "base_uri": "https://localhost:8080/",
          "height": 249,
          "referenced_widgets": [
            "2f1aa7c8cf4346a79b75c19e3934e051",
            "49c3c20df3bd4cb9a9cab441128a1ed5",
            "27680167f4574e478e4feae2d8434c93",
            "f9737e03316642ecb0463b58a6e5d8c7",
            "818ca39a033f4ed3a8b8d83043f347b0",
            "af9403aba48c4cfcb6a21cd1d63b849f",
            "d4f98bc52a324850812388c1197565e6",
            "89469690b34e47c992eb6bdf0e131afb",
            "be8e9714538240d58302d5aa767f4db1",
            "fa410b3b705e484cbdfa23791fb360b0",
            "65ce939bfa914d14827533c57c106561",
            "8413d3003b924e4ba96faac72711913b",
            "980cd40eb0694696a907462ce72389f0",
            "4725c6d29f0e4a2bad8c3a574a742f72",
            "2b41bbf1b81d4f7a862073c2f104bf04",
            "1ed19c709a2a49a491b6fb1cf3284b9b",
            "78fe4aa15c6f4e86aacb348431443e89",
            "b541bb84616f4dddaa966b93e0390d94",
            "cbff0251551e40329f528128db45a21f",
            "c96c813ec1b44ab49b9d89dcdf002282",
            "bbb78aa1beb44a3c92fd6ff02bff09f5",
            "878b9e6143c04260bf73a1f65a215124",
            "fbd1bcc6096d4498b9e4012d5bdfabf4",
            "bcadaf5cbe494cef9633614758a0bb75",
            "c0ac5bf1da954479a28149b4d32d9086",
            "52c860ba66c74573bbc9f0175465680a",
            "187e02b84c9a405abb7c1a7b7d021412",
            "5216eb36dd90453083e2e26539c37408",
            "1e8baa8ad225423892f65e225b26600d",
            "d67c712d30ac466191112e91d1a42a15",
            "00eaa7c784a144389aea287c98aa66e7",
            "705de0880b424513bc3ce3df26d6080e",
            "b852c940f8d040d79762ec2477b52184",
            "072c950793f2402881f0af0d4e535563",
            "0a3b5b43570e4339a0ff960411fa1434",
            "b080ba4ecb8a4a1aa0cb953b7b7e11d8",
            "fd86506c20f2448d9462d3f6e860579b",
            "c5c93886436c442bad9398f3d54ad373",
            "51ee83ef70c2441397ec935b35db9eb2",
            "315af32377b64a649e4ee66428e2ec99",
            "076bd81b2afc4864b4b93090d23f8e01",
            "1b65b1208a0649259c2d5955b7524265",
            "6ee4130faa4a4a24bb43faebaa9424c8",
            "f45fa986cf794ce59884c9a01c7da314"
          ]
        },
        "outputId": "1785ae67-1bdd-4b8f-8246-ce7cf0c246c0"
      },
      "outputs": [
        {
          "output_type": "stream",
          "name": "stderr",
          "text": [
            "/usr/local/lib/python3.11/dist-packages/huggingface_hub/utils/_auth.py:94: UserWarning: \n",
            "The secret `HF_TOKEN` does not exist in your Colab secrets.\n",
            "To authenticate with the Hugging Face Hub, create a token in your settings tab (https://huggingface.co/settings/tokens), set it as secret in your Google Colab and restart your session.\n",
            "You will be able to reuse this secret in all of your notebooks.\n",
            "Please note that authentication is recommended but still optional to access public models or datasets.\n",
            "  warnings.warn(\n"
          ]
        },
        {
          "output_type": "display_data",
          "data": {
            "text/plain": [
              "tokenizer_config.json:   0%|          | 0.00/48.0 [00:00<?, ?B/s]"
            ],
            "application/vnd.jupyter.widget-view+json": {
              "version_major": 2,
              "version_minor": 0,
              "model_id": "2f1aa7c8cf4346a79b75c19e3934e051"
            }
          },
          "metadata": {}
        },
        {
          "output_type": "display_data",
          "data": {
            "text/plain": [
              "vocab.txt:   0%|          | 0.00/232k [00:00<?, ?B/s]"
            ],
            "application/vnd.jupyter.widget-view+json": {
              "version_major": 2,
              "version_minor": 0,
              "model_id": "8413d3003b924e4ba96faac72711913b"
            }
          },
          "metadata": {}
        },
        {
          "output_type": "display_data",
          "data": {
            "text/plain": [
              "tokenizer.json:   0%|          | 0.00/466k [00:00<?, ?B/s]"
            ],
            "application/vnd.jupyter.widget-view+json": {
              "version_major": 2,
              "version_minor": 0,
              "model_id": "fbd1bcc6096d4498b9e4012d5bdfabf4"
            }
          },
          "metadata": {}
        },
        {
          "output_type": "display_data",
          "data": {
            "text/plain": [
              "config.json:   0%|          | 0.00/483 [00:00<?, ?B/s]"
            ],
            "application/vnd.jupyter.widget-view+json": {
              "version_major": 2,
              "version_minor": 0,
              "model_id": "072c950793f2402881f0af0d4e535563"
            }
          },
          "metadata": {}
        }
      ],
      "source": [
        "# Create DistilBERT tokenizer\n",
        "distilbert_tokenizer = DistilBertTokenizer.from_pretrained('distilbert-base-uncased')"
      ]
    },
    {
      "cell_type": "code",
      "execution_count": 43,
      "metadata": {
        "id": "RO8aTQ02w01N"
      },
      "outputs": [],
      "source": [
        "# Create datasets for DistilBERT-ABSA\n",
        "distilbert_train_dataset = ABSADataset(\n",
        "    texts=train_df['text'].values,\n",
        "    aspects=train_df['aspect'].values,\n",
        "    labels=train_df['sentiment'].values,\n",
        "    tokenizer=distilbert_tokenizer\n",
        ")\n",
        "\n",
        "distilbert_val_dataset = ABSADataset(\n",
        "    texts=val_df['text'].values,\n",
        "    aspects=val_df['aspect'].values,\n",
        "    labels=val_df['sentiment'].values,\n",
        "    tokenizer=distilbert_tokenizer\n",
        ")\n",
        "\n",
        "distilbert_test_dataset = ABSADataset(\n",
        "    texts=test_df['text'].values,\n",
        "    aspects=test_df['aspect'].values,\n",
        "    labels=test_df['sentiment'].values,\n",
        "    tokenizer=distilbert_tokenizer\n",
        ")"
      ]
    },
    {
      "cell_type": "code",
      "execution_count": 44,
      "metadata": {
        "id": "v4KuTDfKw0xy"
      },
      "outputs": [],
      "source": [
        "# Store indices for later matching\n",
        "distilbert_train_dataset.indices = train_df.index.tolist()\n",
        "distilbert_val_dataset.indices = val_df.index.tolist()\n",
        "distilbert_test_dataset.indices = test_df.index.tolist()"
      ]
    },
    {
      "cell_type": "code",
      "execution_count": 45,
      "metadata": {
        "id": "2FZOTmK8w0u0"
      },
      "outputs": [],
      "source": [
        "# Create optimized dataloaders\n",
        "g = torch.Generator()\n",
        "g.manual_seed(RANDOM_SEED)\n",
        "\n",
        "distilbert_train_dataloader = DataLoader(\n",
        "    distilbert_train_dataset,\n",
        "    batch_size=BATCH_SIZE,\n",
        "    shuffle=True,\n",
        "    worker_init_fn=lambda worker_id: np.random.seed(RANDOM_SEED + worker_id),\n",
        "    generator=g,\n",
        "    num_workers=NUM_WORKERS,  # Parallel data loading\n",
        "    pin_memory=True,  # Speed up CPU->GPU transfers\n",
        "    prefetch_factor=2  # Prefetch batches (if using num_workers > 0)\n",
        ")\n",
        "\n",
        "distilbert_val_dataloader = DataLoader(\n",
        "    distilbert_val_dataset,\n",
        "    batch_size=BATCH_SIZE,\n",
        "    shuffle=False,\n",
        "    num_workers=NUM_WORKERS,\n",
        "    pin_memory=True\n",
        ")\n",
        "\n",
        "distilbert_test_dataloader = DataLoader(\n",
        "    distilbert_test_dataset,\n",
        "    batch_size=BATCH_SIZE,\n",
        "    shuffle=False,\n",
        "    num_workers=NUM_WORKERS,\n",
        "    pin_memory=True\n",
        ")"
      ]
    },
    {
      "cell_type": "markdown",
      "metadata": {
        "id": "-VhGNPFikimK"
      },
      "source": [
        "### Define model"
      ]
    },
    {
      "cell_type": "code",
      "execution_count": 46,
      "metadata": {
        "id": "UCWgZWKOw0rx"
      },
      "outputs": [],
      "source": [
        "class DistilBERTABSA(nn.Module):\n",
        "    def __init__(self, model_name='distilbert-base-uncased', n_classes=3):\n",
        "        super(DistilBERTABSA, self).__init__()\n",
        "\n",
        "        self.distilbert = DistilBertModel.from_pretrained(model_name)\n",
        "        self.drop = nn.Dropout(p=0.3)\n",
        "        self.fc = nn.Linear(self.distilbert.config.hidden_size, n_classes)\n",
        "\n",
        "    def forward(self, input_ids, attention_mask, token_type_ids=None):\n",
        "        # DistilBERT doesn't use token_type_ids, so we can ignore that parameter\n",
        "        outputs = self.distilbert(\n",
        "            input_ids=input_ids,\n",
        "            attention_mask=attention_mask\n",
        "        )\n",
        "\n",
        "        # Use the [CLS] token representation for classification\n",
        "        hidden_state = outputs.last_hidden_state[:, 0]  # Use [CLS] token\n",
        "        x = self.drop(hidden_state)\n",
        "\n",
        "        return self.fc(x)"
      ]
    },
    {
      "cell_type": "code",
      "execution_count": 47,
      "metadata": {
        "id": "1pAXv3FHw9z_",
        "colab": {
          "base_uri": "https://localhost:8080/",
          "height": 66,
          "referenced_widgets": [
            "2326d34e40f542d099b95202d20355f9",
            "02f6fe3d5bfe4b729547b097009d05e1",
            "dcee39d7a09c47ef83c58dc7232e52c2",
            "6bea49b11f594f04b9bd0695a769cd7c",
            "9141e4772c7f438caeeefa7512d7bb1b",
            "38e7880212714392abf49496a4b8f27c",
            "b4095368dc0c44619b3db7ac0b7b24b9",
            "0f0da55df0884426b68fd3a1dede676d",
            "184ca626087041918dc7ddc8caef8af7",
            "c48e0932e8c845778ea4889051e47b9d",
            "d1c73ea75af643608f2a2a99725f9f62"
          ]
        },
        "outputId": "eca052bf-ef6b-46b1-9759-cfd80597257c"
      },
      "outputs": [
        {
          "output_type": "display_data",
          "data": {
            "text/plain": [
              "model.safetensors:   0%|          | 0.00/268M [00:00<?, ?B/s]"
            ],
            "application/vnd.jupyter.widget-view+json": {
              "version_major": 2,
              "version_minor": 0,
              "model_id": "2326d34e40f542d099b95202d20355f9"
            }
          },
          "metadata": {}
        },
        {
          "output_type": "execute_result",
          "data": {
            "text/plain": [
              "Linear(in_features=768, out_features=3, bias=True)"
            ]
          },
          "metadata": {},
          "execution_count": 47
        }
      ],
      "source": [
        "# Initialize DistilBERT-ABSA model with deterministic initialization\n",
        "torch.manual_seed(RANDOM_SEED)  # Reset seed before model initialization\n",
        "distilbert_model_name = 'distilbert-base-uncased'\n",
        "distilbert_absa_model = DistilBERTABSA(distilbert_model_name, n_classes=3)\n",
        "distilbert_absa_model.to(device)\n",
        "\n",
        "# Apply deterministic weight initialization where possible\n",
        "distilbert_absa_model.fc.apply(init_weights)  # Only initialize the classification layer"
      ]
    },
    {
      "cell_type": "code",
      "execution_count": 48,
      "metadata": {
        "id": "FwET8O6xw9wl",
        "colab": {
          "base_uri": "https://localhost:8080/"
        },
        "outputId": "46c60ced-bfc2-48a0-87c7-388643c1b1c7"
      },
      "outputs": [
        {
          "output_type": "stream",
          "name": "stdout",
          "text": [
            "Freezing embeddings and first 2 layers of DistilBERT\n"
          ]
        }
      ],
      "source": [
        "# Freeze embedding layer and first few transformer layers\n",
        "print(f\"Freezing embeddings and first {FREEZE_LAYERS} layers of DistilBERT\")\n",
        "for param in distilbert_absa_model.distilbert.embeddings.parameters():\n",
        "    param.requires_grad = False\n",
        "\n",
        "# Freeze transformer layers (distilbert has 6 layers total)\n",
        "if FREEZE_LAYERS > 0:\n",
        "    for i in range(min(FREEZE_LAYERS, 6)):  # Don't try to freeze more layers than exist\n",
        "        for param in distilbert_absa_model.distilbert.transformer.layer[i].parameters():\n",
        "            param.requires_grad = False"
      ]
    },
    {
      "cell_type": "code",
      "execution_count": 49,
      "metadata": {
        "id": "sjL6BGPCxGpo",
        "colab": {
          "base_uri": "https://localhost:8080/"
        },
        "outputId": "abf01466-1a8c-4d22-e27c-1df71b49e4c2"
      },
      "outputs": [
        {
          "output_type": "stream",
          "name": "stdout",
          "text": [
            "Trainable parameters: 28,353,795 (42.7% of total)\n"
          ]
        }
      ],
      "source": [
        "# Count trainable parameters\n",
        "trainable_params = sum(p.numel() for p in distilbert_absa_model.parameters() if p.requires_grad)\n",
        "total_params = sum(p.numel() for p in distilbert_absa_model.parameters())\n",
        "print(f\"Trainable parameters: {trainable_params:,} ({trainable_params/total_params:.1%} of total)\")"
      ]
    },
    {
      "cell_type": "code",
      "execution_count": 50,
      "metadata": {
        "id": "Ur4zftIPxGmT"
      },
      "outputs": [],
      "source": [
        "# Initialize optimizer and scheduler\n",
        "no_decay = ['bias', 'LayerNorm.weight']\n",
        "optimizer_grouped_parameters = [\n",
        "    {'params': [p for n, p in distilbert_absa_model.named_parameters() if not any(nd in n for nd in no_decay) and p.requires_grad],\n",
        "     'weight_decay': 0.01},\n",
        "    {'params': [p for n, p in distilbert_absa_model.named_parameters() if any(nd in n for nd in no_decay) and p.requires_grad],\n",
        "     'weight_decay': 0.0}\n",
        "]\n",
        "\n",
        "optimizer = AdamW(optimizer_grouped_parameters, lr=2e-5)\n",
        "# Adjust num_training_steps for gradient accumulation\n",
        "num_training_steps = len(distilbert_train_dataloader) * 3 // ACCUMULATION_STEPS  # 3 epochs\n",
        "scheduler = get_linear_schedule_with_warmup(\n",
        "    optimizer,\n",
        "    num_warmup_steps=0,\n",
        "    num_training_steps=num_training_steps\n",
        ")\n",
        "\n",
        "criterion = nn.CrossEntropyLoss()"
      ]
    },
    {
      "cell_type": "markdown",
      "metadata": {
        "id": "Tvar50PWkn15"
      },
      "source": [
        "### Train model with optimizations"
      ]
    },
    {
      "cell_type": "code",
      "execution_count": 51,
      "metadata": {
        "id": "ycljVnjCxGjJ",
        "colab": {
          "base_uri": "https://localhost:8080/"
        },
        "outputId": "bc1ec4b5-e8ea-41cb-9ec4-54a8018c918b"
      },
      "outputs": [
        {
          "output_type": "stream",
          "name": "stdout",
          "text": [
            "Training DistilBERT-ABSA model with optimizations...\n"
          ]
        },
        {
          "output_type": "stream",
          "name": "stderr",
          "text": [
            "\rEpoch 1/3 - Training:   0%|          | 0/4334 [00:00<?, ?it/s]<ipython-input-51-670179090f0e>:22: FutureWarning: `torch.cuda.amp.autocast(args...)` is deprecated. Please use `torch.amp.autocast('cuda', args...)` instead.\n",
            "  with autocast():\n",
            "Epoch 1/3 - Training: 100%|██████████| 4334/4334 [02:52<00:00, 25.14it/s]\n"
          ]
        },
        {
          "output_type": "stream",
          "name": "stdout",
          "text": [
            "Epoch 1/3\n",
            "Train Loss: 0.6348, Train Accuracy: 0.7281\n"
          ]
        },
        {
          "output_type": "stream",
          "name": "stderr",
          "text": [
            "Epoch 1/3 - Validation:   0%|          | 0/929 [00:00<?, ?it/s]<ipython-input-51-670179090f0e>:76: FutureWarning: `torch.cuda.amp.autocast(args...)` is deprecated. Please use `torch.amp.autocast('cuda', args...)` instead.\n",
            "  with autocast():\n",
            "Epoch 1/3 - Validation: 100%|██████████| 929/929 [00:36<00:00, 25.30it/s]\n"
          ]
        },
        {
          "output_type": "stream",
          "name": "stdout",
          "text": [
            "Validation Loss: 0.5435, Validation Accuracy: 0.7718\n",
            "► Saved new best model with validation loss: 0.5435\n"
          ]
        },
        {
          "output_type": "stream",
          "name": "stderr",
          "text": [
            "Epoch 2/3 - Training:   0%|          | 0/4334 [00:00<?, ?it/s]<ipython-input-51-670179090f0e>:22: FutureWarning: `torch.cuda.amp.autocast(args...)` is deprecated. Please use `torch.amp.autocast('cuda', args...)` instead.\n",
            "  with autocast():\n",
            "Epoch 2/3 - Training: 100%|██████████| 4334/4334 [02:52<00:00, 25.19it/s]\n"
          ]
        },
        {
          "output_type": "stream",
          "name": "stdout",
          "text": [
            "Epoch 2/3\n",
            "Train Loss: 0.5214, Train Accuracy: 0.7792\n"
          ]
        },
        {
          "output_type": "stream",
          "name": "stderr",
          "text": [
            "Epoch 2/3 - Validation:   0%|          | 0/929 [00:00<?, ?it/s]<ipython-input-51-670179090f0e>:76: FutureWarning: `torch.cuda.amp.autocast(args...)` is deprecated. Please use `torch.amp.autocast('cuda', args...)` instead.\n",
            "  with autocast():\n",
            "Epoch 2/3 - Validation: 100%|██████████| 929/929 [00:36<00:00, 25.33it/s]\n"
          ]
        },
        {
          "output_type": "stream",
          "name": "stdout",
          "text": [
            "Validation Loss: 0.4951, Validation Accuracy: 0.7920\n",
            "► Saved new best model with validation loss: 0.4951\n"
          ]
        },
        {
          "output_type": "stream",
          "name": "stderr",
          "text": [
            "Epoch 3/3 - Training:   0%|          | 0/4334 [00:00<?, ?it/s]<ipython-input-51-670179090f0e>:22: FutureWarning: `torch.cuda.amp.autocast(args...)` is deprecated. Please use `torch.amp.autocast('cuda', args...)` instead.\n",
            "  with autocast():\n",
            "Epoch 3/3 - Training: 100%|██████████| 4334/4334 [02:52<00:00, 25.17it/s]\n"
          ]
        },
        {
          "output_type": "stream",
          "name": "stdout",
          "text": [
            "Epoch 3/3\n",
            "Train Loss: 0.4908, Train Accuracy: 0.7929\n"
          ]
        },
        {
          "output_type": "stream",
          "name": "stderr",
          "text": [
            "Epoch 3/3 - Validation:   0%|          | 0/929 [00:00<?, ?it/s]<ipython-input-51-670179090f0e>:76: FutureWarning: `torch.cuda.amp.autocast(args...)` is deprecated. Please use `torch.amp.autocast('cuda', args...)` instead.\n",
            "  with autocast():\n",
            "Epoch 3/3 - Validation: 100%|██████████| 929/929 [00:36<00:00, 25.33it/s]"
          ]
        },
        {
          "output_type": "stream",
          "name": "stdout",
          "text": [
            "Validation Loss: 0.4857, Validation Accuracy: 0.7963\n",
            "► Saved new best model with validation loss: 0.4857\n"
          ]
        },
        {
          "output_type": "stream",
          "name": "stderr",
          "text": [
            "\n"
          ]
        }
      ],
      "source": [
        "n_epochs = 3\n",
        "best_val_loss = float('inf')\n",
        "best_model_state = None\n",
        "\n",
        "print(\"Training DistilBERT-ABSA model with optimizations...\")\n",
        "for epoch in range(n_epochs):\n",
        "    # Training\n",
        "    distilbert_absa_model.train()\n",
        "    train_loss = 0\n",
        "    train_preds = []\n",
        "    train_labels = []\n",
        "\n",
        "    # Initialize optimizer state at the beginning of each epoch\n",
        "    optimizer.zero_grad()\n",
        "\n",
        "    for i, batch in enumerate(tqdm(distilbert_train_dataloader, desc=f\"Epoch {epoch+1}/{n_epochs} - Training\")):\n",
        "        input_ids = batch['input_ids'].to(device)\n",
        "        attention_mask = batch['attention_mask'].to(device)\n",
        "        labels = batch['labels'].to(device)\n",
        "\n",
        "        # Forward pass with mixed precision\n",
        "        with autocast():\n",
        "            outputs = distilbert_absa_model(input_ids, attention_mask)\n",
        "            loss = criterion(outputs, labels) / ACCUMULATION_STEPS  # Scale loss for accumulation\n",
        "\n",
        "        # Backward pass with gradient scaling\n",
        "        scaler.scale(loss).backward()\n",
        "\n",
        "        # Step optimizer and scheduler after accumulation steps\n",
        "        if (i + 1) % ACCUMULATION_STEPS == 0 or (i + 1) == len(distilbert_train_dataloader):\n",
        "            # Unscale optimizer gradients for gradient clipping\n",
        "            scaler.unscale_(optimizer)\n",
        "\n",
        "            # Clip gradients\n",
        "            torch.nn.utils.clip_grad_norm_(\n",
        "                [p for p in distilbert_absa_model.parameters() if p.requires_grad],\n",
        "                max_norm=1.0\n",
        "            )\n",
        "\n",
        "            # Update weights with scaler\n",
        "            scaler.step(optimizer)\n",
        "            scaler.update()\n",
        "\n",
        "            # Step scheduler and zero gradients\n",
        "            scheduler.step()\n",
        "            optimizer.zero_grad()\n",
        "\n",
        "        # Accumulate loss\n",
        "        train_loss += loss.item() * ACCUMULATION_STEPS\n",
        "\n",
        "        # Collect predictions\n",
        "        with torch.no_grad():\n",
        "            _, preds = torch.max(outputs, 1)\n",
        "            train_preds.extend(preds.cpu().numpy())\n",
        "            train_labels.extend(labels.cpu().numpy())\n",
        "\n",
        "    avg_train_loss = train_loss / len(distilbert_train_dataloader)\n",
        "    train_accuracy = accuracy_score(train_labels, train_preds)\n",
        "\n",
        "    print(f\"Epoch {epoch+1}/{n_epochs}\")\n",
        "    print(f\"Train Loss: {avg_train_loss:.4f}, Train Accuracy: {train_accuracy:.4f}\")\n",
        "\n",
        "    # Validation step\n",
        "    distilbert_absa_model.eval()\n",
        "    val_loss = 0\n",
        "    val_preds = []\n",
        "    val_labels = []\n",
        "\n",
        "    with torch.no_grad():\n",
        "        for batch in tqdm(distilbert_val_dataloader, desc=f\"Epoch {epoch+1}/{n_epochs} - Validation\"):\n",
        "            input_ids = batch['input_ids'].to(device)\n",
        "            attention_mask = batch['attention_mask'].to(device)\n",
        "            labels = batch['labels'].to(device)\n",
        "\n",
        "            # Forward pass with mixed precision\n",
        "            with autocast():\n",
        "                outputs = distilbert_absa_model(input_ids, attention_mask)\n",
        "                loss = criterion(outputs, labels)\n",
        "\n",
        "            val_loss += loss.item()\n",
        "\n",
        "            # Collect predictions\n",
        "            _, preds = torch.max(outputs, 1)\n",
        "            val_preds.extend(preds.cpu().numpy())\n",
        "            val_labels.extend(labels.cpu().numpy())\n",
        "\n",
        "    avg_val_loss = val_loss / len(distilbert_val_dataloader)\n",
        "    val_accuracy = accuracy_score(val_labels, val_preds)\n",
        "\n",
        "    print(f\"Validation Loss: {avg_val_loss:.4f}, Validation Accuracy: {val_accuracy:.4f}\")\n",
        "\n",
        "    # Save best model based on validation performance\n",
        "    if avg_val_loss < best_val_loss:\n",
        "        best_val_loss = avg_val_loss\n",
        "        best_model_state = distilbert_absa_model.state_dict().copy()\n",
        "        print(f\"► Saved new best model with validation loss: {avg_val_loss:.4f}\")"
      ]
    },
    {
      "cell_type": "code",
      "execution_count": 52,
      "metadata": {
        "id": "62Tq-QyqxGgN",
        "colab": {
          "base_uri": "https://localhost:8080/"
        },
        "outputId": "0b6a7a29-9b50-4b8f-a8df-444ac9d81730"
      },
      "outputs": [
        {
          "output_type": "stream",
          "name": "stdout",
          "text": [
            "Loading best model for evaluation...\n"
          ]
        }
      ],
      "source": [
        "# Load the best model for final testing\n",
        "if best_model_state:\n",
        "    print(\"Loading best model for evaluation...\")\n",
        "    distilbert_absa_model.load_state_dict(best_model_state)"
      ]
    },
    {
      "cell_type": "code",
      "execution_count": 53,
      "metadata": {
        "id": "8PJYqrEdIbqf"
      },
      "outputs": [],
      "source": [
        "# Compatibility function for mixed precision if needed\n",
        "def safe_autocast():\n",
        "    \"\"\"Compatibility wrapper for autocast that works across PyTorch versions\"\"\"\n",
        "    try:\n",
        "        return autocast()\n",
        "    except:\n",
        "        # Return a dummy context manager if autocast fails\n",
        "        class DummyContextManager:\n",
        "            def __enter__(self): return None\n",
        "            def __exit__(self, *args): return None\n",
        "        return DummyContextManager()"
      ]
    },
    {
      "cell_type": "markdown",
      "metadata": {
        "id": "7p0UoAc2k3b7"
      },
      "source": [
        "### Evaluate model on test set and calculate detailed metrics"
      ]
    },
    {
      "cell_type": "code",
      "execution_count": 54,
      "metadata": {
        "id": "TDEq4yzSIgwD"
      },
      "outputs": [],
      "source": [
        "# Integrated detailed evaluation function\n",
        "def evaluate_model_performance(model, test_dataloader, device, test_df):\n",
        "    \"\"\"\n",
        "    Evaluate model performance with detailed metrics\n",
        "\n",
        "    Args:\n",
        "        model: Trained model\n",
        "        test_dataloader: DataLoader for test data\n",
        "        device: Device (cuda/cpu)\n",
        "        test_df: Test dataframe with ground truth labels\n",
        "\n",
        "    Returns:\n",
        "        metrics: Dictionary with accuracy metrics\n",
        "    \"\"\"\n",
        "    # Get predictions\n",
        "    model.eval()\n",
        "    all_preds = []\n",
        "    all_labels = []\n",
        "    all_confidence = []\n",
        "\n",
        "    with torch.no_grad():\n",
        "        for batch in tqdm(test_dataloader, desc=\"Evaluating model accuracy\"):\n",
        "            # Get batch data\n",
        "            input_ids = batch['input_ids'].to(device)\n",
        "            attention_mask = batch['attention_mask'].to(device)\n",
        "            labels = batch['labels'].to(device)\n",
        "\n",
        "            # Forward pass\n",
        "            predictions = model(input_ids, attention_mask)\n",
        "\n",
        "            # Get predicted class and confidence\n",
        "            probs = F.softmax(predictions, dim=1)\n",
        "            confidence, preds = torch.max(probs, dim=1)\n",
        "\n",
        "            # Save predictions and labels\n",
        "            all_preds.extend(preds.cpu().numpy())\n",
        "            all_labels.extend(labels.cpu().numpy())\n",
        "            all_confidence.extend(confidence.cpu().numpy())\n",
        "\n",
        "    # Calculate metrics\n",
        "    accuracy = accuracy_score(all_labels, all_preds)\n",
        "    precision, recall, f1, _ = precision_recall_fscore_support(\n",
        "        all_labels, all_preds, average='weighted'\n",
        "    )\n",
        "\n",
        "    # Calculate metrics per class\n",
        "    class_precision, class_recall, class_f1, class_support = precision_recall_fscore_support(\n",
        "        all_labels, all_preds, labels=[0, 1, 2]\n",
        "    )\n",
        "\n",
        "    # Calculate confusion matrix\n",
        "    cm = confusion_matrix(all_labels, all_preds)\n",
        "\n",
        "    # Print overall metrics\n",
        "    print(\"\\n======= Model Accuracy Metrics =======\")\n",
        "    print(f\"Overall Accuracy: {accuracy:.4f}\")\n",
        "    print(f\"Weighted Precision: {precision:.4f}\")\n",
        "    print(f\"Weighted Recall: {recall:.4f}\")\n",
        "    print(f\"Weighted F1-Score: {f1:.4f}\")\n",
        "\n",
        "    # Print per-class metrics\n",
        "    print(\"\\nPer-Class Metrics:\")\n",
        "    for i, sentiment in enumerate(['Negative', 'Neutral', 'Positive']):\n",
        "        print(f\"{sentiment}:\")\n",
        "        print(f\"  Precision: {class_precision[i]:.4f}\")\n",
        "        print(f\"  Recall: {class_recall[i]:.4f}\")\n",
        "        print(f\"  F1-Score: {class_f1[i]:.4f}\")\n",
        "        print(f\"  Support: {class_support[i]}\")\n",
        "\n",
        "    # Plot confusion matrix\n",
        "    try:\n",
        "        plt.figure(figsize=(8, 6))\n",
        "        sns.heatmap(cm, annot=True, fmt='d', cmap='Blues',\n",
        "                    xticklabels=['Negative', 'Neutral', 'Positive'],\n",
        "                    yticklabels=['Negative', 'Neutral', 'Positive'])\n",
        "        plt.xlabel('Predicted')\n",
        "        plt.ylabel('True')\n",
        "        plt.title('Confusion Matrix')\n",
        "        plt.tight_layout()\n",
        "\n",
        "        # Save or display\n",
        "        plt.savefig('confusion_matrix.png')\n",
        "        print(\"\\nConfusion matrix saved as 'confusion_matrix.png'\")\n",
        "        plt.show()\n",
        "    except Exception as e:\n",
        "        print(f\"\\nCould not generate confusion matrix plot: {e}\")\n",
        "\n",
        "    # Calculate accuracy by aspect length\n",
        "    test_df_copy = test_df.copy()\n",
        "    test_df_copy['prediction'] = all_preds\n",
        "    test_df_copy['confidence'] = all_confidence\n",
        "    test_df_copy['aspect_length'] = test_df_copy['aspect'].apply(lambda x: len(x.split()))\n",
        "\n",
        "    # Group by aspect length\n",
        "    length_groups = test_df_copy.groupby('aspect_length').apply(\n",
        "        lambda x: accuracy_score(x['sentiment'], x['prediction'])\n",
        "    )\n",
        "\n",
        "    print(\"\\nAccuracy by Aspect Length:\")\n",
        "    for length, acc in length_groups.items():\n",
        "        count = len(test_df_copy[test_df_copy['aspect_length'] == length])\n",
        "        print(f\"  Length {length}: {acc:.4f} (count: {count})\")\n",
        "\n",
        "    # Check for bias in predictions\n",
        "    predicted_distribution = np.bincount(all_preds, minlength=3) / len(all_preds)\n",
        "    true_distribution = np.bincount(all_labels, minlength=3) / len(all_labels)\n",
        "\n",
        "    print(\"\\nClass Distribution - True vs Predicted:\")\n",
        "    for i, sentiment in enumerate(['Negative', 'Neutral', 'Positive']):\n",
        "        print(f\"  {sentiment}: True={true_distribution[i]:.2%}, Predicted={predicted_distribution[i]:.2%}\")\n",
        "\n",
        "    # Return metrics\n",
        "    metrics = {\n",
        "        'accuracy': accuracy,\n",
        "        'precision': precision,\n",
        "        'recall': recall,\n",
        "        'f1': f1,\n",
        "        'per_class_metrics': {\n",
        "            'precision': class_precision,\n",
        "            'recall': class_recall,\n",
        "            'f1': class_f1,\n",
        "            'support': class_support\n",
        "        }\n",
        "    }\n",
        "\n",
        "    return metrics"
      ]
    },
    {
      "cell_type": "code",
      "execution_count": 55,
      "metadata": {
        "id": "HnKdpNJ0xGdT",
        "colab": {
          "base_uri": "https://localhost:8080/",
          "height": 1000
        },
        "outputId": "51ca76e6-483e-43f2-bcf1-e16ccc31d7af"
      },
      "outputs": [
        {
          "output_type": "stream",
          "name": "stdout",
          "text": [
            "\n",
            "======= Evaluating DistilBERT-ABSA Model Accuracy =======\n"
          ]
        },
        {
          "output_type": "stream",
          "name": "stderr",
          "text": [
            "Evaluating model accuracy: 100%|██████████| 929/929 [00:48<00:00, 18.99it/s]\n"
          ]
        },
        {
          "output_type": "stream",
          "name": "stdout",
          "text": [
            "\n",
            "======= Model Accuracy Metrics =======\n",
            "Overall Accuracy: 0.7992\n",
            "Weighted Precision: 0.7949\n",
            "Weighted Recall: 0.7992\n",
            "Weighted F1-Score: 0.7907\n",
            "\n",
            "Per-Class Metrics:\n",
            "Negative:\n",
            "  Precision: 0.7208\n",
            "  Recall: 0.6794\n",
            "  F1-Score: 0.6995\n",
            "  Support: 12658\n",
            "Neutral:\n",
            "  Precision: 0.7750\n",
            "  Recall: 0.5122\n",
            "  F1-Score: 0.6168\n",
            "  Support: 10305\n",
            "Positive:\n",
            "  Precision: 0.8262\n",
            "  Recall: 0.9219\n",
            "  F1-Score: 0.8714\n",
            "  Support: 36467\n",
            "\n",
            "Confusion matrix saved as 'confusion_matrix.png'\n"
          ]
        },
        {
          "output_type": "display_data",
          "data": {
            "text/plain": [
              "<Figure size 800x600 with 2 Axes>"
            ],
            "image/png": "[encoded data removed]"
          },
          "metadata": {}
        },
        {
          "output_type": "stream",
          "name": "stdout",
          "text": [
            "\n",
            "Accuracy by Aspect Length:\n",
            "  Length 1: 0.7887 (count: 29835)\n",
            "  Length 2: 0.8079 (count: 22355)\n",
            "  Length 3: 0.8133 (count: 5120)\n",
            "  Length 4: 0.8013 (count: 1424)\n",
            "  Length 5: 0.8600 (count: 443)\n",
            "  Length 6: 0.8767 (count: 146)\n",
            "  Length 7: 0.8596 (count: 57)\n",
            "  Length 8: 0.9200 (count: 25)\n",
            "  Length 9: 0.8182 (count: 11)\n",
            "  Length 10: 0.6667 (count: 6)\n",
            "  Length 11: 0.8000 (count: 5)\n",
            "  Length 12: 1.0000 (count: 1)\n",
            "  Length 14: 0.0000 (count: 2)\n",
            "\n",
            "Class Distribution - True vs Predicted:\n",
            "  Negative: True=21.30%, Predicted=20.08%\n",
            "  Neutral: True=17.34%, Predicted=11.46%\n",
            "  Positive: True=61.36%, Predicted=68.46%\n"
          ]
        },
        {
          "output_type": "stream",
          "name": "stderr",
          "text": [
            "<ipython-input-54-8d142aac3f72>:95: DeprecationWarning: DataFrameGroupBy.apply operated on the grouping columns. This behavior is deprecated, and in a future version of pandas the grouping columns will be excluded from the operation. Either pass `include_groups=False` to exclude the groupings or explicitly select the grouping columns after groupby to silence this warning.\n",
            "  length_groups = test_df_copy.groupby('aspect_length').apply(\n"
          ]
        }
      ],
      "source": [
        "print(\"\\n======= Evaluating DistilBERT-ABSA Model Accuracy =======\")\n",
        "test_metrics = evaluate_model_performance(\n",
        "    distilbert_absa_model,\n",
        "    distilbert_test_dataloader,\n",
        "    device,\n",
        "    test_df\n",
        ")"
      ]
    },
    {
      "cell_type": "markdown",
      "metadata": {
        "id": "tSR4qcbqFrir"
      },
      "source": [
        "## Application of the best model to predict aspect-based sentiments"
      ]
    },
    {
      "cell_type": "code",
      "execution_count": 56,
      "metadata": {
        "id": "L4_gCFTgFfay"
      },
      "outputs": [],
      "source": [
        "# Function to predict sentiment using DistilBERT for a text-aspect pair\n",
        "def predict_sentiment_with_distilbert(text, aspect):\n",
        "    # Prepare input\n",
        "    combined_text = text + \" \" + distilbert_tokenizer.sep_token + \" \" + aspect\n",
        "    encoding = distilbert_tokenizer.encode_plus(\n",
        "        combined_text,\n",
        "        add_special_tokens=True,\n",
        "        max_length=MAX_SEQ_LENGTH,\n",
        "        padding='max_length',\n",
        "        truncation=True,\n",
        "        return_attention_mask=True,\n",
        "        return_tensors='pt',\n",
        "    )\n",
        "\n",
        "    input_ids = encoding['input_ids'].to(device)\n",
        "    attention_mask = encoding['attention_mask'].to(device)\n",
        "\n",
        "    # Get prediction\n",
        "    with torch.no_grad():\n",
        "        with safe_autocast():\n",
        "            outputs = distilbert_absa_model(input_ids, attention_mask)\n",
        "            _, preds = torch.max(outputs, 1)\n",
        "\n",
        "    return preds.item()"
      ]
    },
    {
      "cell_type": "code",
      "execution_count": 57,
      "metadata": {
        "id": "K-bFLJbuFuNv",
        "colab": {
          "base_uri": "https://localhost:8080/"
        },
        "outputId": "c0c2f4f3-bf68-4c63-d88e-a216df21d358"
      },
      "outputs": [
        {
          "output_type": "stream",
          "name": "stdout",
          "text": [
            "Predicting sentiment for all aspects using DistilBERT...\n"
          ]
        },
        {
          "output_type": "stream",
          "name": "stderr",
          "text": [
            "\rAnalyzing aspects with DistilBERT: 0it [00:00, ?it/s]<ipython-input-53-34550305d05d>:5: FutureWarning: `torch.cuda.amp.autocast(args...)` is deprecated. Please use `torch.amp.autocast('cuda', args...)` instead.\n",
            "  return autocast()\n",
            "Analyzing aspects with DistilBERT: 99553it [1:28:21, 18.78it/s]\n"
          ]
        }
      ],
      "source": [
        "# Create distilbert predictions for all aspects in the dataframe\n",
        "print(\"Predicting sentiment for all aspects using DistilBERT...\")\n",
        "aspect_neural_sentiments_list = []\n",
        "\n",
        "for idx, row in tqdm(df_with_aspects.iterrows(), desc=\"Analyzing aspects with DistilBERT\"):\n",
        "    text = row['text']\n",
        "    aspects = row['aspects']\n",
        "    aspect_sentiments = {}\n",
        "\n",
        "    for aspect in aspects:\n",
        "        try:\n",
        "            sentiment_class = predict_sentiment_with_distilbert(text, aspect)\n",
        "            aspect_sentiments[aspect] = {\n",
        "                'sentiment_class': sentiment_class,\n",
        "                'model': 'distilbert'\n",
        "            }\n",
        "        except Exception as e:\n",
        "            # If there's an error, fallback to VADER if available\n",
        "            if aspect in row['aspect_sentiments']:\n",
        "                vader_sentiment = row['aspect_sentiments'][aspect]['sentiment_class']\n",
        "                aspect_sentiments[aspect] = {\n",
        "                    'sentiment_class': vader_sentiment,\n",
        "                    'model': 'vader (fallback)'\n",
        "                }\n",
        "\n",
        "    aspect_neural_sentiments_list.append(aspect_sentiments)"
      ]
    },
    {
      "cell_type": "code",
      "execution_count": 58,
      "metadata": {
        "id": "froSB012FxB-"
      },
      "outputs": [],
      "source": [
        "# Add neural model predictions to dataframe\n",
        "df_with_aspects['neural_aspect_sentiments'] = aspect_neural_sentiments_list"
      ]
    },
    {
      "cell_type": "markdown",
      "metadata": {
        "id": "iiy49jq-ZaVU"
      },
      "source": [
        "## Generating insights from the best model\n"
      ]
    },
    {
      "cell_type": "code",
      "execution_count": 59,
      "metadata": {
        "id": "X6tlgL_AZftk"
      },
      "outputs": [],
      "source": [
        "# Define aspect categories and their related terms\n",
        "ASPECT_CATEGORIES = {\n",
        "    \"sound quality\": [\"sound\", \"audio\", \"sound quality\", \"audio quality\", \"clarity\", \"rich sound\",\n",
        "                     \"excellent sound\", \"clear sound\", \"good sound\", \"bad sound\"],\n",
        "    \"bass\": [\"bass\", \"bass response\", \"deep bass\", \"good bass\", \"heavy bass\", \"poor bass\"],\n",
        "    \"comfort\": [\"comfort\", \"comfortable\", \"uncomfortable\", \"fit\", \"ergonomic\", \"ergonomics\",\n",
        "               \"ear fit\", \"earbuds\", \"in-ear\", \"painful\"],\n",
        "    \"price\": [\"price\", \"cost\", \"value\", \"cheap\", \"expensive\", \"worth\", \"value for money\",\n",
        "             \"good value\", \"great value\", \"overpriced\"],\n",
        "    \"battery\": [\"battery\", \"battery life\", \"charge\", \"charging\", \"battery duration\",\n",
        "               \"long battery\", \"short battery\"],\n",
        "    \"connection\": [\"bluetooth\", \"connection\", \"connectivity\", \"pairing\", \"disconnect\",\n",
        "                  \"wireless\", \"connection issues\"],\n",
        "    \"noise cancellation\": [\"noise\", \"noise cancellation\", \"anc\", \"noise isolation\",\n",
        "                          \"background noise\", \"ambient\"],\n",
        "    \"microphone\": [\"mic\", \"microphone\", \"call quality\", \"voice\", \"calls\", \"call\", \"talking\"],\n",
        "    \"durability\": [\"durability\", \"build quality\", \"build\", \"quality\", \"sturdy\", \"flimsy\",\n",
        "                  \"robust\", \"material\", \"construction\"],\n",
        "    \"controls\": [\"controls\", \"buttons\", \"touch\", \"control\", \"touch controls\", \"volume control\"],\n",
        "    \"design\": [\"design\", \"look\", \"appearance\", \"color\", \"stylish\", \"aesthetic\", \"sleek\"]\n",
        "}\n",
        "\n",
        "# Create a reverse mapping for categorization\n",
        "ASPECT_MAPPING = {}\n",
        "for category, terms in ASPECT_CATEGORIES.items():\n",
        "    for term in terms:\n",
        "        ASPECT_MAPPING[term] = category\n",
        "\n",
        "# List of generic sentiment adjectives to remove\n",
        "SENTIMENT_ADJECTIVES = [\"good\", \"great\", \"excellent\", \"best\", \"amazing\", \"awesome\", \"perfect\",\n",
        "                       \"bad\", \"poor\", \"terrible\", \"worst\", \"awful\", \"horrible\", \"disappointing\"]"
      ]
    },
    {
      "cell_type": "code",
      "execution_count": 60,
      "metadata": {
        "id": "BfaCTBcWZkxh"
      },
      "outputs": [],
      "source": [
        "def categorize_aspect(aspect):\n",
        "    \"\"\"Map an aspect to its standardized category\"\"\"\n",
        "    aspect_lower = aspect.lower()\n",
        "\n",
        "    # Try direct mapping first\n",
        "    if aspect_lower in ASPECT_MAPPING:\n",
        "        return ASPECT_MAPPING[aspect_lower]\n",
        "\n",
        "    # Check if any category term is in the aspect\n",
        "    for category, terms in ASPECT_CATEGORIES.items():\n",
        "        for term in terms:\n",
        "            if term in aspect_lower:\n",
        "                return category\n",
        "\n",
        "    # Try to match after removing sentiment adjectives\n",
        "    cleaned_aspect = aspect_lower\n",
        "    for adj in SENTIMENT_ADJECTIVES:\n",
        "        cleaned_aspect = cleaned_aspect.replace(adj + \" \", \"\").strip()\n",
        "\n",
        "    if cleaned_aspect in ASPECT_MAPPING:\n",
        "        return ASPECT_MAPPING[cleaned_aspect]\n",
        "\n",
        "    # If no match, return \"other\"\n",
        "    return \"other\""
      ]
    },
    {
      "cell_type": "code",
      "execution_count": 61,
      "metadata": {
        "id": "sQ0URHjxZofl"
      },
      "outputs": [],
      "source": [
        "# Function to calculate aspect sentiment statistics by product with categorization and scores\n",
        "def analyze_product_aspect_sentiment(df, sentiment_column):\n",
        "    # Group by product title\n",
        "    product_aspect_analysis = {}\n",
        "\n",
        "    # Get unique product titles\n",
        "    unique_products = df['title'].unique()\n",
        "\n",
        "    for product_title in unique_products:\n",
        "        # Filter dataframe for this product\n",
        "        product_df = df[df['title'] == product_title]\n",
        "\n",
        "        # Initialize dictionaries for aspect categories\n",
        "        aspect_categories = {category: {\"positive\": 0, \"negative\": 0, \"neutral\": 0, \"total\": 0, \"aspects\": []}\n",
        "                            for category in ASPECT_CATEGORIES.keys()}\n",
        "        aspect_categories[\"other\"] = {\"positive\": 0, \"negative\": 0, \"neutral\": 0, \"total\": 0, \"aspects\": []}\n",
        "\n",
        "        for idx, row in product_df.iterrows():\n",
        "            aspects = row['aspects']\n",
        "            aspect_sentiments = row[sentiment_column]\n",
        "\n",
        "            for aspect in aspects:\n",
        "                # Skip empty aspects\n",
        "                if not aspect or pd.isna(aspect):\n",
        "                    continue\n",
        "\n",
        "                # Categorize the aspect\n",
        "                category = categorize_aspect(aspect)\n",
        "\n",
        "                # Keep track of original aspects for each category\n",
        "                if aspect not in aspect_categories[category][\"aspects\"]:\n",
        "                    aspect_categories[category][\"aspects\"].append(aspect)\n",
        "\n",
        "                # Analyze sentiment if available\n",
        "                if aspect in aspect_sentiments:\n",
        "                    sentiment_data = aspect_sentiments[aspect]\n",
        "                    sentiment_class = sentiment_data['sentiment_class']\n",
        "\n",
        "                    # Increment the appropriate counter\n",
        "                    if sentiment_class == 0:\n",
        "                        aspect_categories[category][\"negative\"] += 1\n",
        "                    elif sentiment_class == 1:\n",
        "                        aspect_categories[category][\"neutral\"] += 1\n",
        "                    else:\n",
        "                        aspect_categories[category][\"positive\"] += 1\n",
        "\n",
        "                    aspect_categories[category][\"total\"] += 1\n",
        "\n",
        "        # Calculate sentiment scores for each category (0-10 scale)\n",
        "        for category, data in aspect_categories.items():\n",
        "            if data[\"total\"] > 0:\n",
        "                # Calculate net sentiment (-1 to 1 scale)\n",
        "                net_sentiment = (data[\"positive\"] - data[\"negative\"]) / data[\"total\"]\n",
        "\n",
        "                # Keep the -1 to +1 scale as requested\n",
        "                data[\"score\"] = round(net_sentiment, 2)\n",
        "            else:\n",
        "                data[\"score\"] = 0\n",
        "\n",
        "        # Add to product analysis\n",
        "        product_aspect_analysis[product_title] = aspect_categories\n",
        "\n",
        "    return product_aspect_analysis"
      ]
    },
    {
      "cell_type": "code",
      "execution_count": 62,
      "metadata": {
        "id": "HNtlgqOZZs08",
        "colab": {
          "base_uri": "https://localhost:8080/"
        },
        "outputId": "408235bf-9d5e-4a2d-a601-f323f05eae72"
      },
      "outputs": [
        {
          "output_type": "stream",
          "name": "stdout",
          "text": [
            "Analyzing aspect sentiment by product using DistilBERT with categorization and scores...\n"
          ]
        }
      ],
      "source": [
        "# Analyze sentiment with DistilBERT method\n",
        "print(\"Analyzing aspect sentiment by product using DistilBERT with categorization and scores...\")\n",
        "product_neural_aspect_analysis = analyze_product_aspect_sentiment(df_with_aspects, 'neural_aspect_sentiments')"
      ]
    },
    {
      "cell_type": "code",
      "execution_count": 63,
      "metadata": {
        "id": "jcW9wGfHZw38",
        "colab": {
          "base_uri": "https://localhost:8080/"
        },
        "outputId": "b9c9a648-cc45-4a0b-8b9f-8dc7fd05f413"
      },
      "outputs": [
        {
          "output_type": "stream",
          "name": "stdout",
          "text": [
            "\n",
            "===== Product: Apple AirPods (2nd Generation) Wireless Earbuds with Lightning Charging Case Included. Over 24 Hours of Battery Life, Effortless Setup. Bluetooth Headphones for iPhone =====\n",
            "\n",
            "Aspect Categories by Sentiment Score (highest to lowest):\n",
            "- durability: mentioned 563 times (score: 0.63 on -1 to +1 scale)\n",
            "- sound quality: mentioned 2122 times (score: 0.62 on -1 to +1 scale)\n",
            "- price: mentioned 746 times (score: 0.58 on -1 to +1 scale)\n",
            "- comfort: mentioned 369 times (score: 0.57 on -1 to +1 scale)\n",
            "- bass: mentioned 28 times (score: 0.54 on -1 to +1 scale)\n",
            "- design: mentioned 79 times (score: 0.54 on -1 to +1 scale)\n",
            "- noise cancellation: mentioned 696 times (score: 0.42 on -1 to +1 scale)\n",
            "- connection: mentioned 445 times (score: 0.37 on -1 to +1 scale)\n",
            "- battery: mentioned 1494 times (score: 0.31 on -1 to +1 scale)\n",
            "- microphone: mentioned 489 times (score: 0.23 on -1 to +1 scale)\n",
            "- controls: mentioned 35 times (score: 0.14 on -1 to +1 scale)\n",
            "\n",
            "===== Product: Panasonic ErgoFit Wired Earbuds, In-Ear Headphones with Microphone and Call Controller, Ergonomic Custom-Fit Earpieces (S/M/L), 3.5mm Jack for Phones and Laptops - RP-TCM125-A (Blue) =====\n",
            "\n",
            "Aspect Categories by Sentiment Score (highest to lowest):\n",
            "- price: mentioned 6602 times (score: 0.75 on -1 to +1 scale)\n",
            "- design: mentioned 1004 times (score: 0.69 on -1 to +1 scale)\n",
            "- comfort: mentioned 4065 times (score: 0.6 on -1 to +1 scale)\n",
            "- sound quality: mentioned 9636 times (score: 0.59 on -1 to +1 scale)\n",
            "- noise cancellation: mentioned 1356 times (score: 0.59 on -1 to +1 scale)\n",
            "- bass: mentioned 958 times (score: 0.56 on -1 to +1 scale)\n",
            "- durability: mentioned 1858 times (score: 0.46 on -1 to +1 scale)\n",
            "- controls: mentioned 276 times (score: 0.29 on -1 to +1 scale)\n",
            "- microphone: mentioned 861 times (score: 0.24 on -1 to +1 scale)\n",
            "- battery: mentioned 18 times (score: 0.17 on -1 to +1 scale)\n",
            "- connection: mentioned 212 times (score: 0.05 on -1 to +1 scale)\n",
            "\n",
            "===== Product: TOZO T6 True Wireless Earbuds Bluetooth 5.3 Headphones Touch Control with Wireless Charging Case IPX8 Waterproof Stereo Earphones in-Ear Built-in Mic Headset Premium Deep Bass White (2022 Upgraded) =====\n",
            "\n",
            "Aspect Categories by Sentiment Score (highest to lowest):\n",
            "- price: mentioned 2936 times (score: 0.83 on -1 to +1 scale)\n",
            "- design: mentioned 629 times (score: 0.75 on -1 to +1 scale)\n",
            "- durability: mentioned 1041 times (score: 0.74 on -1 to +1 scale)\n",
            "- sound quality: mentioned 7425 times (score: 0.71 on -1 to +1 scale)\n",
            "- comfort: mentioned 3248 times (score: 0.68 on -1 to +1 scale)\n",
            "- noise cancellation: mentioned 1970 times (score: 0.65 on -1 to +1 scale)\n",
            "- battery: mentioned 2835 times (score: 0.59 on -1 to +1 scale)\n",
            "- bass: mentioned 533 times (score: 0.57 on -1 to +1 scale)\n",
            "- connection: mentioned 1186 times (score: 0.49 on -1 to +1 scale)\n",
            "- controls: mentioned 936 times (score: 0.43 on -1 to +1 scale)\n",
            "- microphone: mentioned 1225 times (score: 0.34 on -1 to +1 scale)\n",
            "\n",
            "===== Product: TOZO T10 Bluetooth 5.3 Wireless Earbuds with Wireless Charging Case IPX8 Waterproof Stereo Headphones in Ear Built in Mic Headset Premium Sound with Deep Bass for Sport White (2022 Upgraded) =====\n",
            "\n",
            "Aspect Categories by Sentiment Score (highest to lowest):\n",
            "- price: mentioned 4787 times (score: 0.83 on -1 to +1 scale)\n",
            "- sound quality: mentioned 12592 times (score: 0.73 on -1 to +1 scale)\n",
            "- durability: mentioned 2016 times (score: 0.73 on -1 to +1 scale)\n",
            "- bass: mentioned 879 times (score: 0.72 on -1 to +1 scale)\n",
            "- comfort: mentioned 5309 times (score: 0.68 on -1 to +1 scale)\n",
            "- design: mentioned 677 times (score: 0.68 on -1 to +1 scale)\n",
            "- noise cancellation: mentioned 2964 times (score: 0.62 on -1 to +1 scale)\n",
            "- battery: mentioned 5355 times (score: 0.51 on -1 to +1 scale)\n",
            "- connection: mentioned 2768 times (score: 0.4 on -1 to +1 scale)\n",
            "- controls: mentioned 644 times (score: 0.36 on -1 to +1 scale)\n",
            "- microphone: mentioned 1973 times (score: 0.26 on -1 to +1 scale)\n"
          ]
        }
      ],
      "source": [
        "# Print aspect categories with frequencies and scores for each product\n",
        "for product_title, categories in product_neural_aspect_analysis.items():\n",
        "    print(f\"\\n===== Product: {product_title} =====\")\n",
        "\n",
        "    # Print aspects sorted by sentiment score (highest to lowest)\n",
        "    print(\"\\nAspect Categories by Sentiment Score (highest to lowest):\")\n",
        "\n",
        "    # Only include categories with mentions and exclude \"other\"\n",
        "    mentioned_aspects = [(category, data) for category, data in categories.items()\n",
        "                        if data[\"total\"] > 0 and category != \"other\"]\n",
        "    mentioned_aspects.sort(key=lambda x: x[1][\"score\"], reverse=True)\n",
        "\n",
        "    for category, data in mentioned_aspects[:15]:  # Top 15 most mentioned\n",
        "        score = data[\"score\"]\n",
        "        mentions = data[\"total\"]\n",
        "        print(f\"- {category}: mentioned {mentions} times (score: {score} on -1 to +1 scale)\")"
      ]
    }
  ],
  "metadata": {
    "accelerator": "GPU",
    "colab": {
      "gpuType": "L4",
      "machine_shape": "hm",
      "provenance": [],
      "mount_file_id": "1K9YLW1vyS-qNUqL2AYWg515QNXh7aVON",
      "authorship_tag": "ABX9TyMJJs5VTitfkGUGkbOk6f3t",
      "include_colab_link": true
    },
    "kernelspec": {
      "display_name": "Python 3",
      "name": "python3"
    },
    "language_info": {
      "name": "python"
    },
    "widgets": {
      "application/vnd.jupyter.widget-state+json": {
        "2f1aa7c8cf4346a79b75c19e3934e051": {
          "model_module": "@jupyter-widgets/controls",
          "model_name": "HBoxModel",
          "model_module_version": "1.5.0",
          "state": {
            "_dom_classes": [],
            "_model_module": "@jupyter-widgets/controls",
            "_model_module_version": "1.5.0",
            "_model_name": "HBoxModel",
            "_view_count": null,
            "_view_module": "@jupyter-widgets/controls",
            "_view_module_version": "1.5.0",
            "_view_name": "HBoxView",
            "box_style": "",
            "children": [
              "IPY_MODEL_49c3c20df3bd4cb9a9cab441128a1ed5",
              "IPY_MODEL_27680167f4574e478e4feae2d8434c93",
              "IPY_MODEL_f9737e03316642ecb0463b58a6e5d8c7"
            ],
            "layout": "IPY_MODEL_818ca39a033f4ed3a8b8d83043f347b0"
          }
        },
        "49c3c20df3bd4cb9a9cab441128a1ed5": {
          "model_module": "@jupyter-widgets/controls",
          "model_name": "HTMLModel",
          "model_module_version": "1.5.0",
          "state": {
            "_dom_classes": [],
            "_model_module": "@jupyter-widgets/controls",
            "_model_module_version": "1.5.0",
            "_model_name": "HTMLModel",
            "_view_count": null,
            "_view_module": "@jupyter-widgets/controls",
            "_view_module_version": "1.5.0",
            "_view_name": "HTMLView",
            "description": "",
            "description_tooltip": null,
            "layout": "IPY_MODEL_af9403aba48c4cfcb6a21cd1d63b849f",
            "placeholder": "​",
            "style": "IPY_MODEL_d4f98bc52a324850812388c1197565e6",
            "value": "tokenizer_config.json: 100%"
          }
        },
        "27680167f4574e478e4feae2d8434c93": {
          "model_module": "@jupyter-widgets/controls",
          "model_name": "FloatProgressModel",
          "model_module_version": "1.5.0",
          "state": {
            "_dom_classes": [],
            "_model_module": "@jupyter-widgets/controls",
            "_model_module_version": "1.5.0",
            "_model_name": "FloatProgressModel",
            "_view_count": null,
            "_view_module": "@jupyter-widgets/controls",
            "_view_module_version": "1.5.0",
            "_view_name": "ProgressView",
            "bar_style": "success",
            "description": "",
            "description_tooltip": null,
            "layout": "IPY_MODEL_89469690b34e47c992eb6bdf0e131afb",
            "max": 48,
            "min": 0,
            "orientation": "horizontal",
            "style": "IPY_MODEL_be8e9714538240d58302d5aa767f4db1",
            "value": 48
          }
        },
        "f9737e03316642ecb0463b58a6e5d8c7": {
          "model_module": "@jupyter-widgets/controls",
          "model_name": "HTMLModel",
          "model_module_version": "1.5.0",
          "state": {
            "_dom_classes": [],
            "_model_module": "@jupyter-widgets/controls",
            "_model_module_version": "1.5.0",
            "_model_name": "HTMLModel",
            "_view_count": null,
            "_view_module": "@jupyter-widgets/controls",
            "_view_module_version": "1.5.0",
            "_view_name": "HTMLView",
            "description": "",
            "description_tooltip": null,
            "layout": "IPY_MODEL_fa410b3b705e484cbdfa23791fb360b0",
            "placeholder": "​",
            "style": "IPY_MODEL_65ce939bfa914d14827533c57c106561",
            "value": " 48.0/48.0 [00:00&lt;00:00, 5.80kB/s]"
          }
        },
        "818ca39a033f4ed3a8b8d83043f347b0": {
          "model_module": "@jupyter-widgets/base",
          "model_name": "LayoutModel",
          "model_module_version": "1.2.0",
          "state": {
            "_model_module": "@jupyter-widgets/base",
            "_model_module_version": "1.2.0",
            "_model_name": "LayoutModel",
            "_view_count": null,
            "_view_module": "@jupyter-widgets/base",
            "_view_module_version": "1.2.0",
            "_view_name": "LayoutView",
            "align_content": null,
            "align_items": null,
            "align_self": null,
            "border": null,
            "bottom": null,
            "display": null,
            "flex": null,
            "flex_flow": null,
            "grid_area": null,
            "grid_auto_columns": null,
            "grid_auto_flow": null,
            "grid_auto_rows": null,
            "grid_column": null,
            "grid_gap": null,
            "grid_row": null,
            "grid_template_areas": null,
            "grid_template_columns": null,
            "grid_template_rows": null,
            "height": null,
            "justify_content": null,
            "justify_items": null,
            "left": null,
            "margin": null,
            "max_height": null,
            "max_width": null,
            "min_height": null,
            "min_width": null,
            "object_fit": null,
            "object_position": null,
            "order": null,
            "overflow": null,
            "overflow_x": null,
            "overflow_y": null,
            "padding": null,
            "right": null,
            "top": null,
            "visibility": null,
            "width": null
          }
        },
        "af9403aba48c4cfcb6a21cd1d63b849f": {
          "model_module": "@jupyter-widgets/base",
          "model_name": "LayoutModel",
          "model_module_version": "1.2.0",
          "state": {
            "_model_module": "@jupyter-widgets/base",
            "_model_module_version": "1.2.0",
            "_model_name": "LayoutModel",
            "_view_count": null,
            "_view_module": "@jupyter-widgets/base",
            "_view_module_version": "1.2.0",
            "_view_name": "LayoutView",
            "align_content": null,
            "align_items": null,
            "align_self": null,
            "border": null,
            "bottom": null,
            "display": null,
            "flex": null,
            "flex_flow": null,
            "grid_area": null,
            "grid_auto_columns": null,
            "grid_auto_flow": null,
            "grid_auto_rows": null,
            "grid_column": null,
            "grid_gap": null,
            "grid_row": null,
            "grid_template_areas": null,
            "grid_template_columns": null,
            "grid_template_rows": null,
            "height": null,
            "justify_content": null,
            "justify_items": null,
            "left": null,
            "margin": null,
            "max_height": null,
            "max_width": null,
            "min_height": null,
            "min_width": null,
            "object_fit": null,
            "object_position": null,
            "order": null,
            "overflow": null,
            "overflow_x": null,
            "overflow_y": null,
            "padding": null,
            "right": null,
            "top": null,
            "visibility": null,
            "width": null
          }
        },
        "d4f98bc52a324850812388c1197565e6": {
          "model_module": "@jupyter-widgets/controls",
          "model_name": "DescriptionStyleModel",
          "model_module_version": "1.5.0",
          "state": {
            "_model_module": "@jupyter-widgets/controls",
            "_model_module_version": "1.5.0",
            "_model_name": "DescriptionStyleModel",
            "_view_count": null,
            "_view_module": "@jupyter-widgets/base",
            "_view_module_version": "1.2.0",
            "_view_name": "StyleView",
            "description_width": ""
          }
        },
        "89469690b34e47c992eb6bdf0e131afb": {
          "model_module": "@jupyter-widgets/base",
          "model_name": "LayoutModel",
          "model_module_version": "1.2.0",
          "state": {
            "_model_module": "@jupyter-widgets/base",
            "_model_module_version": "1.2.0",
            "_model_name": "LayoutModel",
            "_view_count": null,
            "_view_module": "@jupyter-widgets/base",
            "_view_module_version": "1.2.0",
            "_view_name": "LayoutView",
            "align_content": null,
            "align_items": null,
            "align_self": null,
            "border": null,
            "bottom": null,
            "display": null,
            "flex": null,
            "flex_flow": null,
            "grid_area": null,
            "grid_auto_columns": null,
            "grid_auto_flow": null,
            "grid_auto_rows": null,
            "grid_column": null,
            "grid_gap": null,
            "grid_row": null,
            "grid_template_areas": null,
            "grid_template_columns": null,
            "grid_template_rows": null,
            "height": null,
            "justify_content": null,
            "justify_items": null,
            "left": null,
            "margin": null,
            "max_height": null,
            "max_width": null,
            "min_height": null,
            "min_width": null,
            "object_fit": null,
            "object_position": null,
            "order": null,
            "overflow": null,
            "overflow_x": null,
            "overflow_y": null,
            "padding": null,
            "right": null,
            "top": null,
            "visibility": null,
            "width": null
          }
        },
        "be8e9714538240d58302d5aa767f4db1": {
          "model_module": "@jupyter-widgets/controls",
          "model_name": "ProgressStyleModel",
          "model_module_version": "1.5.0",
          "state": {
            "_model_module": "@jupyter-widgets/controls",
            "_model_module_version": "1.5.0",
            "_model_name": "ProgressStyleModel",
            "_view_count": null,
            "_view_module": "@jupyter-widgets/base",
            "_view_module_version": "1.2.0",
            "_view_name": "StyleView",
            "bar_color": null,
            "description_width": ""
          }
        },
        "fa410b3b705e484cbdfa23791fb360b0": {
          "model_module": "@jupyter-widgets/base",
          "model_name": "LayoutModel",
          "model_module_version": "1.2.0",
          "state": {
            "_model_module": "@jupyter-widgets/base",
            "_model_module_version": "1.2.0",
            "_model_name": "LayoutModel",
            "_view_count": null,
            "_view_module": "@jupyter-widgets/base",
            "_view_module_version": "1.2.0",
            "_view_name": "LayoutView",
            "align_content": null,
            "align_items": null,
            "align_self": null,
            "border": null,
            "bottom": null,
            "display": null,
            "flex": null,
            "flex_flow": null,
            "grid_area": null,
            "grid_auto_columns": null,
            "grid_auto_flow": null,
            "grid_auto_rows": null,
            "grid_column": null,
            "grid_gap": null,
            "grid_row": null,
            "grid_template_areas": null,
            "grid_template_columns": null,
            "grid_template_rows": null,
            "height": null,
            "justify_content": null,
            "justify_items": null,
            "left": null,
            "margin": null,
            "max_height": null,
            "max_width": null,
            "min_height": null,
            "min_width": null,
            "object_fit": null,
            "object_position": null,
            "order": null,
            "overflow": null,
            "overflow_x": null,
            "overflow_y": null,
            "padding": null,
            "right": null,
            "top": null,
            "visibility": null,
            "width": null
          }
        },
        "65ce939bfa914d14827533c57c106561": {
          "model_module": "@jupyter-widgets/controls",
          "model_name": "DescriptionStyleModel",
          "model_module_version": "1.5.0",
          "state": {
            "_model_module": "@jupyter-widgets/controls",
            "_model_module_version": "1.5.0",
            "_model_name": "DescriptionStyleModel",
            "_view_count": null,
            "_view_module": "@jupyter-widgets/base",
            "_view_module_version": "1.2.0",
            "_view_name": "StyleView",
            "description_width": ""
          }
        },
        "8413d3003b924e4ba96faac72711913b": {
          "model_module": "@jupyter-widgets/controls",
          "model_name": "HBoxModel",
          "model_module_version": "1.5.0",
          "state": {
            "_dom_classes": [],
            "_model_module": "@jupyter-widgets/controls",
            "_model_module_version": "1.5.0",
            "_model_name": "HBoxModel",
            "_view_count": null,
            "_view_module": "@jupyter-widgets/controls",
            "_view_module_version": "1.5.0",
            "_view_name": "HBoxView",
            "box_style": "",
            "children": [
              "IPY_MODEL_980cd40eb0694696a907462ce72389f0",
              "IPY_MODEL_4725c6d29f0e4a2bad8c3a574a742f72",
              "IPY_MODEL_2b41bbf1b81d4f7a862073c2f104bf04"
            ],
            "layout": "IPY_MODEL_1ed19c709a2a49a491b6fb1cf3284b9b"
          }
        },
        "980cd40eb0694696a907462ce72389f0": {
          "model_module": "@jupyter-widgets/controls",
          "model_name": "HTMLModel",
          "model_module_version": "1.5.0",
          "state": {
            "_dom_classes": [],
            "_model_module": "@jupyter-widgets/controls",
            "_model_module_version": "1.5.0",
            "_model_name": "HTMLModel",
            "_view_count": null,
            "_view_module": "@jupyter-widgets/controls",
            "_view_module_version": "1.5.0",
            "_view_name": "HTMLView",
            "description": "",
            "description_tooltip": null,
            "layout": "IPY_MODEL_78fe4aa15c6f4e86aacb348431443e89",
            "placeholder": "​",
            "style": "IPY_MODEL_b541bb84616f4dddaa966b93e0390d94",
            "value": "vocab.txt: 100%"
          }
        },
        "4725c6d29f0e4a2bad8c3a574a742f72": {
          "model_module": "@jupyter-widgets/controls",
          "model_name": "FloatProgressModel",
          "model_module_version": "1.5.0",
          "state": {
            "_dom_classes": [],
            "_model_module": "@jupyter-widgets/controls",
            "_model_module_version": "1.5.0",
            "_model_name": "FloatProgressModel",
            "_view_count": null,
            "_view_module": "@jupyter-widgets/controls",
            "_view_module_version": "1.5.0",
            "_view_name": "ProgressView",
            "bar_style": "success",
            "description": "",
            "description_tooltip": null,
            "layout": "IPY_MODEL_cbff0251551e40329f528128db45a21f",
            "max": 231508,
            "min": 0,
            "orientation": "horizontal",
            "style": "IPY_MODEL_c96c813ec1b44ab49b9d89dcdf002282",
            "value": 231508
          }
        },
        "2b41bbf1b81d4f7a862073c2f104bf04": {
          "model_module": "@jupyter-widgets/controls",
          "model_name": "HTMLModel",
          "model_module_version": "1.5.0",
          "state": {
            "_dom_classes": [],
            "_model_module": "@jupyter-widgets/controls",
            "_model_module_version": "1.5.0",
            "_model_name": "HTMLModel",
            "_view_count": null,
            "_view_module": "@jupyter-widgets/controls",
            "_view_module_version": "1.5.0",
            "_view_name": "HTMLView",
            "description": "",
            "description_tooltip": null,
            "layout": "IPY_MODEL_bbb78aa1beb44a3c92fd6ff02bff09f5",
            "placeholder": "​",
            "style": "IPY_MODEL_878b9e6143c04260bf73a1f65a215124",
            "value": " 232k/232k [00:00&lt;00:00, 1.08MB/s]"
          }
        },
        "1ed19c709a2a49a491b6fb1cf3284b9b": {
          "model_module": "@jupyter-widgets/base",
          "model_name": "LayoutModel",
          "model_module_version": "1.2.0",
          "state": {
            "_model_module": "@jupyter-widgets/base",
            "_model_module_version": "1.2.0",
            "_model_name": "LayoutModel",
            "_view_count": null,
            "_view_module": "@jupyter-widgets/base",
            "_view_module_version": "1.2.0",
            "_view_name": "LayoutView",
            "align_content": null,
            "align_items": null,
            "align_self": null,
            "border": null,
            "bottom": null,
            "display": null,
            "flex": null,
            "flex_flow": null,
            "grid_area": null,
            "grid_auto_columns": null,
            "grid_auto_flow": null,
            "grid_auto_rows": null,
            "grid_column": null,
            "grid_gap": null,
            "grid_row": null,
            "grid_template_areas": null,
            "grid_template_columns": null,
            "grid_template_rows": null,
            "height": null,
            "justify_content": null,
            "justify_items": null,
            "left": null,
            "margin": null,
            "max_height": null,
            "max_width": null,
            "min_height": null,
            "min_width": null,
            "object_fit": null,
            "object_position": null,
            "order": null,
            "overflow": null,
            "overflow_x": null,
            "overflow_y": null,
            "padding": null,
            "right": null,
            "top": null,
            "visibility": null,
            "width": null
          }
        },
        "78fe4aa15c6f4e86aacb348431443e89": {
          "model_module": "@jupyter-widgets/base",
          "model_name": "LayoutModel",
          "model_module_version": "1.2.0",
          "state": {
            "_model_module": "@jupyter-widgets/base",
            "_model_module_version": "1.2.0",
            "_model_name": "LayoutModel",
            "_view_count": null,
            "_view_module": "@jupyter-widgets/base",
            "_view_module_version": "1.2.0",
            "_view_name": "LayoutView",
            "align_content": null,
            "align_items": null,
            "align_self": null,
            "border": null,
            "bottom": null,
            "display": null,
            "flex": null,
            "flex_flow": null,
            "grid_area": null,
            "grid_auto_columns": null,
            "grid_auto_flow": null,
            "grid_auto_rows": null,
            "grid_column": null,
            "grid_gap": null,
            "grid_row": null,
            "grid_template_areas": null,
            "grid_template_columns": null,
            "grid_template_rows": null,
            "height": null,
            "justify_content": null,
            "justify_items": null,
            "left": null,
            "margin": null,
            "max_height": null,
            "max_width": null,
            "min_height": null,
            "min_width": null,
            "object_fit": null,
            "object_position": null,
            "order": null,
            "overflow": null,
            "overflow_x": null,
            "overflow_y": null,
            "padding": null,
            "right": null,
            "top": null,
            "visibility": null,
            "width": null
          }
        },
        "b541bb84616f4dddaa966b93e0390d94": {
          "model_module": "@jupyter-widgets/controls",
          "model_name": "DescriptionStyleModel",
          "model_module_version": "1.5.0",
          "state": {
            "_model_module": "@jupyter-widgets/controls",
            "_model_module_version": "1.5.0",
            "_model_name": "DescriptionStyleModel",
            "_view_count": null,
            "_view_module": "@jupyter-widgets/base",
            "_view_module_version": "1.2.0",
            "_view_name": "StyleView",
            "description_width": ""
          }
        },
        "cbff0251551e40329f528128db45a21f": {
          "model_module": "@jupyter-widgets/base",
          "model_name": "LayoutModel",
          "model_module_version": "1.2.0",
          "state": {
            "_model_module": "@jupyter-widgets/base",
            "_model_module_version": "1.2.0",
            "_model_name": "LayoutModel",
            "_view_count": null,
            "_view_module": "@jupyter-widgets/base",
            "_view_module_version": "1.2.0",
            "_view_name": "LayoutView",
            "align_content": null,
            "align_items": null,
            "align_self": null,
            "border": null,
            "bottom": null,
            "display": null,
            "flex": null,
            "flex_flow": null,
            "grid_area": null,
            "grid_auto_columns": null,
            "grid_auto_flow": null,
            "grid_auto_rows": null,
            "grid_column": null,
            "grid_gap": null,
            "grid_row": null,
            "grid_template_areas": null,
            "grid_template_columns": null,
            "grid_template_rows": null,
            "height": null,
            "justify_content": null,
            "justify_items": null,
            "left": null,
            "margin": null,
            "max_height": null,
            "max_width": null,
            "min_height": null,
            "min_width": null,
            "object_fit": null,
            "object_position": null,
            "order": null,
            "overflow": null,
            "overflow_x": null,
            "overflow_y": null,
            "padding": null,
            "right": null,
            "top": null,
            "visibility": null,
            "width": null
          }
        },
        "c96c813ec1b44ab49b9d89dcdf002282": {
          "model_module": "@jupyter-widgets/controls",
          "model_name": "ProgressStyleModel",
          "model_module_version": "1.5.0",
          "state": {
            "_model_module": "@jupyter-widgets/controls",
            "_model_module_version": "1.5.0",
            "_model_name": "ProgressStyleModel",
            "_view_count": null,
            "_view_module": "@jupyter-widgets/base",
            "_view_module_version": "1.2.0",
            "_view_name": "StyleView",
            "bar_color": null,
            "description_width": ""
          }
        },
        "bbb78aa1beb44a3c92fd6ff02bff09f5": {
          "model_module": "@jupyter-widgets/base",
          "model_name": "LayoutModel",
          "model_module_version": "1.2.0",
          "state": {
            "_model_module": "@jupyter-widgets/base",
            "_model_module_version": "1.2.0",
            "_model_name": "LayoutModel",
            "_view_count": null,
            "_view_module": "@jupyter-widgets/base",
            "_view_module_version": "1.2.0",
            "_view_name": "LayoutView",
            "align_content": null,
            "align_items": null,
            "align_self": null,
            "border": null,
            "bottom": null,
            "display": null,
            "flex": null,
            "flex_flow": null,
            "grid_area": null,
            "grid_auto_columns": null,
            "grid_auto_flow": null,
            "grid_auto_rows": null,
            "grid_column": null,
            "grid_gap": null,
            "grid_row": null,
            "grid_template_areas": null,
            "grid_template_columns": null,
            "grid_template_rows": null,
            "height": null,
            "justify_content": null,
            "justify_items": null,
            "left": null,
            "margin": null,
            "max_height": null,
            "max_width": null,
            "min_height": null,
            "min_width": null,
            "object_fit": null,
            "object_position": null,
            "order": null,
            "overflow": null,
            "overflow_x": null,
            "overflow_y": null,
            "padding": null,
            "right": null,
            "top": null,
            "visibility": null,
            "width": null
          }
        },
        "878b9e6143c04260bf73a1f65a215124": {
          "model_module": "@jupyter-widgets/controls",
          "model_name": "DescriptionStyleModel",
          "model_module_version": "1.5.0",
          "state": {
            "_model_module": "@jupyter-widgets/controls",
            "_model_module_version": "1.5.0",
            "_model_name": "DescriptionStyleModel",
            "_view_count": null,
            "_view_module": "@jupyter-widgets/base",
            "_view_module_version": "1.2.0",
            "_view_name": "StyleView",
            "description_width": ""
          }
        },
        "fbd1bcc6096d4498b9e4012d5bdfabf4": {
          "model_module": "@jupyter-widgets/controls",
          "model_name": "HBoxModel",
          "model_module_version": "1.5.0",
          "state": {
            "_dom_classes": [],
            "_model_module": "@jupyter-widgets/controls",
            "_model_module_version": "1.5.0",
            "_model_name": "HBoxModel",
            "_view_count": null,
            "_view_module": "@jupyter-widgets/controls",
            "_view_module_version": "1.5.0",
            "_view_name": "HBoxView",
            "box_style": "",
            "children": [
              "IPY_MODEL_bcadaf5cbe494cef9633614758a0bb75",
              "IPY_MODEL_c0ac5bf1da954479a28149b4d32d9086",
              "IPY_MODEL_52c860ba66c74573bbc9f0175465680a"
            ],
            "layout": "IPY_MODEL_187e02b84c9a405abb7c1a7b7d021412"
          }
        },
        "bcadaf5cbe494cef9633614758a0bb75": {
          "model_module": "@jupyter-widgets/controls",
          "model_name": "HTMLModel",
          "model_module_version": "1.5.0",
          "state": {
            "_dom_classes": [],
            "_model_module": "@jupyter-widgets/controls",
            "_model_module_version": "1.5.0",
            "_model_name": "HTMLModel",
            "_view_count": null,
            "_view_module": "@jupyter-widgets/controls",
            "_view_module_version": "1.5.0",
            "_view_name": "HTMLView",
            "description": "",
            "description_tooltip": null,
            "layout": "IPY_MODEL_5216eb36dd90453083e2e26539c37408",
            "placeholder": "​",
            "style": "IPY_MODEL_1e8baa8ad225423892f65e225b26600d",
            "value": "tokenizer.json: 100%"
          }
        },
        "c0ac5bf1da954479a28149b4d32d9086": {
          "model_module": "@jupyter-widgets/controls",
          "model_name": "FloatProgressModel",
          "model_module_version": "1.5.0",
          "state": {
            "_dom_classes": [],
            "_model_module": "@jupyter-widgets/controls",
            "_model_module_version": "1.5.0",
            "_model_name": "FloatProgressModel",
            "_view_count": null,
            "_view_module": "@jupyter-widgets/controls",
            "_view_module_version": "1.5.0",
            "_view_name": "ProgressView",
            "bar_style": "success",
            "description": "",
            "description_tooltip": null,
            "layout": "IPY_MODEL_d67c712d30ac466191112e91d1a42a15",
            "max": 466062,
            "min": 0,
            "orientation": "horizontal",
            "style": "IPY_MODEL_00eaa7c784a144389aea287c98aa66e7",
            "value": 466062
          }
        },
        "52c860ba66c74573bbc9f0175465680a": {
          "model_module": "@jupyter-widgets/controls",
          "model_name": "HTMLModel",
          "model_module_version": "1.5.0",
          "state": {
            "_dom_classes": [],
            "_model_module": "@jupyter-widgets/controls",
            "_model_module_version": "1.5.0",
            "_model_name": "HTMLModel",
            "_view_count": null,
            "_view_module": "@jupyter-widgets/controls",
            "_view_module_version": "1.5.0",
            "_view_name": "HTMLView",
            "description": "",
            "description_tooltip": null,
            "layout": "IPY_MODEL_705de0880b424513bc3ce3df26d6080e",
            "placeholder": "​",
            "style": "IPY_MODEL_b852c940f8d040d79762ec2477b52184",
            "value": " 466k/466k [00:00&lt;00:00, 33.8MB/s]"
          }
        },
        "187e02b84c9a405abb7c1a7b7d021412": {
          "model_module": "@jupyter-widgets/base",
          "model_name": "LayoutModel",
          "model_module_version": "1.2.0",
          "state": {
            "_model_module": "@jupyter-widgets/base",
            "_model_module_version": "1.2.0",
            "_model_name": "LayoutModel",
            "_view_count": null,
            "_view_module": "@jupyter-widgets/base",
            "_view_module_version": "1.2.0",
            "_view_name": "LayoutView",
            "align_content": null,
            "align_items": null,
            "align_self": null,
            "border": null,
            "bottom": null,
            "display": null,
            "flex": null,
            "flex_flow": null,
            "grid_area": null,
            "grid_auto_columns": null,
            "grid_auto_flow": null,
            "grid_auto_rows": null,
            "grid_column": null,
            "grid_gap": null,
            "grid_row": null,
            "grid_template_areas": null,
            "grid_template_columns": null,
            "grid_template_rows": null,
            "height": null,
            "justify_content": null,
            "justify_items": null,
            "left": null,
            "margin": null,
            "max_height": null,
            "max_width": null,
            "min_height": null,
            "min_width": null,
            "object_fit": null,
            "object_position": null,
            "order": null,
            "overflow": null,
            "overflow_x": null,
            "overflow_y": null,
            "padding": null,
            "right": null,
            "top": null,
            "visibility": null,
            "width": null
          }
        },
        "5216eb36dd90453083e2e26539c37408": {
          "model_module": "@jupyter-widgets/base",
          "model_name": "LayoutModel",
          "model_module_version": "1.2.0",
          "state": {
            "_model_module": "@jupyter-widgets/base",
            "_model_module_version": "1.2.0",
            "_model_name": "LayoutModel",
            "_view_count": null,
            "_view_module": "@jupyter-widgets/base",
            "_view_module_version": "1.2.0",
            "_view_name": "LayoutView",
            "align_content": null,
            "align_items": null,
            "align_self": null,
            "border": null,
            "bottom": null,
            "display": null,
            "flex": null,
            "flex_flow": null,
            "grid_area": null,
            "grid_auto_columns": null,
            "grid_auto_flow": null,
            "grid_auto_rows": null,
            "grid_column": null,
            "grid_gap": null,
            "grid_row": null,
            "grid_template_areas": null,
            "grid_template_columns": null,
            "grid_template_rows": null,
            "height": null,
            "justify_content": null,
            "justify_items": null,
            "left": null,
            "margin": null,
            "max_height": null,
            "max_width": null,
            "min_height": null,
            "min_width": null,
            "object_fit": null,
            "object_position": null,
            "order": null,
            "overflow": null,
            "overflow_x": null,
            "overflow_y": null,
            "padding": null,
            "right": null,
            "top": null,
            "visibility": null,
            "width": null
          }
        },
        "1e8baa8ad225423892f65e225b26600d": {
          "model_module": "@jupyter-widgets/controls",
          "model_name": "DescriptionStyleModel",
          "model_module_version": "1.5.0",
          "state": {
            "_model_module": "@jupyter-widgets/controls",
            "_model_module_version": "1.5.0",
            "_model_name": "DescriptionStyleModel",
            "_view_count": null,
            "_view_module": "@jupyter-widgets/base",
            "_view_module_version": "1.2.0",
            "_view_name": "StyleView",
            "description_width": ""
          }
        },
        "d67c712d30ac466191112e91d1a42a15": {
          "model_module": "@jupyter-widgets/base",
          "model_name": "LayoutModel",
          "model_module_version": "1.2.0",
          "state": {
            "_model_module": "@jupyter-widgets/base",
            "_model_module_version": "1.2.0",
            "_model_name": "LayoutModel",
            "_view_count": null,
            "_view_module": "@jupyter-widgets/base",
            "_view_module_version": "1.2.0",
            "_view_name": "LayoutView",
            "align_content": null,
            "align_items": null,
            "align_self": null,
            "border": null,
            "bottom": null,
            "display": null,
            "flex": null,
            "flex_flow": null,
            "grid_area": null,
            "grid_auto_columns": null,
            "grid_auto_flow": null,
            "grid_auto_rows": null,
            "grid_column": null,
            "grid_gap": null,
            "grid_row": null,
            "grid_template_areas": null,
            "grid_template_columns": null,
            "grid_template_rows": null,
            "height": null,
            "justify_content": null,
            "justify_items": null,
            "left": null,
            "margin": null,
            "max_height": null,
            "max_width": null,
            "min_height": null,
            "min_width": null,
            "object_fit": null,
            "object_position": null,
            "order": null,
            "overflow": null,
            "overflow_x": null,
            "overflow_y": null,
            "padding": null,
            "right": null,
            "top": null,
            "visibility": null,
            "width": null
          }
        },
        "00eaa7c784a144389aea287c98aa66e7": {
          "model_module": "@jupyter-widgets/controls",
          "model_name": "ProgressStyleModel",
          "model_module_version": "1.5.0",
          "state": {
            "_model_module": "@jupyter-widgets/controls",
            "_model_module_version": "1.5.0",
            "_model_name": "ProgressStyleModel",
            "_view_count": null,
            "_view_module": "@jupyter-widgets/base",
            "_view_module_version": "1.2.0",
            "_view_name": "StyleView",
            "bar_color": null,
            "description_width": ""
          }
        },
        "705de0880b424513bc3ce3df26d6080e": {
          "model_module": "@jupyter-widgets/base",
          "model_name": "LayoutModel",
          "model_module_version": "1.2.0",
          "state": {
            "_model_module": "@jupyter-widgets/base",
            "_model_module_version": "1.2.0",
            "_model_name": "LayoutModel",
            "_view_count": null,
            "_view_module": "@jupyter-widgets/base",
            "_view_module_version": "1.2.0",
            "_view_name": "LayoutView",
            "align_content": null,
            "align_items": null,
            "align_self": null,
            "border": null,
            "bottom": null,
            "display": null,
            "flex": null,
            "flex_flow": null,
            "grid_area": null,
            "grid_auto_columns": null,
            "grid_auto_flow": null,
            "grid_auto_rows": null,
            "grid_column": null,
            "grid_gap": null,
            "grid_row": null,
            "grid_template_areas": null,
            "grid_template_columns": null,
            "grid_template_rows": null,
            "height": null,
            "justify_content": null,
            "justify_items": null,
            "left": null,
            "margin": null,
            "max_height": null,
            "max_width": null,
            "min_height": null,
            "min_width": null,
            "object_fit": null,
            "object_position": null,
            "order": null,
            "overflow": null,
            "overflow_x": null,
            "overflow_y": null,
            "padding": null,
            "right": null,
            "top": null,
            "visibility": null,
            "width": null
          }
        },
        "b852c940f8d040d79762ec2477b52184": {
          "model_module": "@jupyter-widgets/controls",
          "model_name": "DescriptionStyleModel",
          "model_module_version": "1.5.0",
          "state": {
            "_model_module": "@jupyter-widgets/controls",
            "_model_module_version": "1.5.0",
            "_model_name": "DescriptionStyleModel",
            "_view_count": null,
            "_view_module": "@jupyter-widgets/base",
            "_view_module_version": "1.2.0",
            "_view_name": "StyleView",
            "description_width": ""
          }
        },
        "072c950793f2402881f0af0d4e535563": {
          "model_module": "@jupyter-widgets/controls",
          "model_name": "HBoxModel",
          "model_module_version": "1.5.0",
          "state": {
            "_dom_classes": [],
            "_model_module": "@jupyter-widgets/controls",
            "_model_module_version": "1.5.0",
            "_model_name": "HBoxModel",
            "_view_count": null,
            "_view_module": "@jupyter-widgets/controls",
            "_view_module_version": "1.5.0",
            "_view_name": "HBoxView",
            "box_style": "",
            "children": [
              "IPY_MODEL_0a3b5b43570e4339a0ff960411fa1434",
              "IPY_MODEL_b080ba4ecb8a4a1aa0cb953b7b7e11d8",
              "IPY_MODEL_fd86506c20f2448d9462d3f6e860579b"
            ],
            "layout": "IPY_MODEL_c5c93886436c442bad9398f3d54ad373"
          }
        },
        "0a3b5b43570e4339a0ff960411fa1434": {
          "model_module": "@jupyter-widgets/controls",
          "model_name": "HTMLModel",
          "model_module_version": "1.5.0",
          "state": {
            "_dom_classes": [],
            "_model_module": "@jupyter-widgets/controls",
            "_model_module_version": "1.5.0",
            "_model_name": "HTMLModel",
            "_view_count": null,
            "_view_module": "@jupyter-widgets/controls",
            "_view_module_version": "1.5.0",
            "_view_name": "HTMLView",
            "description": "",
            "description_tooltip": null,
            "layout": "IPY_MODEL_51ee83ef70c2441397ec935b35db9eb2",
            "placeholder": "​",
            "style": "IPY_MODEL_315af32377b64a649e4ee66428e2ec99",
            "value": "config.json: 100%"
          }
        },
        "b080ba4ecb8a4a1aa0cb953b7b7e11d8": {
          "model_module": "@jupyter-widgets/controls",
          "model_name": "FloatProgressModel",
          "model_module_version": "1.5.0",
          "state": {
            "_dom_classes": [],
            "_model_module": "@jupyter-widgets/controls",
            "_model_module_version": "1.5.0",
            "_model_name": "FloatProgressModel",
            "_view_count": null,
            "_view_module": "@jupyter-widgets/controls",
            "_view_module_version": "1.5.0",
            "_view_name": "ProgressView",
            "bar_style": "success",
            "description": "",
            "description_tooltip": null,
            "layout": "IPY_MODEL_076bd81b2afc4864b4b93090d23f8e01",
            "max": 483,
            "min": 0,
            "orientation": "horizontal",
            "style": "IPY_MODEL_1b65b1208a0649259c2d5955b7524265",
            "value": 483
          }
        },
        "fd86506c20f2448d9462d3f6e860579b": {
          "model_module": "@jupyter-widgets/controls",
          "model_name": "HTMLModel",
          "model_module_version": "1.5.0",
          "state": {
            "_dom_classes": [],
            "_model_module": "@jupyter-widgets/controls",
            "_model_module_version": "1.5.0",
            "_model_name": "HTMLModel",
            "_view_count": null,
            "_view_module": "@jupyter-widgets/controls",
            "_view_module_version": "1.5.0",
            "_view_name": "HTMLView",
            "description": "",
            "description_tooltip": null,
            "layout": "IPY_MODEL_6ee4130faa4a4a24bb43faebaa9424c8",
            "placeholder": "​",
            "style": "IPY_MODEL_f45fa986cf794ce59884c9a01c7da314",
            "value": " 483/483 [00:00&lt;00:00, 59.4kB/s]"
          }
        },
        "c5c93886436c442bad9398f3d54ad373": {
          "model_module": "@jupyter-widgets/base",
          "model_name": "LayoutModel",
          "model_module_version": "1.2.0",
          "state": {
            "_model_module": "@jupyter-widgets/base",
            "_model_module_version": "1.2.0",
            "_model_name": "LayoutModel",
            "_view_count": null,
            "_view_module": "@jupyter-widgets/base",
            "_view_module_version": "1.2.0",
            "_view_name": "LayoutView",
            "align_content": null,
            "align_items": null,
            "align_self": null,
            "border": null,
            "bottom": null,
            "display": null,
            "flex": null,
            "flex_flow": null,
            "grid_area": null,
            "grid_auto_columns": null,
            "grid_auto_flow": null,
            "grid_auto_rows": null,
            "grid_column": null,
            "grid_gap": null,
            "grid_row": null,
            "grid_template_areas": null,
            "grid_template_columns": null,
            "grid_template_rows": null,
            "height": null,
            "justify_content": null,
            "justify_items": null,
            "left": null,
            "margin": null,
            "max_height": null,
            "max_width": null,
            "min_height": null,
            "min_width": null,
            "object_fit": null,
            "object_position": null,
            "order": null,
            "overflow": null,
            "overflow_x": null,
            "overflow_y": null,
            "padding": null,
            "right": null,
            "top": null,
            "visibility": null,
            "width": null
          }
        },
        "51ee83ef70c2441397ec935b35db9eb2": {
          "model_module": "@jupyter-widgets/base",
          "model_name": "LayoutModel",
          "model_module_version": "1.2.0",
          "state": {
            "_model_module": "@jupyter-widgets/base",
            "_model_module_version": "1.2.0",
            "_model_name": "LayoutModel",
            "_view_count": null,
            "_view_module": "@jupyter-widgets/base",
            "_view_module_version": "1.2.0",
            "_view_name": "LayoutView",
            "align_content": null,
            "align_items": null,
            "align_self": null,
            "border": null,
            "bottom": null,
            "display": null,
            "flex": null,
            "flex_flow": null,
            "grid_area": null,
            "grid_auto_columns": null,
            "grid_auto_flow": null,
            "grid_auto_rows": null,
            "grid_column": null,
            "grid_gap": null,
            "grid_row": null,
            "grid_template_areas": null,
            "grid_template_columns": null,
            "grid_template_rows": null,
            "height": null,
            "justify_content": null,
            "justify_items": null,
            "left": null,
            "margin": null,
            "max_height": null,
            "max_width": null,
            "min_height": null,
            "min_width": null,
            "object_fit": null,
            "object_position": null,
            "order": null,
            "overflow": null,
            "overflow_x": null,
            "overflow_y": null,
            "padding": null,
            "right": null,
            "top": null,
            "visibility": null,
            "width": null
          }
        },
        "315af32377b64a649e4ee66428e2ec99": {
          "model_module": "@jupyter-widgets/controls",
          "model_name": "DescriptionStyleModel",
          "model_module_version": "1.5.0",
          "state": {
            "_model_module": "@jupyter-widgets/controls",
            "_model_module_version": "1.5.0",
            "_model_name": "DescriptionStyleModel",
            "_view_count": null,
            "_view_module": "@jupyter-widgets/base",
            "_view_module_version": "1.2.0",
            "_view_name": "StyleView",
            "description_width": ""
          }
        },
        "076bd81b2afc4864b4b93090d23f8e01": {
          "model_module": "@jupyter-widgets/base",
          "model_name": "LayoutModel",
          "model_module_version": "1.2.0",
          "state": {
            "_model_module": "@jupyter-widgets/base",
            "_model_module_version": "1.2.0",
            "_model_name": "LayoutModel",
            "_view_count": null,
            "_view_module": "@jupyter-widgets/base",
            "_view_module_version": "1.2.0",
            "_view_name": "LayoutView",
            "align_content": null,
            "align_items": null,
            "align_self": null,
            "border": null,
            "bottom": null,
            "display": null,
            "flex": null,
            "flex_flow": null,
            "grid_area": null,
            "grid_auto_columns": null,
            "grid_auto_flow": null,
            "grid_auto_rows": null,
            "grid_column": null,
            "grid_gap": null,
            "grid_row": null,
            "grid_template_areas": null,
            "grid_template_columns": null,
            "grid_template_rows": null,
            "height": null,
            "justify_content": null,
            "justify_items": null,
            "left": null,
            "margin": null,
            "max_height": null,
            "max_width": null,
            "min_height": null,
            "min_width": null,
            "object_fit": null,
            "object_position": null,
            "order": null,
            "overflow": null,
            "overflow_x": null,
            "overflow_y": null,
            "padding": null,
            "right": null,
            "top": null,
            "visibility": null,
            "width": null
          }
        },
        "1b65b1208a0649259c2d5955b7524265": {
          "model_module": "@jupyter-widgets/controls",
          "model_name": "ProgressStyleModel",
          "model_module_version": "1.5.0",
          "state": {
            "_model_module": "@jupyter-widgets/controls",
            "_model_module_version": "1.5.0",
            "_model_name": "ProgressStyleModel",
            "_view_count": null,
            "_view_module": "@jupyter-widgets/base",
            "_view_module_version": "1.2.0",
            "_view_name": "StyleView",
            "bar_color": null,
            "description_width": ""
          }
        },
        "6ee4130faa4a4a24bb43faebaa9424c8": {
          "model_module": "@jupyter-widgets/base",
          "model_name": "LayoutModel",
          "model_module_version": "1.2.0",
          "state": {
            "_model_module": "@jupyter-widgets/base",
            "_model_module_version": "1.2.0",
            "_model_name": "LayoutModel",
            "_view_count": null,
            "_view_module": "@jupyter-widgets/base",
            "_view_module_version": "1.2.0",
            "_view_name": "LayoutView",
            "align_content": null,
            "align_items": null,
            "align_self": null,
            "border": null,
            "bottom": null,
            "display": null,
            "flex": null,
            "flex_flow": null,
            "grid_area": null,
            "grid_auto_columns": null,
            "grid_auto_flow": null,
            "grid_auto_rows": null,
            "grid_column": null,
            "grid_gap": null,
            "grid_row": null,
            "grid_template_areas": null,
            "grid_template_columns": null,
            "grid_template_rows": null,
            "height": null,
            "justify_content": null,
            "justify_items": null,
            "left": null,
            "margin": null,
            "max_height": null,
            "max_width": null,
            "min_height": null,
            "min_width": null,
            "object_fit": null,
            "object_position": null,
            "order": null,
            "overflow": null,
            "overflow_x": null,
            "overflow_y": null,
            "padding": null,
            "right": null,
            "top": null,
            "visibility": null,
            "width": null
          }
        },
        "f45fa986cf794ce59884c9a01c7da314": {
          "model_module": "@jupyter-widgets/controls",
          "model_name": "DescriptionStyleModel",
          "model_module_version": "1.5.0",
          "state": {
            "_model_module": "@jupyter-widgets/controls",
            "_model_module_version": "1.5.0",
            "_model_name": "DescriptionStyleModel",
            "_view_count": null,
            "_view_module": "@jupyter-widgets/base",
            "_view_module_version": "1.2.0",
            "_view_name": "StyleView",
            "description_width": ""
          }
        },
        "2326d34e40f542d099b95202d20355f9": {
          "model_module": "@jupyter-widgets/controls",
          "model_name": "HBoxModel",
          "model_module_version": "1.5.0",
          "state": {
            "_dom_classes": [],
            "_model_module": "@jupyter-widgets/controls",
            "_model_module_version": "1.5.0",
            "_model_name": "HBoxModel",
            "_view_count": null,
            "_view_module": "@jupyter-widgets/controls",
            "_view_module_version": "1.5.0",
            "_view_name": "HBoxView",
            "box_style": "",
            "children": [
              "IPY_MODEL_02f6fe3d5bfe4b729547b097009d05e1",
              "IPY_MODEL_dcee39d7a09c47ef83c58dc7232e52c2",
              "IPY_MODEL_6bea49b11f594f04b9bd0695a769cd7c"
            ],
            "layout": "IPY_MODEL_9141e4772c7f438caeeefa7512d7bb1b"
          }
        },
        "02f6fe3d5bfe4b729547b097009d05e1": {
          "model_module": "@jupyter-widgets/controls",
          "model_name": "HTMLModel",
          "model_module_version": "1.5.0",
          "state": {
            "_dom_classes": [],
            "_model_module": "@jupyter-widgets/controls",
            "_model_module_version": "1.5.0",
            "_model_name": "HTMLModel",
            "_view_count": null,
            "_view_module": "@jupyter-widgets/controls",
            "_view_module_version": "1.5.0",
            "_view_name": "HTMLView",
            "description": "",
            "description_tooltip": null,
            "layout": "IPY_MODEL_38e7880212714392abf49496a4b8f27c",
            "placeholder": "​",
            "style": "IPY_MODEL_b4095368dc0c44619b3db7ac0b7b24b9",
            "value": "model.safetensors: 100%"
          }
        },
        "dcee39d7a09c47ef83c58dc7232e52c2": {
          "model_module": "@jupyter-widgets/controls",
          "model_name": "FloatProgressModel",
          "model_module_version": "1.5.0",
          "state": {
            "_dom_classes": [],
            "_model_module": "@jupyter-widgets/controls",
            "_model_module_version": "1.5.0",
            "_model_name": "FloatProgressModel",
            "_view_count": null,
            "_view_module": "@jupyter-widgets/controls",
            "_view_module_version": "1.5.0",
            "_view_name": "ProgressView",
            "bar_style": "success",
            "description": "",
            "description_tooltip": null,
            "layout": "IPY_MODEL_0f0da55df0884426b68fd3a1dede676d",
            "max": 267954768,
            "min": 0,
            "orientation": "horizontal",
            "style": "IPY_MODEL_184ca626087041918dc7ddc8caef8af7",
            "value": 267954768
          }
        },
        "6bea49b11f594f04b9bd0695a769cd7c": {
          "model_module": "@jupyter-widgets/controls",
          "model_name": "HTMLModel",
          "model_module_version": "1.5.0",
          "state": {
            "_dom_classes": [],
            "_model_module": "@jupyter-widgets/controls",
            "_model_module_version": "1.5.0",
            "_model_name": "HTMLModel",
            "_view_count": null,
            "_view_module": "@jupyter-widgets/controls",
            "_view_module_version": "1.5.0",
            "_view_name": "HTMLView",
            "description": "",
            "description_tooltip": null,
            "layout": "IPY_MODEL_c48e0932e8c845778ea4889051e47b9d",
            "placeholder": "​",
            "style": "IPY_MODEL_d1c73ea75af643608f2a2a99725f9f62",
            "value": " 268M/268M [00:01&lt;00:00, 299MB/s]"
          }
        },
        "9141e4772c7f438caeeefa7512d7bb1b": {
          "model_module": "@jupyter-widgets/base",
          "model_name": "LayoutModel",
          "model_module_version": "1.2.0",
          "state": {
            "_model_module": "@jupyter-widgets/base",
            "_model_module_version": "1.2.0",
            "_model_name": "LayoutModel",
            "_view_count": null,
            "_view_module": "@jupyter-widgets/base",
            "_view_module_version": "1.2.0",
            "_view_name": "LayoutView",
            "align_content": null,
            "align_items": null,
            "align_self": null,
            "border": null,
            "bottom": null,
            "display": null,
            "flex": null,
            "flex_flow": null,
            "grid_area": null,
            "grid_auto_columns": null,
            "grid_auto_flow": null,
            "grid_auto_rows": null,
            "grid_column": null,
            "grid_gap": null,
            "grid_row": null,
            "grid_template_areas": null,
            "grid_template_columns": null,
            "grid_template_rows": null,
            "height": null,
            "justify_content": null,
            "justify_items": null,
            "left": null,
            "margin": null,
            "max_height": null,
            "max_width": null,
            "min_height": null,
            "min_width": null,
            "object_fit": null,
            "object_position": null,
            "order": null,
            "overflow": null,
            "overflow_x": null,
            "overflow_y": null,
            "padding": null,
            "right": null,
            "top": null,
            "visibility": null,
            "width": null
          }
        },
        "38e7880212714392abf49496a4b8f27c": {
          "model_module": "@jupyter-widgets/base",
          "model_name": "LayoutModel",
          "model_module_version": "1.2.0",
          "state": {
            "_model_module": "@jupyter-widgets/base",
            "_model_module_version": "1.2.0",
            "_model_name": "LayoutModel",
            "_view_count": null,
            "_view_module": "@jupyter-widgets/base",
            "_view_module_version": "1.2.0",
            "_view_name": "LayoutView",
            "align_content": null,
            "align_items": null,
            "align_self": null,
            "border": null,
            "bottom": null,
            "display": null,
            "flex": null,
            "flex_flow": null,
            "grid_area": null,
            "grid_auto_columns": null,
            "grid_auto_flow": null,
            "grid_auto_rows": null,
            "grid_column": null,
            "grid_gap": null,
            "grid_row": null,
            "grid_template_areas": null,
            "grid_template_columns": null,
            "grid_template_rows": null,
            "height": null,
            "justify_content": null,
            "justify_items": null,
            "left": null,
            "margin": null,
            "max_height": null,
            "max_width": null,
            "min_height": null,
            "min_width": null,
            "object_fit": null,
            "object_position": null,
            "order": null,
            "overflow": null,
            "overflow_x": null,
            "overflow_y": null,
            "padding": null,
            "right": null,
            "top": null,
            "visibility": null,
            "width": null
          }
        },
        "b4095368dc0c44619b3db7ac0b7b24b9": {
          "model_module": "@jupyter-widgets/controls",
          "model_name": "DescriptionStyleModel",
          "model_module_version": "1.5.0",
          "state": {
            "_model_module": "@jupyter-widgets/controls",
            "_model_module_version": "1.5.0",
            "_model_name": "DescriptionStyleModel",
            "_view_count": null,
            "_view_module": "@jupyter-widgets/base",
            "_view_module_version": "1.2.0",
            "_view_name": "StyleView",
            "description_width": ""
          }
        },
        "0f0da55df0884426b68fd3a1dede676d": {
          "model_module": "@jupyter-widgets/base",
          "model_name": "LayoutModel",
          "model_module_version": "1.2.0",
          "state": {
            "_model_module": "@jupyter-widgets/base",
            "_model_module_version": "1.2.0",
            "_model_name": "LayoutModel",
            "_view_count": null,
            "_view_module": "@jupyter-widgets/base",
            "_view_module_version": "1.2.0",
            "_view_name": "LayoutView",
            "align_content": null,
            "align_items": null,
            "align_self": null,
            "border": null,
            "bottom": null,
            "display": null,
            "flex": null,
            "flex_flow": null,
            "grid_area": null,
            "grid_auto_columns": null,
            "grid_auto_flow": null,
            "grid_auto_rows": null,
            "grid_column": null,
            "grid_gap": null,
            "grid_row": null,
            "grid_template_areas": null,
            "grid_template_columns": null,
            "grid_template_rows": null,
            "height": null,
            "justify_content": null,
            "justify_items": null,
            "left": null,
            "margin": null,
            "max_height": null,
            "max_width": null,
            "min_height": null,
            "min_width": null,
            "object_fit": null,
            "object_position": null,
            "order": null,
            "overflow": null,
            "overflow_x": null,
            "overflow_y": null,
            "padding": null,
            "right": null,
            "top": null,
            "visibility": null,
            "width": null
          }
        },
        "184ca626087041918dc7ddc8caef8af7": {
          "model_module": "@jupyter-widgets/controls",
          "model_name": "ProgressStyleModel",
          "model_module_version": "1.5.0",
          "state": {
            "_model_module": "@jupyter-widgets/controls",
            "_model_module_version": "1.5.0",
            "_model_name": "ProgressStyleModel",
            "_view_count": null,
            "_view_module": "@jupyter-widgets/base",
            "_view_module_version": "1.2.0",
            "_view_name": "StyleView",
            "bar_color": null,
            "description_width": ""
          }
        },
        "c48e0932e8c845778ea4889051e47b9d": {
          "model_module": "@jupyter-widgets/base",
          "model_name": "LayoutModel",
          "model_module_version": "1.2.0",
          "state": {
            "_model_module": "@jupyter-widgets/base",
            "_model_module_version": "1.2.0",
            "_model_name": "LayoutModel",
            "_view_count": null,
            "_view_module": "@jupyter-widgets/base",
            "_view_module_version": "1.2.0",
            "_view_name": "LayoutView",
            "align_content": null,
            "align_items": null,
            "align_self": null,
            "border": null,
            "bottom": null,
            "display": null,
            "flex": null,
            "flex_flow": null,
            "grid_area": null,
            "grid_auto_columns": null,
            "grid_auto_flow": null,
            "grid_auto_rows": null,
            "grid_column": null,
            "grid_gap": null,
            "grid_row": null,
            "grid_template_areas": null,
            "grid_template_columns": null,
            "grid_template_rows": null,
            "height": null,
            "justify_content": null,
            "justify_items": null,
            "left": null,
            "margin": null,
            "max_height": null,
            "max_width": null,
            "min_height": null,
            "min_width": null,
            "object_fit": null,
            "object_position": null,
            "order": null,
            "overflow": null,
            "overflow_x": null,
            "overflow_y": null,
            "padding": null,
            "right": null,
            "top": null,
            "visibility": null,
            "width": null
          }
        },
        "d1c73ea75af643608f2a2a99725f9f62": {
          "model_module": "@jupyter-widgets/controls",
          "model_name": "DescriptionStyleModel",
          "model_module_version": "1.5.0",
          "state": {
            "_model_module": "@jupyter-widgets/controls",
            "_model_module_version": "1.5.0",
            "_model_name": "DescriptionStyleModel",
            "_view_count": null,
            "_view_module": "@jupyter-widgets/base",
            "_view_module_version": "1.2.0",
            "_view_name": "StyleView",
            "description_width": ""
          }
        }
      }
    }
  },
  "nbformat": 4,
  "nbformat_minor": 0
}